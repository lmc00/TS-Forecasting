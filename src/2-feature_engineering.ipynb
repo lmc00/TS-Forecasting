{
 "cells": [
  {
   "cell_type": "markdown",
   "metadata": {},
   "source": [
    "## Series a predecir:\n",
    "Suma del consumo de las dos enfriadoras. Generado en la ETL, en ese notebook se trabajaran los outlayers. \n",
    "\n",
    "Predicción de la presión máxima. La presion maxima que se de de al comparar entre los 4 compresores para cada ventana de 30 minutos. Las presiones elevadas solo se dan en verano en los compresores, ya que es la estacion de mayor temperatura media en Galicia y por tanto cuando menos se puede aprovechar el Free Cooling. Por tanto, se concatenaran los datos de dos veranos consecutivos (2019 y 2020). Tenemos las 4 series temporales de presion de la ETL previa, falta escoger el maximo en cada time window de entre los cuatro compresores y limpiar outlayers.\n",
    "\n",
    "Deseamos predecir cada serie para las proximas 24 horas (48 puntos experimentales).\n",
    "En un principio ninguna de nuestras series deberian presentar tendencia por la naturaleza de las mismas, al menos de modo global. De todos modos, emplearemos el test de augmented Dickey–Fuller para saber si son estacionarias.\n",
    "\n",
    "## Como series temporales exogenas usaremos:\n",
    "\n",
    "Suma del consumo de los nodos. Generado en la ETL, en ese notebook se trabajaran los outlayers\n",
    "\n",
    "\n",
    "Número de compresores activos (compresores con presión mayor a 15 bars) basandonos en el maximo de la etl. \n",
    "\n",
    "Cogeremos las temperaturas in, evaporator, out, ambient correspondientes a la enfriadora activa (la que tenga consumo mayor a 10KW) (referencia, agua caliente que volver del CPD es en torno a 18 grados)\n",
    "    \n",
    "    En caso de que ambas enfriadoras esten apagadas (solo pasa en caidas de corriente o reinicios en mantenimiento de todo el CESGA), la temperatura in y temperatura ambient debe ser la misma en ambas o muy similar, se toma cualquierda de las dos arbitrariamente. En cuanto a T Evap y T out se tomara la mas baja. Lo mismo pasa en los casos en los que ambas enfriadoras esten trabajando.\n",
    "\n",
    "Cogeremos la diferencia entre la temperatura ambient y el setpoint (se puede obtener como media de temperatura out). Por analisis previos del CESGA, como se ve en el diagrama aportado, es de 15 grados.\n"
   ]
  },
  {
   "cell_type": "code",
   "execution_count": 1,
   "metadata": {},
   "outputs": [],
   "source": [
    "#imports and useful variables\n",
    "import pandas as pd\n",
    "import dask as dd\n",
    "\n",
    "pd.options.display.float_format = \"{:.2f}\".format\n",
    "\n",
    "# Useful directory variables\n",
    "src_path = os.getcwd()\n",
    "root_path = os.path.dirname(src_path)\n",
    "data_path = root_path + \"/datasets\"\n",
    "visualization_path = root_path + \"/data_visualization\""
   ]
  },
  {
   "cell_type": "code",
   "execution_count": 5,
   "metadata": {},
   "outputs": [
    {
     "data": {
      "text/plain": [
       "['consumption_total_average_30_min_W',\n",
       " 'chiller_1and2_consumption_total_average_30_min_kW',\n",
       " 'chiller_1and2_compressor_1and2_pressure_max_30min_P',\n",
       " 'chiller_1and2_temperatureAll_average_30min_P']"
      ]
     },
     "execution_count": 5,
     "metadata": {},
     "output_type": "execute_result"
    }
   ],
   "source": [
    "os.listdir(data_path+\"/03_primary\")"
   ]
  },
  {
   "cell_type": "code",
   "execution_count": 18,
   "metadata": {},
   "outputs": [
    {
     "data": {
      "text/plain": [
       "['chiller_1_compressor_1_max_pressure_P',\n",
       " 'chiller_1_compressor_2_max_pressure_P',\n",
       " 'chiller_2_compressor_1_max_pressure_P',\n",
       " 'chiller_2_compressor_2_max_pressure_P']"
      ]
     },
     "execution_count": 18,
     "metadata": {},
     "output_type": "execute_result"
    }
   ],
   "source": [
    "list(pressure_df.columns[1:-1])"
   ]
  },
  {
   "cell_type": "markdown",
   "metadata": {},
   "source": [
    "## 1.- Tratamiento de las series de presiones (en bares) y numero de compresores en funcionamiento (threshold 15 bares)"
   ]
  },
  {
   "cell_type": "code",
   "execution_count": 26,
   "metadata": {},
   "outputs": [],
   "source": [
    "pressure_df = pd.read_parquet(\n",
    "    data_path + \"/03_primary/\" + \"chiller_1and2_compressor_1and2_pressure_max_30min_P\"\n",
    ")\n",
    "pressure_df[\"max_pressure_Bars\"] = pressure_df.max(axis=1)\n",
    "pressure_df[\"n_working_compressors\"] = pressure_df[\n",
    "    list(pressure_df.columns[1:-1])\n",
    "].apply(lambda row: (row > 15.00).sum(), axis=1)\n",
    "pressure_df[[\"time\", \"max_pressure_Bars\"]].to_parquet(\n",
    "    data_path + \"/04_feature/\" + \"max_pressure_Bars\"\n",
    ")\n",
    "pressure_df[[\"time\", \"n_working_compressors\"]].to_parquet(\n",
    "    data_path + \"/04_feature/\" + \"n_working_compressors\"\n",
    ")\n"
   ]
  },
  {
   "cell_type": "markdown",
   "metadata": {},
   "source": [
    " ## 2- Tratamiento de las temperaturas °C con logica de que enfriadora esta funcionando"
   ]
  },
  {
   "cell_type": "markdown",
   "metadata": {},
   "source": [
    "Paso previo: determinar el active chiller (refrigeradora activa)"
   ]
  },
  {
   "cell_type": "code",
   "execution_count": 44,
   "metadata": {},
   "outputs": [],
   "source": [
    "def get_active_chiller(row, threshold: int = 10) -> int:\n",
    "    \"\"\"\n",
    "    Designed for being used as a part of an apply over a Pandas DataFrame\n",
    "\n",
    "    inputs:\n",
    "        row (pd.Series): row in the current iteration step of the apply\n",
    "        threshold (int): electric consumption thrshold in kW\n",
    "    outputs:\n",
    "        (int): 0 if any, 1 if chiller 1, 2 if chiller 2, 3 if both at the same time\n",
    "    \"\"\"\n",
    "    if (\n",
    "        row.chiller_1_average_power_consumption > threshold\n",
    "        and row.chiller_2_average_power_consumption > threshold\n",
    "    ):\n",
    "        return 3\n",
    "    elif row.chiller_1_average_power_consumption > threshold:\n",
    "        return 1\n",
    "    elif row.chiller_2_average_power_consumption > threshold:\n",
    "        return 2\n",
    "    else:\n",
    "        return 0\n",
    "\n",
    "\n",
    "chiller_1_pandas = pd.read_parquet(\n",
    "    data_path + \"/02_intermediate/\" + \"chiller_1_consumption_total_average_30min_kW\"\n",
    ")\n",
    "chiller_2_pandas = pd.read_parquet(\n",
    "    data_path + \"/02_intermediate/\" + \"chiller_2_consumption_total_average_30min_kW\"\n",
    ")\n",
    "chiller_1and2_consumption_pandas = pd.merge(\n",
    "    chiller_1_pandas,\n",
    "    chiller_2_pandas,\n",
    "    on=\"time\",\n",
    ")\n",
    "chiller_1and2_consumption_pandas[\n",
    "    \"active_chiller\"\n",
    "] = chiller_1and2_consumption_pandas.apply(get_active_chiller, axis=1)\n",
    "chiller_1and2_consumption_pandas[[\"time\", \"active_chiller\"]].to_parquet(\n",
    "    data_path + \"/03_primary/\" + \"active_chiller\"\n",
    ")\n"
   ]
  },
  {
   "cell_type": "code",
   "execution_count": 2,
   "metadata": {},
   "outputs": [
    {
     "data": {
      "text/plain": [
       "2    32141\n",
       "1    26803\n",
       "0     1503\n",
       "3      818\n",
       "Name: active_chiller, dtype: int64"
      ]
     },
     "execution_count": 2,
     "metadata": {},
     "output_type": "execute_result"
    }
   ],
   "source": [
    "active_chiller = pd.read_parquet(\n",
    "    data_path + \"/03_primary/\" + \"active_chiller\"\n",
    ")\n",
    "active_chiller.active_chiller.value_counts()"
   ]
  },
  {
   "cell_type": "markdown",
   "metadata": {},
   "source": [
    "No hay NAs porque durante la ETL en PySpark los NULL (correspondientes con Pandas NA) fueron convertidos en 0 para cada serie temporal tras hacer join con la tabla de ventanas de tiempo de referencia"
   ]
  },
  {
   "cell_type": "code",
   "execution_count": 11,
   "metadata": {},
   "outputs": [
    {
     "data": {
      "text/plain": [
       "time                                        0\n",
       "active_chiller                              0\n",
       "chiller_1_Temperature_Ambient_Degrees       0\n",
       "chiller_1_Temperature_Evaporator_Degrees    0\n",
       "chiller_1_Temperature_In_Degrees            0\n",
       "chiller_1_Temperature_Out_Degrees           0\n",
       "chiller_2_Temperature_Ambient_Degrees       0\n",
       "chiller_2_Temperature_Evaporator_Degrees    0\n",
       "chiller_2_Temperature_In_Degrees            0\n",
       "chiller_2_Temperature_Out_Degrees           0\n",
       "dtype: int64"
      ]
     },
     "execution_count": 11,
     "metadata": {},
     "output_type": "execute_result"
    }
   ],
   "source": [
    "temperature_all.isna().sum()"
   ]
  },
  {
   "cell_type": "code",
   "execution_count": 3,
   "metadata": {},
   "outputs": [
    {
     "name": "stdout",
     "output_type": "stream",
     "text": [
      "14.586652500520591\n"
     ]
    },
    {
     "data": {
      "text/html": [
       "<div>\n",
       "<style scoped>\n",
       "    .dataframe tbody tr th:only-of-type {\n",
       "        vertical-align: middle;\n",
       "    }\n",
       "\n",
       "    .dataframe tbody tr th {\n",
       "        vertical-align: top;\n",
       "    }\n",
       "\n",
       "    .dataframe thead th {\n",
       "        text-align: right;\n",
       "    }\n",
       "</style>\n",
       "<table border=\"1\" class=\"dataframe\">\n",
       "  <thead>\n",
       "    <tr style=\"text-align: right;\">\n",
       "      <th></th>\n",
       "      <th>time</th>\n",
       "      <th>Temperature_Ambient_Degrees</th>\n",
       "      <th>Temperature_Evaporator_Degrees</th>\n",
       "      <th>Temperature_In_Degrees</th>\n",
       "      <th>Temperature_Out_Degrees</th>\n",
       "      <th>Temperature_Ambient_Minus_Setpoint_Degrees</th>\n",
       "    </tr>\n",
       "  </thead>\n",
       "  <tbody>\n",
       "    <tr>\n",
       "      <th>0</th>\n",
       "      <td>2017-12-31 23:00:00</td>\n",
       "      <td>0.00</td>\n",
       "      <td>0.00</td>\n",
       "      <td>0.00</td>\n",
       "      <td>0.00</td>\n",
       "      <td>-14.59</td>\n",
       "    </tr>\n",
       "    <tr>\n",
       "      <th>1</th>\n",
       "      <td>2017-12-31 23:30:00</td>\n",
       "      <td>10.08</td>\n",
       "      <td>15.62</td>\n",
       "      <td>16.71</td>\n",
       "      <td>15.26</td>\n",
       "      <td>-4.51</td>\n",
       "    </tr>\n",
       "    <tr>\n",
       "      <th>2</th>\n",
       "      <td>2018-01-01 00:00:00</td>\n",
       "      <td>10.04</td>\n",
       "      <td>15.68</td>\n",
       "      <td>17.00</td>\n",
       "      <td>15.90</td>\n",
       "      <td>-4.54</td>\n",
       "    </tr>\n",
       "    <tr>\n",
       "      <th>3</th>\n",
       "      <td>2018-01-01 00:30:00</td>\n",
       "      <td>10.21</td>\n",
       "      <td>15.66</td>\n",
       "      <td>16.76</td>\n",
       "      <td>15.37</td>\n",
       "      <td>-4.37</td>\n",
       "    </tr>\n",
       "    <tr>\n",
       "      <th>4</th>\n",
       "      <td>2018-01-01 01:00:00</td>\n",
       "      <td>10.58</td>\n",
       "      <td>15.61</td>\n",
       "      <td>16.70</td>\n",
       "      <td>15.49</td>\n",
       "      <td>-4.01</td>\n",
       "    </tr>\n",
       "  </tbody>\n",
       "</table>\n",
       "</div>"
      ],
      "text/plain": [
       "                 time  Temperature_Ambient_Degrees  \\\n",
       "0 2017-12-31 23:00:00                         0.00   \n",
       "1 2017-12-31 23:30:00                        10.08   \n",
       "2 2018-01-01 00:00:00                        10.04   \n",
       "3 2018-01-01 00:30:00                        10.21   \n",
       "4 2018-01-01 01:00:00                        10.58   \n",
       "\n",
       "   Temperature_Evaporator_Degrees  Temperature_In_Degrees  \\\n",
       "0                            0.00                    0.00   \n",
       "1                           15.62                   16.71   \n",
       "2                           15.68                   17.00   \n",
       "3                           15.66                   16.76   \n",
       "4                           15.61                   16.70   \n",
       "\n",
       "   Temperature_Out_Degrees  Temperature_Ambient_Minus_Setpoint_Degrees  \n",
       "0                     0.00                                      -14.59  \n",
       "1                    15.26                                       -4.51  \n",
       "2                    15.90                                       -4.54  \n",
       "3                    15.37                                       -4.37  \n",
       "4                    15.49                                       -4.01  "
      ]
     },
     "execution_count": 3,
     "metadata": {},
     "output_type": "execute_result"
    }
   ],
   "source": [
    "def get_temperatures(row):\n",
    "    \"\"\"\n",
    "    Designed for being used as a part of an apply over a Pandas DataFrame\n",
    "\n",
    "    inputs:\n",
    "        row (pd.Series): row in the current iteration step of the apply\n",
    "    outputs:\n",
    "        (list): list with the assigned values for the 4 temperature series depending on which chiller is being used (given by \"active chiller\" column)\n",
    "    \"\"\"\n",
    "\n",
    "    if row.active_chiller == 1:\n",
    "        return [\n",
    "            row.chiller_1_Temperature_Ambient_Degrees,\n",
    "            row.chiller_1_Temperature_Evaporator_Degrees,\n",
    "            row.chiller_1_Temperature_In_Degrees,\n",
    "            row.chiller_1_Temperature_Out_Degrees,\n",
    "        ]\n",
    "    if row.active_chiller == 2:\n",
    "        return [\n",
    "            row.chiller_2_Temperature_Ambient_Degrees,\n",
    "            row.chiller_2_Temperature_Evaporator_Degrees,\n",
    "            row.chiller_2_Temperature_In_Degrees,\n",
    "            row.chiller_2_Temperature_Out_Degrees,\n",
    "        ]\n",
    "\n",
    "    if row.active_chiller == 0 or row.active_chiller == 3:\n",
    "        return [\n",
    "            row.chiller_1_Temperature_Ambient_Degrees,\n",
    "            min(\n",
    "                row.chiller_1_Temperature_Evaporator_Degrees,\n",
    "                row.chiller_2_Temperature_Evaporator_Degrees,\n",
    "            ),\n",
    "            row.chiller_1_Temperature_In_Degrees,\n",
    "            min(\n",
    "                row.chiller_1_Temperature_Out_Degrees,\n",
    "                row.chiller_2_Temperature_Out_Degrees,\n",
    "            ),\n",
    "        ]\n",
    "    else:\n",
    "        raise ValueError(\n",
    "            \"There are only 4 allowed active chiller values = {0,1,2,3}. Obtained {}\".format(\n",
    "                str(row.active_chiller)\n",
    "            )\n",
    "        )\n",
    "\n",
    "\n",
    "temperature_all = pd.read_parquet(\n",
    "    data_path + \"/03_primary/\" + \"chiller_1and2_temperatureAll_average_30min_P\"\n",
    ")\n",
    "temperature_all = pd.merge(active_chiller, temperature_all, on=\"time\")\n",
    "\n",
    "temperature_all[\n",
    "    [\n",
    "        \"Temperature_Ambient_Degrees\",\n",
    "        \"Temperature_Evaporator_Degrees\",\n",
    "        \"Temperature_In_Degrees\",\n",
    "        \"Temperature_Out_Degrees\",\n",
    "    ]\n",
    "] = temperature_all.apply(get_temperatures, axis=1, result_type=\"expand\")\n",
    "temperature_all = temperature_all[\n",
    "    [\n",
    "        \"time\",\n",
    "        \"Temperature_Ambient_Degrees\",\n",
    "        \"Temperature_Evaporator_Degrees\",\n",
    "        \"Temperature_In_Degrees\",\n",
    "        \"Temperature_Out_Degrees\",\n",
    "    ]\n",
    "].copy()\n",
    "setpoint = temperature_all.Temperature_Out_Degrees.mean()\n",
    "temperature_all[\"Temperature_Ambient_Minus_Setpoint_Degrees\"] = (\n",
    "    temperature_all.Temperature_Ambient_Degrees - setpoint\n",
    ")\n",
    "temperature_all.to_parquet(data_path + \"/04_feature/\" + \"average_temperature_bars\")\n",
    "print(setpoint)\n",
    "temperature_all.head(5)  # Da info del free cooling\n"
   ]
  },
  {
   "cell_type": "markdown",
   "metadata": {},
   "source": [
    "Until this point, we have all the time series cleaned. But there is a remaninign feature. The difference between ambient temperature and setpoint (which will be something aroung the mean of temperature out aprox between 14 and 15 Celsius Degrees)"
   ]
  }
 ],
 "metadata": {
  "kernelspec": {
   "display_name": "Python 3",
   "language": "python",
   "name": "python3"
  },
  "language_info": {
   "codemirror_mode": {
    "name": "ipython",
    "version": 3
   },
   "file_extension": ".py",
   "mimetype": "text/x-python",
   "name": "python",
   "nbconvert_exporter": "python",
   "pygments_lexer": "ipython3",
   "version": "3.7.6"
  }
 },
 "nbformat": 4,
 "nbformat_minor": 4
}

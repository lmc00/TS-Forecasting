{
 "cells": [
  {
   "cell_type": "code",
   "execution_count": 1,
   "metadata": {},
   "outputs": [
    {
     "name": "stdout",
     "output_type": "stream",
     "text": [
      "java version \"1.8.0_191\"\r\n",
      "Java(TM) SE Runtime Environment (build 1.8.0_191-b12)\r\n",
      "Java HotSpot(TM) 64-Bit Server VM (build 25.191-b12, mixed mode)\r\n"
     ]
    }
   ],
   "source": [
    "!java -version"
   ]
  },
  {
   "cell_type": "code",
   "execution_count": 1,
   "metadata": {},
   "outputs": [
    {
     "ename": "ModuleNotFoundError",
     "evalue": "No module named 'orbit'",
     "output_type": "error",
     "traceback": [
      "\u001b[0;31m---------------------------------------------------------------------------\u001b[0m",
      "\u001b[0;31mModuleNotFoundError\u001b[0m                       Traceback (most recent call last)",
      "\u001b[0;32m<ipython-input-1-a2a6b161dde0>\u001b[0m in \u001b[0;36m<module>\u001b[0;34m\u001b[0m\n\u001b[0;32m----> 1\u001b[0;31m \u001b[0;32mfrom\u001b[0m \u001b[0morbit\u001b[0m\u001b[0;34m.\u001b[0m\u001b[0mutils\u001b[0m\u001b[0;34m.\u001b[0m\u001b[0mdataset\u001b[0m \u001b[0;32mimport\u001b[0m \u001b[0mload_iclaims\u001b[0m\u001b[0;34m\u001b[0m\u001b[0;34m\u001b[0m\u001b[0m\n\u001b[0m",
      "\u001b[0;31mModuleNotFoundError\u001b[0m: No module named 'orbit'"
     ]
    }
   ],
   "source": [
    "from orbit.utils.dataset import load_iclaims"
   ]
  },
  {
   "cell_type": "code",
   "execution_count": null,
   "metadata": {},
   "outputs": [],
   "source": [
    "import pmdarima"
   ]
  },
  {
   "cell_type": "markdown",
   "metadata": {},
   "source": [
    "#Important reading\n",
    "https://stackoverflow.com/questions/67343172/why-is-pandas-udf-not-being-parallelized"
   ]
  },
  {
   "cell_type": "code",
   "execution_count": 4,
   "metadata": {},
   "outputs": [],
   "source": [
    "from pyspark.sql import SparkSession\n",
    "import pyspark\n",
    "import matplotlib as mpl\n",
    "import matplotlib.pyplot as plt\n",
    "import pandas as pd\n",
    "import statsmodels\n",
    "mpl.rcParams['figure.figsize']=(10,8)\n",
    "mpl.rcParams['axes.grid']= False\n",
    "#pyarrow: enables pandas_udf. Spark to pandas in a non pickle-unpickle way"
   ]
  },
  {
   "cell_type": "code",
   "execution_count": 4,
   "metadata": {},
   "outputs": [],
   "source": [
    "#spark = SparkSession.builder.master('local').getOrCreate() Runned thourgh yarn as master, commented once moving from local to CESGA's cluster\n",
    "#There is no need for a programatically write"
   ]
  },
  {
   "cell_type": "code",
   "execution_count": 5,
   "metadata": {},
   "outputs": [
    {
     "data": {
      "text/html": [
       "\n",
       "            <div>\n",
       "                <p><b>SparkSession - hive</b></p>\n",
       "                \n",
       "        <div>\n",
       "            <p><b>SparkContext</b></p>\n",
       "\n",
       "            <p><a href=\"http://cdh61-login7.bd.cluster.cesga.es:4040\">Spark UI</a></p>\n",
       "\n",
       "            <dl>\n",
       "              <dt>Version</dt>\n",
       "                <dd><code>v2.4.0-cdh6.1.1</code></dd>\n",
       "              <dt>Master</dt>\n",
       "                <dd><code>yarn</code></dd>\n",
       "              <dt>AppName</dt>\n",
       "                <dd><code>PySparkShell</code></dd>\n",
       "            </dl>\n",
       "        </div>\n",
       "        \n",
       "            </div>\n",
       "        "
      ],
      "text/plain": [
       "<pyspark.sql.session.SparkSession at 0x7fdd0b16b7d0>"
      ]
     },
     "execution_count": 5,
     "metadata": {},
     "output_type": "execute_result"
    }
   ],
   "source": [
    "spark"
   ]
  },
  {
   "cell_type": "code",
   "execution_count": 5,
   "metadata": {},
   "outputs": [
    {
     "data": {
      "text/html": [
       "<div>\n",
       "<style scoped>\n",
       "    .dataframe tbody tr th:only-of-type {\n",
       "        vertical-align: middle;\n",
       "    }\n",
       "\n",
       "    .dataframe tbody tr th {\n",
       "        vertical-align: top;\n",
       "    }\n",
       "\n",
       "    .dataframe thead th {\n",
       "        text-align: right;\n",
       "    }\n",
       "</style>\n",
       "<table border=\"1\" class=\"dataframe\">\n",
       "  <thead>\n",
       "    <tr style=\"text-align: right;\">\n",
       "      <th></th>\n",
       "      <th>date</th>\n",
       "      <th>store_id</th>\n",
       "      <th>sales</th>\n",
       "    </tr>\n",
       "  </thead>\n",
       "  <tbody>\n",
       "    <tr>\n",
       "      <th>0</th>\n",
       "      <td>1/6/2019</td>\n",
       "      <td>25</td>\n",
       "      <td>736657.2267</td>\n",
       "    </tr>\n",
       "    <tr>\n",
       "      <th>1</th>\n",
       "      <td>1/6/2019</td>\n",
       "      <td>26</td>\n",
       "      <td>233711.0000</td>\n",
       "    </tr>\n",
       "    <tr>\n",
       "      <th>2</th>\n",
       "      <td>1/6/2019</td>\n",
       "      <td>28</td>\n",
       "      <td>692156.3794</td>\n",
       "    </tr>\n",
       "    <tr>\n",
       "      <th>3</th>\n",
       "      <td>1/6/2019</td>\n",
       "      <td>29</td>\n",
       "      <td>213706.8000</td>\n",
       "    </tr>\n",
       "    <tr>\n",
       "      <th>4</th>\n",
       "      <td>1/6/2019</td>\n",
       "      <td>30</td>\n",
       "      <td>266455.0000</td>\n",
       "    </tr>\n",
       "    <tr>\n",
       "      <th>...</th>\n",
       "      <td>...</td>\n",
       "      <td>...</td>\n",
       "      <td>...</td>\n",
       "    </tr>\n",
       "    <tr>\n",
       "      <th>495</th>\n",
       "      <td>12/15/2019</td>\n",
       "      <td>31</td>\n",
       "      <td>401803.3590</td>\n",
       "    </tr>\n",
       "    <tr>\n",
       "      <th>496</th>\n",
       "      <td>12/15/2019</td>\n",
       "      <td>35</td>\n",
       "      <td>135799.1429</td>\n",
       "    </tr>\n",
       "    <tr>\n",
       "      <th>497</th>\n",
       "      <td>12/15/2019</td>\n",
       "      <td>38</td>\n",
       "      <td>115424.2250</td>\n",
       "    </tr>\n",
       "    <tr>\n",
       "      <th>498</th>\n",
       "      <td>12/15/2019</td>\n",
       "      <td>41</td>\n",
       "      <td>103375.0000</td>\n",
       "    </tr>\n",
       "    <tr>\n",
       "      <th>499</th>\n",
       "      <td>12/15/2019</td>\n",
       "      <td>44</td>\n",
       "      <td>51210.0000</td>\n",
       "    </tr>\n",
       "  </tbody>\n",
       "</table>\n",
       "<p>500 rows × 3 columns</p>\n",
       "</div>"
      ],
      "text/plain": [
       "           date  store_id        sales\n",
       "0      1/6/2019        25  736657.2267\n",
       "1      1/6/2019        26  233711.0000\n",
       "2      1/6/2019        28  692156.3794\n",
       "3      1/6/2019        29  213706.8000\n",
       "4      1/6/2019        30  266455.0000\n",
       "..          ...       ...          ...\n",
       "495  12/15/2019        31  401803.3590\n",
       "496  12/15/2019        35  135799.1429\n",
       "497  12/15/2019        38  115424.2250\n",
       "498  12/15/2019        41  103375.0000\n",
       "499  12/15/2019        44   51210.0000\n",
       "\n",
       "[500 rows x 3 columns]"
      ]
     },
     "execution_count": 5,
     "metadata": {},
     "output_type": "execute_result"
    }
   ],
   "source": [
    "#Dummy example from github\n",
    "url='https://raw.githubusercontent.com/srivatsan88/YouTubeLI/master/dataset/weekly_sales_data.csv'\n",
    "df=pd.read_csv(url)\n",
    "df"
   ]
  },
  {
   "cell_type": "code",
   "execution_count": 7,
   "metadata": {},
   "outputs": [
    {
     "data": {
      "text/plain": [
       "date         object\n",
       "store_id      int64\n",
       "sales       float64\n",
       "dtype: object"
      ]
     },
     "execution_count": 7,
     "metadata": {},
     "output_type": "execute_result"
    }
   ],
   "source": [
    "df.dtypes"
   ]
  },
  {
   "cell_type": "code",
   "execution_count": 8,
   "metadata": {},
   "outputs": [
    {
     "name": "stdout",
     "output_type": "stream",
     "text": [
      "<class 'pandas.core.frame.DataFrame'>\n",
      "RangeIndex: 500 entries, 0 to 499\n",
      "Data columns (total 3 columns):\n",
      " #   Column    Non-Null Count  Dtype  \n",
      "---  ------    --------------  -----  \n",
      " 0   date      500 non-null    object \n",
      " 1   store_id  500 non-null    int64  \n",
      " 2   sales     500 non-null    float64\n",
      "dtypes: float64(1), int64(1), object(1)\n",
      "memory usage: 11.8+ KB\n"
     ]
    }
   ],
   "source": [
    "df.info()"
   ]
  },
  {
   "cell_type": "code",
   "execution_count": 6,
   "metadata": {},
   "outputs": [
    {
     "data": {
      "text/html": [
       "<div>\n",
       "<style scoped>\n",
       "    .dataframe tbody tr th:only-of-type {\n",
       "        vertical-align: middle;\n",
       "    }\n",
       "\n",
       "    .dataframe tbody tr th {\n",
       "        vertical-align: top;\n",
       "    }\n",
       "\n",
       "    .dataframe thead th {\n",
       "        text-align: right;\n",
       "    }\n",
       "</style>\n",
       "<table border=\"1\" class=\"dataframe\">\n",
       "  <thead>\n",
       "    <tr style=\"text-align: right;\">\n",
       "      <th></th>\n",
       "      <th>date</th>\n",
       "      <th>store_id</th>\n",
       "      <th>sales</th>\n",
       "    </tr>\n",
       "  </thead>\n",
       "  <tbody>\n",
       "    <tr>\n",
       "      <th>0</th>\n",
       "      <td>2019-01-06</td>\n",
       "      <td>25</td>\n",
       "      <td>736657.2267</td>\n",
       "    </tr>\n",
       "    <tr>\n",
       "      <th>1</th>\n",
       "      <td>2019-01-06</td>\n",
       "      <td>26</td>\n",
       "      <td>233711.0000</td>\n",
       "    </tr>\n",
       "    <tr>\n",
       "      <th>2</th>\n",
       "      <td>2019-01-06</td>\n",
       "      <td>28</td>\n",
       "      <td>692156.3794</td>\n",
       "    </tr>\n",
       "    <tr>\n",
       "      <th>3</th>\n",
       "      <td>2019-01-06</td>\n",
       "      <td>29</td>\n",
       "      <td>213706.8000</td>\n",
       "    </tr>\n",
       "    <tr>\n",
       "      <th>4</th>\n",
       "      <td>2019-01-06</td>\n",
       "      <td>30</td>\n",
       "      <td>266455.0000</td>\n",
       "    </tr>\n",
       "    <tr>\n",
       "      <th>...</th>\n",
       "      <td>...</td>\n",
       "      <td>...</td>\n",
       "      <td>...</td>\n",
       "    </tr>\n",
       "    <tr>\n",
       "      <th>495</th>\n",
       "      <td>2019-12-15</td>\n",
       "      <td>31</td>\n",
       "      <td>401803.3590</td>\n",
       "    </tr>\n",
       "    <tr>\n",
       "      <th>496</th>\n",
       "      <td>2019-12-15</td>\n",
       "      <td>35</td>\n",
       "      <td>135799.1429</td>\n",
       "    </tr>\n",
       "    <tr>\n",
       "      <th>497</th>\n",
       "      <td>2019-12-15</td>\n",
       "      <td>38</td>\n",
       "      <td>115424.2250</td>\n",
       "    </tr>\n",
       "    <tr>\n",
       "      <th>498</th>\n",
       "      <td>2019-12-15</td>\n",
       "      <td>41</td>\n",
       "      <td>103375.0000</td>\n",
       "    </tr>\n",
       "    <tr>\n",
       "      <th>499</th>\n",
       "      <td>2019-12-15</td>\n",
       "      <td>44</td>\n",
       "      <td>51210.0000</td>\n",
       "    </tr>\n",
       "  </tbody>\n",
       "</table>\n",
       "<p>500 rows × 3 columns</p>\n",
       "</div>"
      ],
      "text/plain": [
       "          date  store_id        sales\n",
       "0   2019-01-06        25  736657.2267\n",
       "1   2019-01-06        26  233711.0000\n",
       "2   2019-01-06        28  692156.3794\n",
       "3   2019-01-06        29  213706.8000\n",
       "4   2019-01-06        30  266455.0000\n",
       "..         ...       ...          ...\n",
       "495 2019-12-15        31  401803.3590\n",
       "496 2019-12-15        35  135799.1429\n",
       "497 2019-12-15        38  115424.2250\n",
       "498 2019-12-15        41  103375.0000\n",
       "499 2019-12-15        44   51210.0000\n",
       "\n",
       "[500 rows x 3 columns]"
      ]
     },
     "execution_count": 6,
     "metadata": {},
     "output_type": "execute_result"
    }
   ],
   "source": [
    "df.date = pd.to_datetime(df.date, infer_datetime_format=True)\n",
    "df"
   ]
  },
  {
   "cell_type": "code",
   "execution_count": 10,
   "metadata": {},
   "outputs": [
    {
     "data": {
      "text/plain": [
       "date        False\n",
       "store_id    False\n",
       "sales       False\n",
       "dtype: bool"
      ]
     },
     "execution_count": 10,
     "metadata": {},
     "output_type": "execute_result"
    }
   ],
   "source": [
    "df.isnull().any()"
   ]
  },
  {
   "cell_type": "code",
   "execution_count": 11,
   "metadata": {},
   "outputs": [
    {
     "data": {
      "text/plain": [
       "date         50\n",
       "store_id     10\n",
       "sales       500\n",
       "dtype: int64"
      ]
     },
     "execution_count": 11,
     "metadata": {},
     "output_type": "execute_result"
    }
   ],
   "source": [
    "df.nunique()"
   ]
  },
  {
   "cell_type": "code",
   "execution_count": 12,
   "metadata": {},
   "outputs": [
    {
     "data": {
      "text/html": [
       "<div>\n",
       "<style scoped>\n",
       "    .dataframe tbody tr th:only-of-type {\n",
       "        vertical-align: middle;\n",
       "    }\n",
       "\n",
       "    .dataframe tbody tr th {\n",
       "        vertical-align: top;\n",
       "    }\n",
       "\n",
       "    .dataframe thead th {\n",
       "        text-align: right;\n",
       "    }\n",
       "</style>\n",
       "<table border=\"1\" class=\"dataframe\">\n",
       "  <thead>\n",
       "    <tr style=\"text-align: right;\">\n",
       "      <th></th>\n",
       "      <th>store_id</th>\n",
       "      <th>sales</th>\n",
       "    </tr>\n",
       "  </thead>\n",
       "  <tbody>\n",
       "    <tr>\n",
       "      <th>count</th>\n",
       "      <td>500.0000</td>\n",
       "      <td>5.000000e+02</td>\n",
       "    </tr>\n",
       "    <tr>\n",
       "      <th>mean</th>\n",
       "      <td>32.7000</td>\n",
       "      <td>4.470800e+05</td>\n",
       "    </tr>\n",
       "    <tr>\n",
       "      <th>std</th>\n",
       "      <td>6.1714</td>\n",
       "      <td>2.970660e+05</td>\n",
       "    </tr>\n",
       "    <tr>\n",
       "      <th>min</th>\n",
       "      <td>25.0000</td>\n",
       "      <td>1.278800e+04</td>\n",
       "    </tr>\n",
       "    <tr>\n",
       "      <th>25%</th>\n",
       "      <td>28.0000</td>\n",
       "      <td>2.526557e+05</td>\n",
       "    </tr>\n",
       "    <tr>\n",
       "      <th>50%</th>\n",
       "      <td>30.5000</td>\n",
       "      <td>3.150259e+05</td>\n",
       "    </tr>\n",
       "    <tr>\n",
       "      <th>75%</th>\n",
       "      <td>38.0000</td>\n",
       "      <td>6.845418e+05</td>\n",
       "    </tr>\n",
       "    <tr>\n",
       "      <th>max</th>\n",
       "      <td>44.0000</td>\n",
       "      <td>1.631585e+06</td>\n",
       "    </tr>\n",
       "  </tbody>\n",
       "</table>\n",
       "</div>"
      ],
      "text/plain": [
       "       store_id         sales\n",
       "count  500.0000  5.000000e+02\n",
       "mean    32.7000  4.470800e+05\n",
       "std      6.1714  2.970660e+05\n",
       "min     25.0000  1.278800e+04\n",
       "25%     28.0000  2.526557e+05\n",
       "50%     30.5000  3.150259e+05\n",
       "75%     38.0000  6.845418e+05\n",
       "max     44.0000  1.631585e+06"
      ]
     },
     "execution_count": 12,
     "metadata": {},
     "output_type": "execute_result"
    }
   ],
   "source": [
    "df.describe()"
   ]
  },
  {
   "cell_type": "code",
   "execution_count": 13,
   "metadata": {},
   "outputs": [
    {
     "data": {
      "text/plain": [
       "44    50\n",
       "41    50\n",
       "38    50\n",
       "35    50\n",
       "31    50\n",
       "30    50\n",
       "29    50\n",
       "28    50\n",
       "26    50\n",
       "25    50\n",
       "Name: store_id, dtype: int64"
      ]
     },
     "execution_count": 13,
     "metadata": {},
     "output_type": "execute_result"
    }
   ],
   "source": [
    "df.store_id.value_counts()"
   ]
  },
  {
   "cell_type": "code",
   "execution_count": 14,
   "metadata": {},
   "outputs": [],
   "source": [
    "df_wrangling = df.copy()"
   ]
  },
  {
   "cell_type": "code",
   "execution_count": 7,
   "metadata": {},
   "outputs": [
    {
     "ename": "NameError",
     "evalue": "name 'df_wrangling' is not defined",
     "output_type": "error",
     "traceback": [
      "\u001b[0;31m---------------------------------------------------------------------------\u001b[0m",
      "\u001b[0;31mNameError\u001b[0m                                 Traceback (most recent call last)",
      "\u001b[0;32m<ipython-input-7-e7a9049aec43>\u001b[0m in \u001b[0;36m<module>\u001b[0;34m\u001b[0m\n\u001b[0;32m----> 1\u001b[0;31m \u001b[0mdf_wrangling\u001b[0m \u001b[0;34m=\u001b[0m \u001b[0mdf_wrangling\u001b[0m\u001b[0;34m.\u001b[0m\u001b[0mset_index\u001b[0m\u001b[0;34m(\u001b[0m\u001b[0;34m'date'\u001b[0m\u001b[0;34m)\u001b[0m\u001b[0;34m\u001b[0m\u001b[0;34m\u001b[0m\u001b[0m\n\u001b[0m",
      "\u001b[0;31mNameError\u001b[0m: name 'df_wrangling' is not defined"
     ]
    }
   ],
   "source": [
    "df_wrangling = df_wrangling.set_index('date')"
   ]
  },
  {
   "cell_type": "code",
   "execution_count": 16,
   "metadata": {},
   "outputs": [
    {
     "data": {
      "text/html": [
       "<div>\n",
       "<style scoped>\n",
       "    .dataframe tbody tr th:only-of-type {\n",
       "        vertical-align: middle;\n",
       "    }\n",
       "\n",
       "    .dataframe tbody tr th {\n",
       "        vertical-align: top;\n",
       "    }\n",
       "\n",
       "    .dataframe thead th {\n",
       "        text-align: right;\n",
       "    }\n",
       "</style>\n",
       "<table border=\"1\" class=\"dataframe\">\n",
       "  <thead>\n",
       "    <tr style=\"text-align: right;\">\n",
       "      <th></th>\n",
       "      <th>store_id</th>\n",
       "      <th>sales</th>\n",
       "    </tr>\n",
       "    <tr>\n",
       "      <th>date</th>\n",
       "      <th></th>\n",
       "      <th></th>\n",
       "    </tr>\n",
       "  </thead>\n",
       "  <tbody>\n",
       "    <tr>\n",
       "      <th>2019-01-06</th>\n",
       "      <td>25</td>\n",
       "      <td>736657.2267</td>\n",
       "    </tr>\n",
       "    <tr>\n",
       "      <th>2019-01-06</th>\n",
       "      <td>26</td>\n",
       "      <td>233711.0000</td>\n",
       "    </tr>\n",
       "    <tr>\n",
       "      <th>2019-01-06</th>\n",
       "      <td>28</td>\n",
       "      <td>692156.3794</td>\n",
       "    </tr>\n",
       "    <tr>\n",
       "      <th>2019-01-06</th>\n",
       "      <td>29</td>\n",
       "      <td>213706.8000</td>\n",
       "    </tr>\n",
       "    <tr>\n",
       "      <th>2019-01-06</th>\n",
       "      <td>30</td>\n",
       "      <td>266455.0000</td>\n",
       "    </tr>\n",
       "    <tr>\n",
       "      <th>...</th>\n",
       "      <td>...</td>\n",
       "      <td>...</td>\n",
       "    </tr>\n",
       "    <tr>\n",
       "      <th>2019-12-15</th>\n",
       "      <td>31</td>\n",
       "      <td>401803.3590</td>\n",
       "    </tr>\n",
       "    <tr>\n",
       "      <th>2019-12-15</th>\n",
       "      <td>35</td>\n",
       "      <td>135799.1429</td>\n",
       "    </tr>\n",
       "    <tr>\n",
       "      <th>2019-12-15</th>\n",
       "      <td>38</td>\n",
       "      <td>115424.2250</td>\n",
       "    </tr>\n",
       "    <tr>\n",
       "      <th>2019-12-15</th>\n",
       "      <td>41</td>\n",
       "      <td>103375.0000</td>\n",
       "    </tr>\n",
       "    <tr>\n",
       "      <th>2019-12-15</th>\n",
       "      <td>44</td>\n",
       "      <td>51210.0000</td>\n",
       "    </tr>\n",
       "  </tbody>\n",
       "</table>\n",
       "<p>500 rows × 2 columns</p>\n",
       "</div>"
      ],
      "text/plain": [
       "            store_id        sales\n",
       "date                             \n",
       "2019-01-06        25  736657.2267\n",
       "2019-01-06        26  233711.0000\n",
       "2019-01-06        28  692156.3794\n",
       "2019-01-06        29  213706.8000\n",
       "2019-01-06        30  266455.0000\n",
       "...              ...          ...\n",
       "2019-12-15        31  401803.3590\n",
       "2019-12-15        35  135799.1429\n",
       "2019-12-15        38  115424.2250\n",
       "2019-12-15        41  103375.0000\n",
       "2019-12-15        44   51210.0000\n",
       "\n",
       "[500 rows x 2 columns]"
      ]
     },
     "execution_count": 16,
     "metadata": {},
     "output_type": "execute_result"
    }
   ],
   "source": [
    "df_wrangling"
   ]
  },
  {
   "cell_type": "code",
   "execution_count": 17,
   "metadata": {},
   "outputs": [
    {
     "data": {
      "text/plain": [
       "<matplotlib.axes._subplots.AxesSubplot at 0x7fdd003d7790>"
      ]
     },
     "execution_count": 17,
     "metadata": {},
     "output_type": "execute_result"
    },
    {
     "data": {
      "image/png": "[encoded data removed]",
      "text/plain": [
       "<Figure size 720x576 with 1 Axes>"
      ]
     },
     "metadata": {
      "needs_background": "light"
     },
     "output_type": "display_data"
    }
   ],
   "source": [
    "df_wrangling.query('store_id==25')[['sales']].plot()"
   ]
  },
  {
   "cell_type": "code",
   "execution_count": 18,
   "metadata": {},
   "outputs": [
    {
     "data": {
      "text/plain": [
       "<matplotlib.axes._subplots.AxesSubplot at 0x7fdcfa352e10>"
      ]
     },
     "execution_count": 18,
     "metadata": {},
     "output_type": "execute_result"
    },
    {
     "data": {
      "image/png": "[encoded data removed]",
      "text/plain": [
       "<Figure size 720x576 with 1 Axes>"
      ]
     },
     "metadata": {
      "needs_background": "light"
     },
     "output_type": "display_data"
    }
   ],
   "source": [
    "df_wrangling.query('store_id==41')[['sales']].plot()"
   ]
  },
  {
   "cell_type": "code",
   "execution_count": 8,
   "metadata": {},
   "outputs": [
    {
     "name": "stdout",
     "output_type": "stream",
     "text": [
      "+-------------------+--------+-----------+\n",
      "|               date|store_id|      sales|\n",
      "+-------------------+--------+-----------+\n",
      "|2019-01-06 00:00:00|      25|736657.2267|\n",
      "|2019-01-06 00:00:00|      26|   233711.0|\n",
      "|2019-01-06 00:00:00|      28|692156.3794|\n",
      "|2019-01-06 00:00:00|      29|   213706.8|\n",
      "|2019-01-06 00:00:00|      30|   266455.0|\n",
      "+-------------------+--------+-----------+\n",
      "only showing top 5 rows\n",
      "\n"
     ]
    }
   ],
   "source": [
    "#As we see, we find different behaviours for each subset (in this case of stores). Then, it should be correct to create multiple models,\n",
    "#One at least per TS\n",
    "s_df = spark.createDataFrame(df)\n",
    "s_df.show(5)"
   ]
  },
  {
   "cell_type": "code",
   "execution_count": 9,
   "metadata": {},
   "outputs": [
    {
     "name": "stdout",
     "output_type": "stream",
     "text": [
      "root\n",
      " |-- date: timestamp (nullable = true)\n",
      " |-- store_id: long (nullable = true)\n",
      " |-- sales: double (nullable = true)\n",
      "\n"
     ]
    }
   ],
   "source": [
    "s_df.printSchema()"
   ]
  },
  {
   "cell_type": "code",
   "execution_count": 21,
   "metadata": {},
   "outputs": [
    {
     "data": {
      "text/plain": [
       "500"
      ]
     },
     "execution_count": 21,
     "metadata": {},
     "output_type": "execute_result"
    }
   ],
   "source": [
    "s_df.count()"
   ]
  },
  {
   "cell_type": "code",
   "execution_count": 10,
   "metadata": {},
   "outputs": [
    {
     "data": {
      "text/plain": [
       "DataFrame[store_id: bigint, count(store_id): bigint]"
      ]
     },
     "execution_count": 10,
     "metadata": {},
     "output_type": "execute_result"
    }
   ],
   "source": [
    "s_df.select(['store_id']).groupBy('store_id').agg({'store_id':'count'}) #lazy evaluation"
   ]
  },
  {
   "cell_type": "code",
   "execution_count": 11,
   "metadata": {},
   "outputs": [
    {
     "name": "stdout",
     "output_type": "stream",
     "text": [
      "+--------+---------------+\n",
      "|store_id|count(store_id)|\n",
      "+--------+---------------+\n",
      "|      26|             50|\n",
      "|      29|             50|\n",
      "|      31|             50|\n",
      "|      25|             50|\n",
      "|      41|             50|\n",
      "|      28|             50|\n",
      "|      44|             50|\n",
      "|      35|             50|\n",
      "|      38|             50|\n",
      "|      30|             50|\n",
      "+--------+---------------+\n",
      "\n"
     ]
    }
   ],
   "source": [
    "s_df.select(['store_id']).groupBy('store_id').agg({'store_id':'count'}).show()"
   ]
  },
  {
   "cell_type": "markdown",
   "metadata": {},
   "source": [
    "Often we might want to store the spark Data frame as the table and query it, to convert Data frame into temporary view that is available for only that spark session, we use registerTempTable or createOrReplaceTempView (Spark > = 2.0) on our spark Dataframe.\n",
    "\n",
    "createorReplaceTempView is used when you want to store the table for a particular spark session.\n",
    "\n",
    "createOrReplaceTempView creates (or replaces if that view name already exists) a lazily evaluated \"view\" that you can then use like a hive table in Spark SQL. It does not persist to memory unless you cache the dataset that underpins the view."
   ]
  },
  {
   "cell_type": "code",
   "execution_count": 4,
   "metadata": {},
   "outputs": [
    {
     "ename": "NameError",
     "evalue": "name 's_df' is not defined",
     "output_type": "error",
     "traceback": [
      "\u001b[0;31m---------------------------------------------------------------------------\u001b[0m",
      "\u001b[0;31mNameError\u001b[0m                                 Traceback (most recent call last)",
      "\u001b[0;32m<ipython-input-4-1c9a2962f65d>\u001b[0m in \u001b[0;36m<module>\u001b[0;34m\u001b[0m\n\u001b[0;32m----> 1\u001b[0;31m \u001b[0ms_df\u001b[0m\u001b[0;34m.\u001b[0m\u001b[0mcreateOrReplaceTempView\u001b[0m\u001b[0;34m(\u001b[0m\u001b[0;34m'sales'\u001b[0m\u001b[0;34m)\u001b[0m\u001b[0;34m\u001b[0m\u001b[0;34m\u001b[0m\u001b[0m\n\u001b[0m",
      "\u001b[0;31mNameError\u001b[0m: name 's_df' is not defined"
     ]
    }
   ],
   "source": [
    "s_df.createOrReplaceTempView('sales')"
   ]
  },
  {
   "cell_type": "code",
   "execution_count": 12,
   "metadata": {},
   "outputs": [
    {
     "ename": "AnalysisException",
     "evalue": "'Table or view not found: Sales; line 5 pos 9'",
     "output_type": "error",
     "traceback": [
      "\u001b[0;31m---------------------------------------------------------------------------\u001b[0m",
      "\u001b[0;31mPy4JJavaError\u001b[0m                             Traceback (most recent call last)",
      "\u001b[0;32m/opt/cloudera/parcels/CDH-6.1.1-1.cdh6.1.1.p0.875250/lib/spark/python/pyspark/sql/utils.py\u001b[0m in \u001b[0;36mdeco\u001b[0;34m(*a, **kw)\u001b[0m\n\u001b[1;32m     62\u001b[0m         \u001b[0;32mtry\u001b[0m\u001b[0;34m:\u001b[0m\u001b[0;34m\u001b[0m\u001b[0;34m\u001b[0m\u001b[0m\n\u001b[0;32m---> 63\u001b[0;31m             \u001b[0;32mreturn\u001b[0m \u001b[0mf\u001b[0m\u001b[0;34m(\u001b[0m\u001b[0;34m*\u001b[0m\u001b[0ma\u001b[0m\u001b[0;34m,\u001b[0m \u001b[0;34m**\u001b[0m\u001b[0mkw\u001b[0m\u001b[0;34m)\u001b[0m\u001b[0;34m\u001b[0m\u001b[0;34m\u001b[0m\u001b[0m\n\u001b[0m\u001b[1;32m     64\u001b[0m         \u001b[0;32mexcept\u001b[0m \u001b[0mpy4j\u001b[0m\u001b[0;34m.\u001b[0m\u001b[0mprotocol\u001b[0m\u001b[0;34m.\u001b[0m\u001b[0mPy4JJavaError\u001b[0m \u001b[0;32mas\u001b[0m \u001b[0me\u001b[0m\u001b[0;34m:\u001b[0m\u001b[0;34m\u001b[0m\u001b[0;34m\u001b[0m\u001b[0m\n",
      "\u001b[0;32m/opt/cloudera/parcels/CDH-6.1.1-1.cdh6.1.1.p0.875250/lib/spark/python/lib/py4j-0.10.7-src.zip/py4j/protocol.py\u001b[0m in \u001b[0;36mget_return_value\u001b[0;34m(answer, gateway_client, target_id, name)\u001b[0m\n\u001b[1;32m    327\u001b[0m                     \u001b[0;34m\"An error occurred while calling {0}{1}{2}.\\n\"\u001b[0m\u001b[0;34m.\u001b[0m\u001b[0;34m\u001b[0m\u001b[0;34m\u001b[0m\u001b[0m\n\u001b[0;32m--> 328\u001b[0;31m                     format(target_id, \".\", name), value)\n\u001b[0m\u001b[1;32m    329\u001b[0m             \u001b[0;32melse\u001b[0m\u001b[0;34m:\u001b[0m\u001b[0;34m\u001b[0m\u001b[0;34m\u001b[0m\u001b[0m\n",
      "\u001b[0;31mPy4JJavaError\u001b[0m: An error occurred while calling o59.sql.\n: org.apache.spark.sql.AnalysisException: Table or view not found: Sales; line 5 pos 9\n\tat org.apache.spark.sql.catalyst.analysis.package$AnalysisErrorAt.failAnalysis(package.scala:47)\n\tat org.apache.spark.sql.catalyst.analysis.Analyzer$ResolveRelations$.org$apache$spark$sql$catalyst$analysis$Analyzer$ResolveRelations$$lookupTableFromCatalog(Analyzer.scala:733)\n\tat org.apache.spark.sql.catalyst.analysis.Analyzer$ResolveRelations$.resolveRelation(Analyzer.scala:685)\n\tat org.apache.spark.sql.catalyst.analysis.Analyzer$ResolveRelations$$anonfun$apply$8.applyOrElse(Analyzer.scala:715)\n\tat org.apache.spark.sql.catalyst.analysis.Analyzer$ResolveRelations$$anonfun$apply$8.applyOrElse(Analyzer.scala:708)\n\tat org.apache.spark.sql.catalyst.plans.logical.AnalysisHelper$$anonfun$resolveOperatorsUp$1$$anonfun$apply$1.apply(AnalysisHelper.scala:90)\n\tat org.apache.spark.sql.catalyst.plans.logical.AnalysisHelper$$anonfun$resolveOperatorsUp$1$$anonfun$apply$1.apply(AnalysisHelper.scala:90)\n\tat org.apache.spark.sql.catalyst.trees.CurrentOrigin$.withOrigin(TreeNode.scala:70)\n\tat org.apache.spark.sql.catalyst.plans.logical.AnalysisHelper$$anonfun$resolveOperatorsUp$1.apply(AnalysisHelper.scala:89)\n\tat org.apache.spark.sql.catalyst.plans.logical.AnalysisHelper$$anonfun$resolveOperatorsUp$1.apply(AnalysisHelper.scala:86)\n\tat org.apache.spark.sql.catalyst.plans.logical.AnalysisHelper$.allowInvokingTransformsInAnalyzer(AnalysisHelper.scala:194)\n\tat org.apache.spark.sql.catalyst.plans.logical.AnalysisHelper$class.resolveOperatorsUp(AnalysisHelper.scala:86)\n\tat org.apache.spark.sql.catalyst.plans.logical.LogicalPlan.resolveOperatorsUp(LogicalPlan.scala:29)\n\tat org.apache.spark.sql.catalyst.plans.logical.AnalysisHelper$$anonfun$resolveOperatorsUp$1$$anonfun$1.apply(AnalysisHelper.scala:87)\n\tat org.apache.spark.sql.catalyst.plans.logical.AnalysisHelper$$anonfun$resolveOperatorsUp$1$$anonfun$1.apply(AnalysisHelper.scala:87)\n\tat org.apache.spark.sql.catalyst.trees.TreeNode$$anonfun$4.apply(TreeNode.scala:326)\n\tat org.apache.spark.sql.catalyst.trees.TreeNode.mapProductIterator(TreeNode.scala:187)\n\tat org.apache.spark.sql.catalyst.trees.TreeNode.mapChildren(TreeNode.scala:324)\n\tat org.apache.spark.sql.catalyst.plans.logical.AnalysisHelper$$anonfun$resolveOperatorsUp$1.apply(AnalysisHelper.scala:87)\n\tat org.apache.spark.sql.catalyst.plans.logical.AnalysisHelper$$anonfun$resolveOperatorsUp$1.apply(AnalysisHelper.scala:86)\n\tat org.apache.spark.sql.catalyst.plans.logical.AnalysisHelper$.allowInvokingTransformsInAnalyzer(AnalysisHelper.scala:194)\n\tat org.apache.spark.sql.catalyst.plans.logical.AnalysisHelper$class.resolveOperatorsUp(AnalysisHelper.scala:86)\n\tat org.apache.spark.sql.catalyst.plans.logical.LogicalPlan.resolveOperatorsUp(LogicalPlan.scala:29)\n\tat org.apache.spark.sql.catalyst.plans.logical.AnalysisHelper$$anonfun$resolveOperatorsUp$1$$anonfun$1.apply(AnalysisHelper.scala:87)\n\tat org.apache.spark.sql.catalyst.plans.logical.AnalysisHelper$$anonfun$resolveOperatorsUp$1$$anonfun$1.apply(AnalysisHelper.scala:87)\n\tat org.apache.spark.sql.catalyst.trees.TreeNode$$anonfun$4.apply(TreeNode.scala:326)\n\tat org.apache.spark.sql.catalyst.trees.TreeNode.mapProductIterator(TreeNode.scala:187)\n\tat org.apache.spark.sql.catalyst.trees.TreeNode.mapChildren(TreeNode.scala:324)\n\tat org.apache.spark.sql.catalyst.plans.logical.AnalysisHelper$$anonfun$resolveOperatorsUp$1.apply(AnalysisHelper.scala:87)\n\tat org.apache.spark.sql.catalyst.plans.logical.AnalysisHelper$$anonfun$resolveOperatorsUp$1.apply(AnalysisHelper.scala:86)\n\tat org.apache.spark.sql.catalyst.plans.logical.AnalysisHelper$.allowInvokingTransformsInAnalyzer(AnalysisHelper.scala:194)\n\tat org.apache.spark.sql.catalyst.plans.logical.AnalysisHelper$class.resolveOperatorsUp(AnalysisHelper.scala:86)\n\tat org.apache.spark.sql.catalyst.plans.logical.LogicalPlan.resolveOperatorsUp(LogicalPlan.scala:29)\n\tat org.apache.spark.sql.catalyst.analysis.Analyzer$ResolveRelations$.apply(Analyzer.scala:708)\n\tat org.apache.spark.sql.catalyst.analysis.Analyzer$ResolveRelations$.apply(Analyzer.scala:654)\n\tat org.apache.spark.sql.catalyst.rules.RuleExecutor$$anonfun$execute$1$$anonfun$apply$1.apply(RuleExecutor.scala:87)\n\tat org.apache.spark.sql.catalyst.rules.RuleExecutor$$anonfun$execute$1$$anonfun$apply$1.apply(RuleExecutor.scala:84)\n\tat scala.collection.LinearSeqOptimized$class.foldLeft(LinearSeqOptimized.scala:124)\n\tat scala.collection.immutable.List.foldLeft(List.scala:84)\n\tat org.apache.spark.sql.catalyst.rules.RuleExecutor$$anonfun$execute$1.apply(RuleExecutor.scala:84)\n\tat org.apache.spark.sql.catalyst.rules.RuleExecutor$$anonfun$execute$1.apply(RuleExecutor.scala:76)\n\tat scala.collection.immutable.List.foreach(List.scala:392)\n\tat org.apache.spark.sql.catalyst.rules.RuleExecutor.execute(RuleExecutor.scala:76)\n\tat org.apache.spark.sql.catalyst.analysis.Analyzer.org$apache$spark$sql$catalyst$analysis$Analyzer$$executeSameContext(Analyzer.scala:127)\n\tat org.apache.spark.sql.catalyst.analysis.Analyzer.execute(Analyzer.scala:121)\n\tat org.apache.spark.sql.catalyst.analysis.Analyzer$$anonfun$executeAndCheck$1.apply(Analyzer.scala:106)\n\tat org.apache.spark.sql.catalyst.analysis.Analyzer$$anonfun$executeAndCheck$1.apply(Analyzer.scala:105)\n\tat org.apache.spark.sql.catalyst.plans.logical.AnalysisHelper$.markInAnalyzer(AnalysisHelper.scala:201)\n\tat org.apache.spark.sql.catalyst.analysis.Analyzer.executeAndCheck(Analyzer.scala:105)\n\tat org.apache.spark.sql.execution.QueryExecution.analyzed$lzycompute(QueryExecution.scala:57)\n\tat org.apache.spark.sql.execution.QueryExecution.analyzed(QueryExecution.scala:55)\n\tat org.apache.spark.sql.execution.QueryExecution.assertAnalyzed(QueryExecution.scala:47)\n\tat org.apache.spark.sql.Dataset$.ofRows(Dataset.scala:78)\n\tat org.apache.spark.sql.SparkSession.sql(SparkSession.scala:642)\n\tat sun.reflect.NativeMethodAccessorImpl.invoke0(Native Method)\n\tat sun.reflect.NativeMethodAccessorImpl.invoke(NativeMethodAccessorImpl.java:62)\n\tat sun.reflect.DelegatingMethodAccessorImpl.invoke(DelegatingMethodAccessorImpl.java:43)\n\tat java.lang.reflect.Method.invoke(Method.java:498)\n\tat py4j.reflection.MethodInvoker.invoke(MethodInvoker.java:244)\n\tat py4j.reflection.ReflectionEngine.invoke(ReflectionEngine.java:357)\n\tat py4j.Gateway.invoke(Gateway.java:282)\n\tat py4j.commands.AbstractCommand.invokeMethod(AbstractCommand.java:132)\n\tat py4j.commands.CallCommand.execute(CallCommand.java:79)\n\tat py4j.GatewayConnection.run(GatewayConnection.java:238)\n\tat java.lang.Thread.run(Thread.java:748)\nCaused by: org.apache.spark.sql.catalyst.analysis.NoSuchTableException: Table or view 'sales' not found in database 'default';\n\tat org.apache.spark.sql.hive.client.HiveClient$$anonfun$getTable$1.apply(HiveClient.scala:81)\n\tat org.apache.spark.sql.hive.client.HiveClient$$anonfun$getTable$1.apply(HiveClient.scala:81)\n\tat scala.Option.getOrElse(Option.scala:121)\n\tat org.apache.spark.sql.hive.client.HiveClient$class.getTable(HiveClient.scala:81)\n\tat org.apache.spark.sql.hive.client.HiveClientImpl.getTable(HiveClientImpl.scala:84)\n\tat org.apache.spark.sql.hive.HiveExternalCatalog.getRawTable(HiveExternalCatalog.scala:120)\n\tat org.apache.spark.sql.hive.HiveExternalCatalog$$anonfun$getTable$1.apply(HiveExternalCatalog.scala:747)\n\tat org.apache.spark.sql.hive.HiveExternalCatalog$$anonfun$getTable$1.apply(HiveExternalCatalog.scala:747)\n\tat org.apache.spark.sql.hive.HiveExternalCatalog.withClient(HiveExternalCatalog.scala:99)\n\tat org.apache.spark.sql.hive.HiveExternalCatalog.getTable(HiveExternalCatalog.scala:746)\n\tat org.apache.spark.sql.catalyst.catalog.ExternalCatalogWithListener.getTable(ExternalCatalogWithListener.scala:146)\n\tat org.apache.spark.sql.catalyst.catalog.SessionCatalog.lookupRelation(SessionCatalog.scala:701)\n\tat org.apache.spark.sql.catalyst.analysis.Analyzer$ResolveRelations$.org$apache$spark$sql$catalyst$analysis$Analyzer$ResolveRelations$$lookupTableFromCatalog(Analyzer.scala:730)\n\t... 63 more\n",
      "\nDuring handling of the above exception, another exception occurred:\n",
      "\u001b[0;31mAnalysisException\u001b[0m                         Traceback (most recent call last)",
      "\u001b[0;32m<ipython-input-12-5668c8804686>\u001b[0m in \u001b[0;36m<module>\u001b[0;34m\u001b[0m\n\u001b[1;32m      8\u001b[0m     \u001b[0mORDER\u001b[0m \u001b[0mBY\u001b[0m\u001b[0;34m\u001b[0m\u001b[0;34m\u001b[0m\u001b[0m\n\u001b[1;32m      9\u001b[0m         \u001b[0mstore_id\u001b[0m\u001b[0;34m\u001b[0m\u001b[0;34m\u001b[0m\u001b[0m\n\u001b[0;32m---> 10\u001b[0;31m ''').show()#now spark sql works on our temporary view just stored for this session\n\u001b[0m",
      "\u001b[0;32m/opt/cloudera/parcels/CDH-6.1.1-1.cdh6.1.1.p0.875250/lib/spark/python/pyspark/sql/session.py\u001b[0m in \u001b[0;36msql\u001b[0;34m(self, sqlQuery)\u001b[0m\n\u001b[1;32m    776\u001b[0m         \u001b[0;34m[\u001b[0m\u001b[0mRow\u001b[0m\u001b[0;34m(\u001b[0m\u001b[0mf1\u001b[0m\u001b[0;34m=\u001b[0m\u001b[0;36m1\u001b[0m\u001b[0;34m,\u001b[0m \u001b[0mf2\u001b[0m\u001b[0;34m=\u001b[0m\u001b[0;34mu'row1'\u001b[0m\u001b[0;34m)\u001b[0m\u001b[0;34m,\u001b[0m \u001b[0mRow\u001b[0m\u001b[0;34m(\u001b[0m\u001b[0mf1\u001b[0m\u001b[0;34m=\u001b[0m\u001b[0;36m2\u001b[0m\u001b[0;34m,\u001b[0m \u001b[0mf2\u001b[0m\u001b[0;34m=\u001b[0m\u001b[0;34mu'row2'\u001b[0m\u001b[0;34m)\u001b[0m\u001b[0;34m,\u001b[0m \u001b[0mRow\u001b[0m\u001b[0;34m(\u001b[0m\u001b[0mf1\u001b[0m\u001b[0;34m=\u001b[0m\u001b[0;36m3\u001b[0m\u001b[0;34m,\u001b[0m \u001b[0mf2\u001b[0m\u001b[0;34m=\u001b[0m\u001b[0;34mu'row3'\u001b[0m\u001b[0;34m)\u001b[0m\u001b[0;34m]\u001b[0m\u001b[0;34m\u001b[0m\u001b[0;34m\u001b[0m\u001b[0m\n\u001b[1;32m    777\u001b[0m         \"\"\"\n\u001b[0;32m--> 778\u001b[0;31m         \u001b[0;32mreturn\u001b[0m \u001b[0mDataFrame\u001b[0m\u001b[0;34m(\u001b[0m\u001b[0mself\u001b[0m\u001b[0;34m.\u001b[0m\u001b[0m_jsparkSession\u001b[0m\u001b[0;34m.\u001b[0m\u001b[0msql\u001b[0m\u001b[0;34m(\u001b[0m\u001b[0msqlQuery\u001b[0m\u001b[0;34m)\u001b[0m\u001b[0;34m,\u001b[0m \u001b[0mself\u001b[0m\u001b[0;34m.\u001b[0m\u001b[0m_wrapped\u001b[0m\u001b[0;34m)\u001b[0m\u001b[0;34m\u001b[0m\u001b[0;34m\u001b[0m\u001b[0m\n\u001b[0m\u001b[1;32m    779\u001b[0m \u001b[0;34m\u001b[0m\u001b[0m\n\u001b[1;32m    780\u001b[0m     \u001b[0;34m@\u001b[0m\u001b[0msince\u001b[0m\u001b[0;34m(\u001b[0m\u001b[0;36m2.0\u001b[0m\u001b[0;34m)\u001b[0m\u001b[0;34m\u001b[0m\u001b[0;34m\u001b[0m\u001b[0m\n",
      "\u001b[0;32m/opt/cloudera/parcels/CDH-6.1.1-1.cdh6.1.1.p0.875250/lib/spark/python/lib/py4j-0.10.7-src.zip/py4j/java_gateway.py\u001b[0m in \u001b[0;36m__call__\u001b[0;34m(self, *args)\u001b[0m\n\u001b[1;32m   1255\u001b[0m         \u001b[0manswer\u001b[0m \u001b[0;34m=\u001b[0m \u001b[0mself\u001b[0m\u001b[0;34m.\u001b[0m\u001b[0mgateway_client\u001b[0m\u001b[0;34m.\u001b[0m\u001b[0msend_command\u001b[0m\u001b[0;34m(\u001b[0m\u001b[0mcommand\u001b[0m\u001b[0;34m)\u001b[0m\u001b[0;34m\u001b[0m\u001b[0;34m\u001b[0m\u001b[0m\n\u001b[1;32m   1256\u001b[0m         return_value = get_return_value(\n\u001b[0;32m-> 1257\u001b[0;31m             answer, self.gateway_client, self.target_id, self.name)\n\u001b[0m\u001b[1;32m   1258\u001b[0m \u001b[0;34m\u001b[0m\u001b[0m\n\u001b[1;32m   1259\u001b[0m         \u001b[0;32mfor\u001b[0m \u001b[0mtemp_arg\u001b[0m \u001b[0;32min\u001b[0m \u001b[0mtemp_args\u001b[0m\u001b[0;34m:\u001b[0m\u001b[0;34m\u001b[0m\u001b[0;34m\u001b[0m\u001b[0m\n",
      "\u001b[0;32m/opt/cloudera/parcels/CDH-6.1.1-1.cdh6.1.1.p0.875250/lib/spark/python/pyspark/sql/utils.py\u001b[0m in \u001b[0;36mdeco\u001b[0;34m(*a, **kw)\u001b[0m\n\u001b[1;32m     67\u001b[0m                                              e.java_exception.getStackTrace()))\n\u001b[1;32m     68\u001b[0m             \u001b[0;32mif\u001b[0m \u001b[0ms\u001b[0m\u001b[0;34m.\u001b[0m\u001b[0mstartswith\u001b[0m\u001b[0;34m(\u001b[0m\u001b[0;34m'org.apache.spark.sql.AnalysisException: '\u001b[0m\u001b[0;34m)\u001b[0m\u001b[0;34m:\u001b[0m\u001b[0;34m\u001b[0m\u001b[0;34m\u001b[0m\u001b[0m\n\u001b[0;32m---> 69\u001b[0;31m                 \u001b[0;32mraise\u001b[0m \u001b[0mAnalysisException\u001b[0m\u001b[0;34m(\u001b[0m\u001b[0ms\u001b[0m\u001b[0;34m.\u001b[0m\u001b[0msplit\u001b[0m\u001b[0;34m(\u001b[0m\u001b[0;34m': '\u001b[0m\u001b[0;34m,\u001b[0m \u001b[0;36m1\u001b[0m\u001b[0;34m)\u001b[0m\u001b[0;34m[\u001b[0m\u001b[0;36m1\u001b[0m\u001b[0;34m]\u001b[0m\u001b[0;34m,\u001b[0m \u001b[0mstackTrace\u001b[0m\u001b[0;34m)\u001b[0m\u001b[0;34m\u001b[0m\u001b[0;34m\u001b[0m\u001b[0m\n\u001b[0m\u001b[1;32m     70\u001b[0m             \u001b[0;32mif\u001b[0m \u001b[0ms\u001b[0m\u001b[0;34m.\u001b[0m\u001b[0mstartswith\u001b[0m\u001b[0;34m(\u001b[0m\u001b[0;34m'org.apache.spark.sql.catalyst.analysis'\u001b[0m\u001b[0;34m)\u001b[0m\u001b[0;34m:\u001b[0m\u001b[0;34m\u001b[0m\u001b[0;34m\u001b[0m\u001b[0m\n\u001b[1;32m     71\u001b[0m                 \u001b[0;32mraise\u001b[0m \u001b[0mAnalysisException\u001b[0m\u001b[0;34m(\u001b[0m\u001b[0ms\u001b[0m\u001b[0;34m.\u001b[0m\u001b[0msplit\u001b[0m\u001b[0;34m(\u001b[0m\u001b[0;34m': '\u001b[0m\u001b[0;34m,\u001b[0m \u001b[0;36m1\u001b[0m\u001b[0;34m)\u001b[0m\u001b[0;34m[\u001b[0m\u001b[0;36m1\u001b[0m\u001b[0;34m]\u001b[0m\u001b[0;34m,\u001b[0m \u001b[0mstackTrace\u001b[0m\u001b[0;34m)\u001b[0m\u001b[0;34m\u001b[0m\u001b[0;34m\u001b[0m\u001b[0m\n",
      "\u001b[0;31mAnalysisException\u001b[0m: 'Table or view not found: Sales; line 5 pos 9'"
     ]
    }
   ],
   "source": [
    "spark.sql('''\n",
    "    SELECT \n",
    "        store_id\n",
    "        ,count(*)\n",
    "    FROM Sales\n",
    "    GROUP BY\n",
    "        store_id\n",
    "    ORDER BY\n",
    "        store_id\n",
    "''').show()#now spark sql works on our temporary view just stored for this session"
   ]
  },
  {
   "cell_type": "code",
   "execution_count": 7,
   "metadata": {},
   "outputs": [
    {
     "name": "stdout",
     "output_type": "stream",
     "text": [
      "+--------+----------+------------------+\n",
      "|store_id|        ds|                 y|\n",
      "+--------+----------+------------------+\n",
      "|      25| 1/13/2019|       696457.1717|\n",
      "|      25| 1/20/2019|        996876.875|\n",
      "|      25| 1/27/2019|        1029737.05|\n",
      "|      25|  1/6/2019|       736657.2267|\n",
      "|      25|10/13/2019|        735723.327|\n",
      "|      25|10/20/2019|         984872.55|\n",
      "|      25|10/27/2019|       866777.1362|\n",
      "|      25| 10/6/2019|          861162.1|\n",
      "|      25|11/10/2019|         895675.95|\n",
      "|      25|11/17/2019|       255034.3333|\n",
      "|      25|11/24/2019|          314210.5|\n",
      "|      25| 11/3/2019|1028016.8470000001|\n",
      "|      25| 12/1/2019|       376708.0633|\n",
      "|      25|12/15/2019|       307857.8817|\n",
      "|      25| 12/8/2019|       914292.7833|\n",
      "|      25| 2/10/2019|       880462.4681|\n",
      "|      25| 2/17/2019|        1088756.78|\n",
      "|      25| 2/24/2019|       1266928.313|\n",
      "|      25|  2/3/2019|       1072873.705|\n",
      "|      25| 3/10/2019|       747920.9824|\n",
      "+--------+----------+------------------+\n",
      "only showing top 20 rows\n",
      "\n"
     ]
    }
   ],
   "source": [
    "new_query = '''\n",
    "    SELECT\n",
    "        store_id,\n",
    "        date as ds,\n",
    "        SUM(sales) as y\n",
    "    FROM sales\n",
    "    GROUP BY\n",
    "        store_id,\n",
    "        ds\n",
    "    ORDER BY\n",
    "        store_id,\n",
    "        ds\n",
    "'''\n",
    "spark.sql(new_query).show()#sd and y renaming stands for prophet and sarimax from statsmodels prerequirements"
   ]
  },
  {
   "cell_type": "markdown",
   "metadata": {},
   "source": [
    "De la manera actual, tendriamos las distintas store id en chuncks existiendo en los recursos de ram destinados a cada nodo. Esto es suboptimo, ya que cada store_id es una tienda, con sus ventas asignadas al primero de cada semana. Cada tienda tiene su propia estacionalidad, trend y demas. Luego cada una requiere su propio modelo. No tiene sentido usar pandas_udf para hacer forecasting de la tienda 25, y que la mitad de los datos esten en un nodo, la otra mitad en otro, pues al final todos estos datos pertenecen a la misma serie temporal. Lo ideal es que cada nodo contenga una tienda. Entonces, hacemos forecasting de cada tienda en cada nodo. Esto es asi porque este problema no es de prediccion de series temporales multivariante, sino prediccion de multiples series temporales monovariantes. Si nuestro problema esta mas orientado a que la ingesta de datos de una unica serie temporal es enorme, y no podemos agrupar para subir en granularidad, no quedaria mas remedio que aceptar que la prediccion se ejecutara entre nodos , perdiendo parte de las ventajas de la abstraccion que es map reduce. \n",
    "Inciso: pandas_udf es pandas user-defined functions. Solo funciona en python3"
   ]
  },
  {
   "cell_type": "code",
   "execution_count": 27,
   "metadata": {},
   "outputs": [
    {
     "name": "stdout",
     "output_type": "stream",
     "text": [
      "== Physical Plan ==\n",
      "Scan ExistingRDD[date#0,store_id#1L,sales#2]\n"
     ]
    }
   ],
   "source": [
    "s_df.explain()"
   ]
  },
  {
   "cell_type": "code",
   "execution_count": 28,
   "metadata": {},
   "outputs": [
    {
     "data": {
      "text/plain": [
       "2"
      ]
     },
     "execution_count": 28,
     "metadata": {},
     "output_type": "execute_result"
    }
   ],
   "source": [
    "s_df.rdd.getNumPartitions()"
   ]
  },
  {
   "cell_type": "code",
   "execution_count": 8,
   "metadata": {},
   "outputs": [],
   "source": [
    "store_part = (spark.sql(new_query).repartition(spark.sparkContext.defaultParallelism, ['store_id'])).cache()#guardarlo en cache"
   ]
  },
  {
   "cell_type": "markdown",
   "metadata": {},
   "source": [
    "Cache explanation:\n",
    "https://sparkbyexamples.com/spark/spark-dataframe-cache-and-persist-explained/"
   ]
  },
  {
   "cell_type": "code",
   "execution_count": 193,
   "metadata": {},
   "outputs": [
    {
     "name": "stdout",
     "output_type": "stream",
     "text": [
      "== Physical Plan ==\n",
      "InMemoryTableScan [store_id#1L, ds#50, y#51]\n",
      "   +- InMemoryRelation [store_id#1L, ds#50, y#51], StorageLevel(disk, memory, deserialized, 1 replicas)\n",
      "         +- Exchange hashpartitioning(store_id#1L, 2)\n",
      "            +- *(3) Sort [store_id#1L ASC NULLS FIRST, ds#50 ASC NULLS FIRST], true, 0\n",
      "               +- Exchange rangepartitioning(store_id#1L ASC NULLS FIRST, ds#50 ASC NULLS FIRST, 200)\n",
      "                  +- *(2) HashAggregate(keys=[store_id#1L, date#0], functions=[sum(sales#2)])\n",
      "                     +- Exchange hashpartitioning(store_id#1L, date#0, 200)\n",
      "                        +- *(1) HashAggregate(keys=[store_id#1L, date#0], functions=[partial_sum(sales#2)])\n",
      "                           +- Scan ExistingRDD[date#0,store_id#1L,sales#2]\n"
     ]
    }
   ],
   "source": [
    "store_part.explain()"
   ]
  },
  {
   "cell_type": "markdown",
   "metadata": {},
   "source": [
    "Cache() over a DataFrame (as it is the case on the cell above) is an alias for Persist (in memory and disk).  Do not mistake this with rdd.cache(), since for rdds, the default parameter of this persist alias is only only on disk."
   ]
  },
  {
   "cell_type": "code",
   "execution_count": 10,
   "metadata": {},
   "outputs": [
    {
     "data": {
      "text/plain": [
       "2"
      ]
     },
     "execution_count": 10,
     "metadata": {},
     "output_type": "execute_result"
    }
   ],
   "source": [
    "store_part.rdd.getNumPartitions()"
   ]
  },
  {
   "cell_type": "code",
   "execution_count": 32,
   "metadata": {},
   "outputs": [
    {
     "data": {
      "text/plain": [
       "pyspark.sql.dataframe.DataFrame"
      ]
     },
     "execution_count": 32,
     "metadata": {},
     "output_type": "execute_result"
    }
   ],
   "source": [
    "type(spark.sql(new_query).repartition(spark.sparkContext.defaultParallelism, ['store_id']))"
   ]
  },
  {
   "cell_type": "code",
   "execution_count": 194,
   "metadata": {},
   "outputs": [
    {
     "data": {
      "text/plain": [
       "DataFrame[store_id: bigint, ds: string, y: double]"
      ]
     },
     "execution_count": 194,
     "metadata": {},
     "output_type": "execute_result"
    }
   ],
   "source": [
    "store_part"
   ]
  },
  {
   "cell_type": "code",
   "execution_count": 34,
   "metadata": {},
   "outputs": [],
   "source": [
    "#Time to use pandas udf\n",
    "#We first need to import all sql types from pyspark since we are using them for an schema\n",
    "#We need to create an schema of the returned object from the udf function\n",
    "#for example, in pandas_udf calling prophet, it will be ds, stored_id,y,yhat,yhat_upper and yhat_lower,\n",
    "#For this example, we are using ARIMA family models"
   ]
  },
  {
   "cell_type": "markdown",
   "metadata": {},
   "source": [
    "Sadly, pyspark doesnt have a functionality for visualizing, so before collecting in the master node, you might try to roll up on aggregation to prevent memory issues, then visualize the agregated data. However, if you only care about the autocorrelation as a value, you can always use a pandas udf that returns the acf of each time series. The only real spark native way of visualizing is using https://zeppelin.apache.org/docs/latest/quickstart/spark_with_zeppelin.html zeppelin notebooks, however this might be saved for a future enhancement since implies more tools integration"
   ]
  },
  {
   "cell_type": "code",
   "execution_count": 11,
   "metadata": {},
   "outputs": [],
   "source": [
    "from pyspark.sql.types import *\n",
    "from statsmodels.tsa.statespace.sarimax import SARIMAX\n",
    "from pandas.plotting import autocorrelation_plot\n"
   ]
  },
  {
   "cell_type": "code",
   "execution_count": 12,
   "metadata": {},
   "outputs": [
    {
     "ename": "TypeError",
     "evalue": "object of type 'DataFrame' has no len()",
     "output_type": "error",
     "traceback": [
      "\u001b[0;31m---------------------------------------------------------------------------\u001b[0m",
      "\u001b[0;31mTypeError\u001b[0m                                 Traceback (most recent call last)",
      "\u001b[0;32m<ipython-input-12-41af6a0f439a>\u001b[0m in \u001b[0;36m<module>\u001b[0;34m\u001b[0m\n\u001b[0;32m----> 1\u001b[0;31m \u001b[0mautocorrelation_plot\u001b[0m\u001b[0;34m(\u001b[0m\u001b[0mstore_part\u001b[0m\u001b[0;34m)\u001b[0m\u001b[0;34m\u001b[0m\u001b[0;34m\u001b[0m\u001b[0m\n\u001b[0m",
      "\u001b[0;32m/opt/cesga/anaconda/Anaconda3-2020.02/lib/python3.7/site-packages/pandas/plotting/_misc.py\u001b[0m in \u001b[0;36mautocorrelation_plot\u001b[0;34m(series, ax, **kwargs)\u001b[0m\n\u001b[1;32m    418\u001b[0m     \"\"\"\n\u001b[1;32m    419\u001b[0m     \u001b[0mplot_backend\u001b[0m \u001b[0;34m=\u001b[0m \u001b[0m_get_plot_backend\u001b[0m\u001b[0;34m(\u001b[0m\u001b[0;34m\"matplotlib\"\u001b[0m\u001b[0;34m)\u001b[0m\u001b[0;34m\u001b[0m\u001b[0;34m\u001b[0m\u001b[0m\n\u001b[0;32m--> 420\u001b[0;31m     \u001b[0;32mreturn\u001b[0m \u001b[0mplot_backend\u001b[0m\u001b[0;34m.\u001b[0m\u001b[0mautocorrelation_plot\u001b[0m\u001b[0;34m(\u001b[0m\u001b[0mseries\u001b[0m\u001b[0;34m=\u001b[0m\u001b[0mseries\u001b[0m\u001b[0;34m,\u001b[0m \u001b[0max\u001b[0m\u001b[0;34m=\u001b[0m\u001b[0max\u001b[0m\u001b[0;34m,\u001b[0m \u001b[0;34m**\u001b[0m\u001b[0mkwargs\u001b[0m\u001b[0;34m)\u001b[0m\u001b[0;34m\u001b[0m\u001b[0;34m\u001b[0m\u001b[0m\n\u001b[0m\u001b[1;32m    421\u001b[0m \u001b[0;34m\u001b[0m\u001b[0m\n\u001b[1;32m    422\u001b[0m \u001b[0;34m\u001b[0m\u001b[0m\n",
      "\u001b[0;32m/opt/cesga/anaconda/Anaconda3-2020.02/lib/python3.7/site-packages/pandas/plotting/_matplotlib/misc.py\u001b[0m in \u001b[0;36mautocorrelation_plot\u001b[0;34m(series, ax, **kwds)\u001b[0m\n\u001b[1;32m    404\u001b[0m     \u001b[0;32mimport\u001b[0m \u001b[0mmatplotlib\u001b[0m\u001b[0;34m.\u001b[0m\u001b[0mpyplot\u001b[0m \u001b[0;32mas\u001b[0m \u001b[0mplt\u001b[0m\u001b[0;34m\u001b[0m\u001b[0;34m\u001b[0m\u001b[0m\n\u001b[1;32m    405\u001b[0m \u001b[0;34m\u001b[0m\u001b[0m\n\u001b[0;32m--> 406\u001b[0;31m     \u001b[0mn\u001b[0m \u001b[0;34m=\u001b[0m \u001b[0mlen\u001b[0m\u001b[0;34m(\u001b[0m\u001b[0mseries\u001b[0m\u001b[0;34m)\u001b[0m\u001b[0;34m\u001b[0m\u001b[0;34m\u001b[0m\u001b[0m\n\u001b[0m\u001b[1;32m    407\u001b[0m     \u001b[0mdata\u001b[0m \u001b[0;34m=\u001b[0m \u001b[0mnp\u001b[0m\u001b[0;34m.\u001b[0m\u001b[0masarray\u001b[0m\u001b[0;34m(\u001b[0m\u001b[0mseries\u001b[0m\u001b[0;34m)\u001b[0m\u001b[0;34m\u001b[0m\u001b[0;34m\u001b[0m\u001b[0m\n\u001b[1;32m    408\u001b[0m     \u001b[0;32mif\u001b[0m \u001b[0max\u001b[0m \u001b[0;32mis\u001b[0m \u001b[0;32mNone\u001b[0m\u001b[0;34m:\u001b[0m\u001b[0;34m\u001b[0m\u001b[0;34m\u001b[0m\u001b[0m\n",
      "\u001b[0;31mTypeError\u001b[0m: object of type 'DataFrame' has no len()"
     ]
    }
   ],
   "source": [
    "autocorrelation_plot(store_part)"
   ]
  },
  {
   "cell_type": "code",
   "execution_count": 15,
   "metadata": {},
   "outputs": [
    {
     "data": {
      "text/html": [
       "<div>\n",
       "<style scoped>\n",
       "    .dataframe tbody tr th:only-of-type {\n",
       "        vertical-align: middle;\n",
       "    }\n",
       "\n",
       "    .dataframe tbody tr th {\n",
       "        vertical-align: top;\n",
       "    }\n",
       "\n",
       "    .dataframe thead th {\n",
       "        text-align: right;\n",
       "    }\n",
       "</style>\n",
       "<table border=\"1\" class=\"dataframe\">\n",
       "  <thead>\n",
       "    <tr style=\"text-align: right;\">\n",
       "      <th></th>\n",
       "      <th>date</th>\n",
       "      <th>store_id</th>\n",
       "      <th>sales</th>\n",
       "    </tr>\n",
       "  </thead>\n",
       "  <tbody>\n",
       "    <tr>\n",
       "      <th>0</th>\n",
       "      <td>1/6/2019</td>\n",
       "      <td>25</td>\n",
       "      <td>7.366572e+05</td>\n",
       "    </tr>\n",
       "    <tr>\n",
       "      <th>10</th>\n",
       "      <td>1/13/2019</td>\n",
       "      <td>25</td>\n",
       "      <td>6.964572e+05</td>\n",
       "    </tr>\n",
       "    <tr>\n",
       "      <th>20</th>\n",
       "      <td>1/20/2019</td>\n",
       "      <td>25</td>\n",
       "      <td>9.968769e+05</td>\n",
       "    </tr>\n",
       "    <tr>\n",
       "      <th>30</th>\n",
       "      <td>1/27/2019</td>\n",
       "      <td>25</td>\n",
       "      <td>1.029737e+06</td>\n",
       "    </tr>\n",
       "    <tr>\n",
       "      <th>40</th>\n",
       "      <td>2/3/2019</td>\n",
       "      <td>25</td>\n",
       "      <td>1.072874e+06</td>\n",
       "    </tr>\n",
       "  </tbody>\n",
       "</table>\n",
       "</div>"
      ],
      "text/plain": [
       "         date  store_id         sales\n",
       "0    1/6/2019        25  7.366572e+05\n",
       "10  1/13/2019        25  6.964572e+05\n",
       "20  1/20/2019        25  9.968769e+05\n",
       "30  1/27/2019        25  1.029737e+06\n",
       "40   2/3/2019        25  1.072874e+06"
      ]
     },
     "execution_count": 15,
     "metadata": {},
     "output_type": "execute_result"
    }
   ],
   "source": [
    "#First lets do it out of pandas_udf as a dummier example,lets use store_id 25 for the moment\n",
    "df_25=df.copy()\n",
    "df_25= df_25[df_25.store_id ==25]\n",
    "df_25.head(5)"
   ]
  },
  {
   "cell_type": "code",
   "execution_count": 16,
   "metadata": {},
   "outputs": [],
   "source": [
    "#df_25.drop(columns=['store_id'])\n",
    "df_25.head()\n",
    "df_25.index=df_25.date\n",
    "df_25=df_25.drop(columns=['date'])"
   ]
  },
  {
   "cell_type": "code",
   "execution_count": 17,
   "metadata": {},
   "outputs": [],
   "source": [
    "df_25=df_25.drop(columns=['store_id'])"
   ]
  },
  {
   "cell_type": "code",
   "execution_count": 115,
   "metadata": {},
   "outputs": [
    {
     "data": {
      "text/html": [
       "<div>\n",
       "<style scoped>\n",
       "    .dataframe tbody tr th:only-of-type {\n",
       "        vertical-align: middle;\n",
       "    }\n",
       "\n",
       "    .dataframe tbody tr th {\n",
       "        vertical-align: top;\n",
       "    }\n",
       "\n",
       "    .dataframe thead th {\n",
       "        text-align: right;\n",
       "    }\n",
       "</style>\n",
       "<table border=\"1\" class=\"dataframe\">\n",
       "  <thead>\n",
       "    <tr style=\"text-align: right;\">\n",
       "      <th></th>\n",
       "      <th>date</th>\n",
       "      <th>store_id</th>\n",
       "      <th>sales</th>\n",
       "    </tr>\n",
       "  </thead>\n",
       "  <tbody>\n",
       "    <tr>\n",
       "      <th>0</th>\n",
       "      <td>1/6/2019</td>\n",
       "      <td>25</td>\n",
       "      <td>736657.2267</td>\n",
       "    </tr>\n",
       "    <tr>\n",
       "      <th>1</th>\n",
       "      <td>1/6/2019</td>\n",
       "      <td>26</td>\n",
       "      <td>233711.0000</td>\n",
       "    </tr>\n",
       "    <tr>\n",
       "      <th>2</th>\n",
       "      <td>1/6/2019</td>\n",
       "      <td>28</td>\n",
       "      <td>692156.3794</td>\n",
       "    </tr>\n",
       "    <tr>\n",
       "      <th>3</th>\n",
       "      <td>1/6/2019</td>\n",
       "      <td>29</td>\n",
       "      <td>213706.8000</td>\n",
       "    </tr>\n",
       "    <tr>\n",
       "      <th>4</th>\n",
       "      <td>1/6/2019</td>\n",
       "      <td>30</td>\n",
       "      <td>266455.0000</td>\n",
       "    </tr>\n",
       "    <tr>\n",
       "      <th>...</th>\n",
       "      <td>...</td>\n",
       "      <td>...</td>\n",
       "      <td>...</td>\n",
       "    </tr>\n",
       "    <tr>\n",
       "      <th>495</th>\n",
       "      <td>12/15/2019</td>\n",
       "      <td>31</td>\n",
       "      <td>401803.3590</td>\n",
       "    </tr>\n",
       "    <tr>\n",
       "      <th>496</th>\n",
       "      <td>12/15/2019</td>\n",
       "      <td>35</td>\n",
       "      <td>135799.1429</td>\n",
       "    </tr>\n",
       "    <tr>\n",
       "      <th>497</th>\n",
       "      <td>12/15/2019</td>\n",
       "      <td>38</td>\n",
       "      <td>115424.2250</td>\n",
       "    </tr>\n",
       "    <tr>\n",
       "      <th>498</th>\n",
       "      <td>12/15/2019</td>\n",
       "      <td>41</td>\n",
       "      <td>103375.0000</td>\n",
       "    </tr>\n",
       "    <tr>\n",
       "      <th>499</th>\n",
       "      <td>12/15/2019</td>\n",
       "      <td>44</td>\n",
       "      <td>51210.0000</td>\n",
       "    </tr>\n",
       "  </tbody>\n",
       "</table>\n",
       "<p>500 rows × 3 columns</p>\n",
       "</div>"
      ],
      "text/plain": [
       "           date  store_id        sales\n",
       "0      1/6/2019        25  736657.2267\n",
       "1      1/6/2019        26  233711.0000\n",
       "2      1/6/2019        28  692156.3794\n",
       "3      1/6/2019        29  213706.8000\n",
       "4      1/6/2019        30  266455.0000\n",
       "..          ...       ...          ...\n",
       "495  12/15/2019        31  401803.3590\n",
       "496  12/15/2019        35  135799.1429\n",
       "497  12/15/2019        38  115424.2250\n",
       "498  12/15/2019        41  103375.0000\n",
       "499  12/15/2019        44   51210.0000\n",
       "\n",
       "[500 rows x 3 columns]"
      ]
     },
     "execution_count": 115,
     "metadata": {},
     "output_type": "execute_result"
    }
   ],
   "source": [
    "dumb=df.copy()\n",
    "dumb"
   ]
  },
  {
   "cell_type": "code",
   "execution_count": 111,
   "metadata": {},
   "outputs": [
    {
     "data": {
      "text/html": [
       "<div>\n",
       "<style scoped>\n",
       "    .dataframe tbody tr th:only-of-type {\n",
       "        vertical-align: middle;\n",
       "    }\n",
       "\n",
       "    .dataframe tbody tr th {\n",
       "        vertical-align: top;\n",
       "    }\n",
       "\n",
       "    .dataframe thead th {\n",
       "        text-align: right;\n",
       "    }\n",
       "</style>\n",
       "<table border=\"1\" class=\"dataframe\">\n",
       "  <thead>\n",
       "    <tr style=\"text-align: right;\">\n",
       "      <th></th>\n",
       "      <th>store_id</th>\n",
       "      <th>sales</th>\n",
       "    </tr>\n",
       "    <tr>\n",
       "      <th>date</th>\n",
       "      <th></th>\n",
       "      <th></th>\n",
       "    </tr>\n",
       "  </thead>\n",
       "  <tbody>\n",
       "    <tr>\n",
       "      <th>1/6/2019</th>\n",
       "      <td>25</td>\n",
       "      <td>736657.2267</td>\n",
       "    </tr>\n",
       "    <tr>\n",
       "      <th>1/6/2019</th>\n",
       "      <td>26</td>\n",
       "      <td>233711.0000</td>\n",
       "    </tr>\n",
       "    <tr>\n",
       "      <th>1/6/2019</th>\n",
       "      <td>28</td>\n",
       "      <td>692156.3794</td>\n",
       "    </tr>\n",
       "    <tr>\n",
       "      <th>1/6/2019</th>\n",
       "      <td>29</td>\n",
       "      <td>213706.8000</td>\n",
       "    </tr>\n",
       "    <tr>\n",
       "      <th>1/6/2019</th>\n",
       "      <td>30</td>\n",
       "      <td>266455.0000</td>\n",
       "    </tr>\n",
       "    <tr>\n",
       "      <th>...</th>\n",
       "      <td>...</td>\n",
       "      <td>...</td>\n",
       "    </tr>\n",
       "    <tr>\n",
       "      <th>12/15/2019</th>\n",
       "      <td>31</td>\n",
       "      <td>401803.3590</td>\n",
       "    </tr>\n",
       "    <tr>\n",
       "      <th>12/15/2019</th>\n",
       "      <td>35</td>\n",
       "      <td>135799.1429</td>\n",
       "    </tr>\n",
       "    <tr>\n",
       "      <th>12/15/2019</th>\n",
       "      <td>38</td>\n",
       "      <td>115424.2250</td>\n",
       "    </tr>\n",
       "    <tr>\n",
       "      <th>12/15/2019</th>\n",
       "      <td>41</td>\n",
       "      <td>103375.0000</td>\n",
       "    </tr>\n",
       "    <tr>\n",
       "      <th>12/15/2019</th>\n",
       "      <td>44</td>\n",
       "      <td>51210.0000</td>\n",
       "    </tr>\n",
       "  </tbody>\n",
       "</table>\n",
       "<p>500 rows × 2 columns</p>\n",
       "</div>"
      ],
      "text/plain": [
       "            store_id        sales\n",
       "date                             \n",
       "1/6/2019          25  736657.2267\n",
       "1/6/2019          26  233711.0000\n",
       "1/6/2019          28  692156.3794\n",
       "1/6/2019          29  213706.8000\n",
       "1/6/2019          30  266455.0000\n",
       "...              ...          ...\n",
       "12/15/2019        31  401803.3590\n",
       "12/15/2019        35  135799.1429\n",
       "12/15/2019        38  115424.2250\n",
       "12/15/2019        41  103375.0000\n",
       "12/15/2019        44   51210.0000\n",
       "\n",
       "[500 rows x 2 columns]"
      ]
     },
     "execution_count": 111,
     "metadata": {},
     "output_type": "execute_result"
    }
   ],
   "source": [
    "dumb=dumb.set_index('date')\n",
    "dumb"
   ]
  },
  {
   "cell_type": "code",
   "execution_count": 112,
   "metadata": {},
   "outputs": [],
   "source": [
    "dumb.reset_index(level=0, inplace=True)"
   ]
  },
  {
   "cell_type": "code",
   "execution_count": 113,
   "metadata": {},
   "outputs": [
    {
     "data": {
      "text/html": [
       "<div>\n",
       "<style scoped>\n",
       "    .dataframe tbody tr th:only-of-type {\n",
       "        vertical-align: middle;\n",
       "    }\n",
       "\n",
       "    .dataframe tbody tr th {\n",
       "        vertical-align: top;\n",
       "    }\n",
       "\n",
       "    .dataframe thead th {\n",
       "        text-align: right;\n",
       "    }\n",
       "</style>\n",
       "<table border=\"1\" class=\"dataframe\">\n",
       "  <thead>\n",
       "    <tr style=\"text-align: right;\">\n",
       "      <th></th>\n",
       "      <th>date</th>\n",
       "      <th>store_id</th>\n",
       "      <th>sales</th>\n",
       "    </tr>\n",
       "  </thead>\n",
       "  <tbody>\n",
       "    <tr>\n",
       "      <th>0</th>\n",
       "      <td>1/6/2019</td>\n",
       "      <td>25</td>\n",
       "      <td>736657.2267</td>\n",
       "    </tr>\n",
       "    <tr>\n",
       "      <th>1</th>\n",
       "      <td>1/6/2019</td>\n",
       "      <td>26</td>\n",
       "      <td>233711.0000</td>\n",
       "    </tr>\n",
       "    <tr>\n",
       "      <th>2</th>\n",
       "      <td>1/6/2019</td>\n",
       "      <td>28</td>\n",
       "      <td>692156.3794</td>\n",
       "    </tr>\n",
       "    <tr>\n",
       "      <th>3</th>\n",
       "      <td>1/6/2019</td>\n",
       "      <td>29</td>\n",
       "      <td>213706.8000</td>\n",
       "    </tr>\n",
       "    <tr>\n",
       "      <th>4</th>\n",
       "      <td>1/6/2019</td>\n",
       "      <td>30</td>\n",
       "      <td>266455.0000</td>\n",
       "    </tr>\n",
       "    <tr>\n",
       "      <th>...</th>\n",
       "      <td>...</td>\n",
       "      <td>...</td>\n",
       "      <td>...</td>\n",
       "    </tr>\n",
       "    <tr>\n",
       "      <th>495</th>\n",
       "      <td>12/15/2019</td>\n",
       "      <td>31</td>\n",
       "      <td>401803.3590</td>\n",
       "    </tr>\n",
       "    <tr>\n",
       "      <th>496</th>\n",
       "      <td>12/15/2019</td>\n",
       "      <td>35</td>\n",
       "      <td>135799.1429</td>\n",
       "    </tr>\n",
       "    <tr>\n",
       "      <th>497</th>\n",
       "      <td>12/15/2019</td>\n",
       "      <td>38</td>\n",
       "      <td>115424.2250</td>\n",
       "    </tr>\n",
       "    <tr>\n",
       "      <th>498</th>\n",
       "      <td>12/15/2019</td>\n",
       "      <td>41</td>\n",
       "      <td>103375.0000</td>\n",
       "    </tr>\n",
       "    <tr>\n",
       "      <th>499</th>\n",
       "      <td>12/15/2019</td>\n",
       "      <td>44</td>\n",
       "      <td>51210.0000</td>\n",
       "    </tr>\n",
       "  </tbody>\n",
       "</table>\n",
       "<p>500 rows × 3 columns</p>\n",
       "</div>"
      ],
      "text/plain": [
       "           date  store_id        sales\n",
       "0      1/6/2019        25  736657.2267\n",
       "1      1/6/2019        26  233711.0000\n",
       "2      1/6/2019        28  692156.3794\n",
       "3      1/6/2019        29  213706.8000\n",
       "4      1/6/2019        30  266455.0000\n",
       "..          ...       ...          ...\n",
       "495  12/15/2019        31  401803.3590\n",
       "496  12/15/2019        35  135799.1429\n",
       "497  12/15/2019        38  115424.2250\n",
       "498  12/15/2019        41  103375.0000\n",
       "499  12/15/2019        44   51210.0000\n",
       "\n",
       "[500 rows x 3 columns]"
      ]
     },
     "execution_count": 113,
     "metadata": {},
     "output_type": "execute_result"
    }
   ],
   "source": [
    "dumb\n"
   ]
  },
  {
   "cell_type": "code",
   "execution_count": 18,
   "metadata": {},
   "outputs": [
    {
     "data": {
      "text/plain": [
       "<matplotlib.axes._subplots.AxesSubplot at 0x7f193089e710>"
      ]
     },
     "execution_count": 18,
     "metadata": {},
     "output_type": "execute_result"
    },
    {
     "data": {
      "image/png": "[encoded data removed]",
      "text/plain": [
       "<Figure size 720x576 with 1 Axes>"
      ]
     },
     "metadata": {
      "needs_background": "light"
     },
     "output_type": "display_data"
    }
   ],
   "source": [
    "autocorrelation_plot(df_25)#any lag point overpasses gareal ussian noise. If the real TFM goal were predicting this,\n",
    "#I will automatically switch to holts winters, prophet, gaussian forecasting (orbit) etc. Lets select 2 since seems to\n",
    "#be the closer one as AR parameter (and you should look for seasonality, which seems to be more clear)"
   ]
  },
  {
   "cell_type": "code",
   "execution_count": 19,
   "metadata": {},
   "outputs": [
    {
     "data": {
      "image/png": "[encoded data removed]",
      "text/plain": [
       "<Figure size 720x576 with 1 Axes>"
      ]
     },
     "metadata": {
      "needs_background": "light"
     },
     "output_type": "display_data"
    }
   ],
   "source": [
    "from matplotlib import pyplot\n",
    "df_25.plot()\n",
    "pyplot.show()"
   ]
  },
  {
   "cell_type": "code",
   "execution_count": 20,
   "metadata": {},
   "outputs": [
    {
     "data": {
      "text/plain": [
       "(-0.7094873999112801,\n",
       " 0.8442767584981496,\n",
       " 5,\n",
       " 44,\n",
       " {'1%': -3.5885733964124715,\n",
       "  '5%': -2.929885661157025,\n",
       "  '10%': -2.6031845661157025},\n",
       " 1037.9375947503395)"
      ]
     },
     "execution_count": 20,
     "metadata": {},
     "output_type": "execute_result"
    }
   ],
   "source": [
    "from statsmodels.tsa.stattools import adfuller\n",
    "adfuller(df_25)#First element is the p-value of the augmented dickey fuller test, whose H0 null hypotesis is\n",
    "#that the ts is not stationary. 0.84 is clearly non stationary, we need to differenciate"
   ]
  },
  {
   "cell_type": "code",
   "execution_count": 21,
   "metadata": {},
   "outputs": [
    {
     "data": {
      "text/html": [
       "<div>\n",
       "<style scoped>\n",
       "    .dataframe tbody tr th:only-of-type {\n",
       "        vertical-align: middle;\n",
       "    }\n",
       "\n",
       "    .dataframe tbody tr th {\n",
       "        vertical-align: top;\n",
       "    }\n",
       "\n",
       "    .dataframe thead th {\n",
       "        text-align: right;\n",
       "    }\n",
       "</style>\n",
       "<table border=\"1\" class=\"dataframe\">\n",
       "  <thead>\n",
       "    <tr style=\"text-align: right;\">\n",
       "      <th></th>\n",
       "      <th>sales</th>\n",
       "    </tr>\n",
       "    <tr>\n",
       "      <th>date</th>\n",
       "      <th></th>\n",
       "    </tr>\n",
       "  </thead>\n",
       "  <tbody>\n",
       "    <tr>\n",
       "      <th>11/17/2019</th>\n",
       "      <td>-640641.6167</td>\n",
       "    </tr>\n",
       "    <tr>\n",
       "      <th>11/24/2019</th>\n",
       "      <td>59176.1667</td>\n",
       "    </tr>\n",
       "    <tr>\n",
       "      <th>12/1/2019</th>\n",
       "      <td>62497.5633</td>\n",
       "    </tr>\n",
       "    <tr>\n",
       "      <th>12/8/2019</th>\n",
       "      <td>537584.7200</td>\n",
       "    </tr>\n",
       "    <tr>\n",
       "      <th>12/15/2019</th>\n",
       "      <td>-606434.9016</td>\n",
       "    </tr>\n",
       "  </tbody>\n",
       "</table>\n",
       "</div>"
      ],
      "text/plain": [
       "                  sales\n",
       "date                   \n",
       "11/17/2019 -640641.6167\n",
       "11/24/2019   59176.1667\n",
       "12/1/2019    62497.5633\n",
       "12/8/2019   537584.7200\n",
       "12/15/2019 -606434.9016"
      ]
     },
     "execution_count": 21,
     "metadata": {},
     "output_type": "execute_result"
    }
   ],
   "source": [
    "df_25_diff=df_25.diff().dropna()#Obviously, the first cvalue of the differenciation is a NaN\n",
    "df_25_diff.tail()"
   ]
  },
  {
   "cell_type": "code",
   "execution_count": 22,
   "metadata": {},
   "outputs": [
    {
     "data": {
      "image/png": "[encoded data removed]",
      "text/plain": [
       "<Figure size 720x576 with 1 Axes>"
      ]
     },
     "metadata": {
      "needs_background": "light"
     },
     "output_type": "display_data"
    }
   ],
   "source": [
    "df_25_diff.plot()\n",
    "pyplot.show()\n"
   ]
  },
  {
   "cell_type": "code",
   "execution_count": 23,
   "metadata": {},
   "outputs": [
    {
     "data": {
      "text/plain": [
       "(-3.248606176022395,\n",
       " 0.01733801271363754,\n",
       " 4,\n",
       " 44,\n",
       " {'1%': -3.5885733964124715,\n",
       "  '5%': -2.929885661157025,\n",
       "  '10%': -2.6031845661157025},\n",
       " 1009.5220194472221)"
      ]
     },
     "execution_count": 23,
     "metadata": {},
     "output_type": "execute_result"
    }
   ],
   "source": [
    "adfuller(df_25_diff)#Now it is stationary, but we need tp either, forecast and give the substraction back. \n",
    "#Or being just lazy and use of the inbuilt methods where this is already considered in stats model. Howver\n",
    "#Even for that making the manual check is useful in order to know that as soon as we differenciate once\n",
    "#Were are having smaller than 0.05 p-values (actually 0.01) as dickey fuller test, then differenciating once is more than enough"
   ]
  },
  {
   "cell_type": "code",
   "execution_count": 24,
   "metadata": {},
   "outputs": [
    {
     "data": {
      "text/plain": [
       "Index(['1/13/2019', '1/20/2019', '1/27/2019', '2/3/2019', '2/10/2019',\n",
       "       '2/17/2019', '2/24/2019', '3/3/2019', '3/10/2019', '3/17/2019',\n",
       "       '3/24/2019', '3/31/2019', '4/7/2019', '4/14/2019', '4/21/2019',\n",
       "       '4/28/2019', '5/5/2019', '5/12/2019', '5/19/2019', '5/26/2019',\n",
       "       '6/2/2019', '6/9/2019', '6/16/2019', '6/23/2019', '6/30/2019',\n",
       "       '7/7/2019', '7/14/2019', '7/21/2019', '7/28/2019', '8/4/2019',\n",
       "       '8/11/2019', '8/18/2019', '8/25/2019', '9/1/2019', '9/8/2019',\n",
       "       '9/15/2019', '9/22/2019', '9/29/2019', '10/6/2019', '10/13/2019',\n",
       "       '10/20/2019', '10/27/2019', '11/3/2019', '11/10/2019', '11/17/2019',\n",
       "       '11/24/2019', '12/1/2019', '12/8/2019', '12/15/2019'],\n",
       "      dtype='object', name='date')"
      ]
     },
     "execution_count": 24,
     "metadata": {},
     "output_type": "execute_result"
    }
   ],
   "source": [
    "df_25_diff.index"
   ]
  },
  {
   "cell_type": "code",
   "execution_count": 25,
   "metadata": {},
   "outputs": [
    {
     "data": {
      "text/html": [
       "<div>\n",
       "<style scoped>\n",
       "    .dataframe tbody tr th:only-of-type {\n",
       "        vertical-align: middle;\n",
       "    }\n",
       "\n",
       "    .dataframe tbody tr th {\n",
       "        vertical-align: top;\n",
       "    }\n",
       "\n",
       "    .dataframe thead th {\n",
       "        text-align: right;\n",
       "    }\n",
       "</style>\n",
       "<table border=\"1\" class=\"dataframe\">\n",
       "  <thead>\n",
       "    <tr style=\"text-align: right;\">\n",
       "      <th></th>\n",
       "      <th>sales</th>\n",
       "    </tr>\n",
       "    <tr>\n",
       "      <th>date</th>\n",
       "      <th></th>\n",
       "    </tr>\n",
       "  </thead>\n",
       "  <tbody>\n",
       "    <tr>\n",
       "      <th>1/6/2019</th>\n",
       "      <td>7.366572e+05</td>\n",
       "    </tr>\n",
       "    <tr>\n",
       "      <th>1/13/2019</th>\n",
       "      <td>6.964572e+05</td>\n",
       "    </tr>\n",
       "    <tr>\n",
       "      <th>1/20/2019</th>\n",
       "      <td>9.968769e+05</td>\n",
       "    </tr>\n",
       "    <tr>\n",
       "      <th>1/27/2019</th>\n",
       "      <td>1.029737e+06</td>\n",
       "    </tr>\n",
       "    <tr>\n",
       "      <th>2/3/2019</th>\n",
       "      <td>1.072874e+06</td>\n",
       "    </tr>\n",
       "    <tr>\n",
       "      <th>2/10/2019</th>\n",
       "      <td>8.804625e+05</td>\n",
       "    </tr>\n",
       "    <tr>\n",
       "      <th>2/17/2019</th>\n",
       "      <td>1.088757e+06</td>\n",
       "    </tr>\n",
       "    <tr>\n",
       "      <th>2/24/2019</th>\n",
       "      <td>1.266928e+06</td>\n",
       "    </tr>\n",
       "    <tr>\n",
       "      <th>3/3/2019</th>\n",
       "      <td>9.075101e+05</td>\n",
       "    </tr>\n",
       "    <tr>\n",
       "      <th>3/10/2019</th>\n",
       "      <td>7.479210e+05</td>\n",
       "    </tr>\n",
       "    <tr>\n",
       "      <th>3/17/2019</th>\n",
       "      <td>9.047503e+05</td>\n",
       "    </tr>\n",
       "    <tr>\n",
       "      <th>3/24/2019</th>\n",
       "      <td>1.069858e+06</td>\n",
       "    </tr>\n",
       "    <tr>\n",
       "      <th>3/31/2019</th>\n",
       "      <td>1.195574e+06</td>\n",
       "    </tr>\n",
       "    <tr>\n",
       "      <th>4/7/2019</th>\n",
       "      <td>8.349113e+05</td>\n",
       "    </tr>\n",
       "    <tr>\n",
       "      <th>4/14/2019</th>\n",
       "      <td>7.887774e+05</td>\n",
       "    </tr>\n",
       "    <tr>\n",
       "      <th>4/21/2019</th>\n",
       "      <td>8.496034e+05</td>\n",
       "    </tr>\n",
       "    <tr>\n",
       "      <th>4/28/2019</th>\n",
       "      <td>9.655212e+05</td>\n",
       "    </tr>\n",
       "    <tr>\n",
       "      <th>5/5/2019</th>\n",
       "      <td>1.045633e+06</td>\n",
       "    </tr>\n",
       "    <tr>\n",
       "      <th>5/12/2019</th>\n",
       "      <td>5.877682e+05</td>\n",
       "    </tr>\n",
       "    <tr>\n",
       "      <th>5/19/2019</th>\n",
       "      <td>8.067676e+05</td>\n",
       "    </tr>\n",
       "  </tbody>\n",
       "</table>\n",
       "</div>"
      ],
      "text/plain": [
       "                  sales\n",
       "date                   \n",
       "1/6/2019   7.366572e+05\n",
       "1/13/2019  6.964572e+05\n",
       "1/20/2019  9.968769e+05\n",
       "1/27/2019  1.029737e+06\n",
       "2/3/2019   1.072874e+06\n",
       "2/10/2019  8.804625e+05\n",
       "2/17/2019  1.088757e+06\n",
       "2/24/2019  1.266928e+06\n",
       "3/3/2019   9.075101e+05\n",
       "3/10/2019  7.479210e+05\n",
       "3/17/2019  9.047503e+05\n",
       "3/24/2019  1.069858e+06\n",
       "3/31/2019  1.195574e+06\n",
       "4/7/2019   8.349113e+05\n",
       "4/14/2019  7.887774e+05\n",
       "4/21/2019  8.496034e+05\n",
       "4/28/2019  9.655212e+05\n",
       "5/5/2019   1.045633e+06\n",
       "5/12/2019  5.877682e+05\n",
       "5/19/2019  8.067676e+05"
      ]
     },
     "execution_count": 25,
     "metadata": {},
     "output_type": "execute_result"
    }
   ],
   "source": [
    "df_25.head(20)"
   ]
  },
  {
   "cell_type": "code",
   "execution_count": 26,
   "metadata": {},
   "outputs": [
    {
     "name": "stderr",
     "output_type": "stream",
     "text": [
      "/opt/cesga/anaconda/Anaconda3-2020.02/lib/python3.7/site-packages/statsmodels/tsa/base/tsa_model.py:162: ValueWarning: No frequency information was provided, so inferred frequency W-SUN will be used.\n",
      "  % freq, ValueWarning)\n",
      "/opt/cesga/anaconda/Anaconda3-2020.02/lib/python3.7/site-packages/statsmodels/tsa/base/tsa_model.py:162: ValueWarning: No frequency information was provided, so inferred frequency W-SUN will be used.\n",
      "  % freq, ValueWarning)\n",
      "/opt/cesga/anaconda/Anaconda3-2020.02/lib/python3.7/site-packages/statsmodels/tsa/base/tsa_model.py:162: ValueWarning: No frequency information was provided, so inferred frequency W-SUN will be used.\n",
      "  % freq, ValueWarning)\n",
      "/opt/cesga/anaconda/Anaconda3-2020.02/lib/python3.7/site-packages/statsmodels/tsa/statespace/sarimax.py:963: UserWarning: Non-stationary starting autoregressive parameters found. Using zeros as starting parameters.\n",
      "  warn('Non-stationary starting autoregressive parameters'\n",
      "/opt/cesga/anaconda/Anaconda3-2020.02/lib/python3.7/site-packages/statsmodels/tsa/statespace/sarimax.py:975: UserWarning: Non-invertible starting MA parameters found. Using zeros as starting parameters.\n",
      "  warn('Non-invertible starting MA parameters found.'\n"
     ]
    },
    {
     "name": "stdout",
     "output_type": "stream",
     "text": [
      "                               SARIMAX Results                                \n",
      "==============================================================================\n",
      "Dep. Variable:                  sales   No. Observations:                   50\n",
      "Model:                 ARIMA(2, 1, 1)   Log Likelihood                -671.428\n",
      "Date:                Thu, 23 Jun 2022   AIC                           1350.856\n",
      "Time:                        09:56:26   BIC                           1358.423\n",
      "Sample:                    01-06-2019   HQIC                          1353.727\n",
      "                         - 12-15-2019                                         \n",
      "Covariance Type:                  opg                                         \n",
      "==============================================================================\n",
      "                 coef    std err          z      P>|z|      [0.025      0.975]\n",
      "------------------------------------------------------------------------------\n",
      "ar.L1          0.2052      0.191      1.073      0.283      -0.170       0.580\n",
      "ar.L2         -0.0759      0.149     -0.510      0.610      -0.367       0.216\n",
      "ma.L1         -0.6092      0.203     -3.006      0.003      -1.006      -0.212\n",
      "sigma2       3.35e+10   4.65e-13    7.2e+22      0.000    3.35e+10    3.35e+10\n",
      "===================================================================================\n",
      "Ljung-Box (Q):                       54.40   Jarque-Bera (JB):                 3.37\n",
      "Prob(Q):                              0.06   Prob(JB):                         0.19\n",
      "Heteroskedasticity (H):               1.54   Skew:                            -0.51\n",
      "Prob(H) (two-sided):                  0.40   Kurtosis:                         3.77\n",
      "===================================================================================\n",
      "\n",
      "Warnings:\n",
      "[1] Covariance matrix calculated using the outer product of gradients (complex-step).\n",
      "[2] Covariance matrix is singular or near-singular, with condition number 2.8e+39. Standard errors may be unstable.\n"
     ]
    },
    {
     "data": {
      "image/png": "[encoded data removed]",
      "text/plain": [
       "<Figure size 720x576 with 1 Axes>"
      ]
     },
     "metadata": {
      "needs_background": "light"
     },
     "output_type": "display_data"
    },
    {
     "data": {
      "image/png": "[encoded data removed]",
      "text/plain": [
       "<Figure size 720x576 with 1 Axes>"
      ]
     },
     "metadata": {
      "needs_background": "light"
     },
     "output_type": "display_data"
    },
    {
     "name": "stdout",
     "output_type": "stream",
     "text": [
      "                   0\n",
      "count      50.000000\n",
      "mean    15811.071148\n",
      "std    235717.247889\n",
      "min   -649612.723917\n",
      "25%   -112210.924729\n",
      "50%     28003.350954\n",
      "75%    168391.743522\n",
      "max    736657.226700\n"
     ]
    }
   ],
   "source": [
    "# fit modfrom statsmodels.tsa.arima.model import ARIMAel\n",
    "from pandas import DataFrame\n",
    "from statsmodels.tsa.arima.model import ARIMA\n",
    "model = ARIMA(df_25, order=(2,1,1))\n",
    "model_fit = model.fit()\n",
    "# summary of fit model\n",
    "print(model_fit.summary())\n",
    "# line plot of residuals\n",
    "residuals = DataFrame(model_fit.resid)\n",
    "residuals.plot()\n",
    "pyplot.show()\n",
    "# density plot of residuals\n",
    "residuals.plot(kind='kde')\n",
    "pyplot.show()\n",
    "# summary stats of residuals\n",
    "print(residuals.describe())"
   ]
  },
  {
   "cell_type": "code",
   "execution_count": 132,
   "metadata": {},
   "outputs": [
    {
     "data": {
      "text/plain": [
       "2019-12-22    409198.163141\n",
       "2019-12-29    476026.887122\n",
       "2020-01-05    482047.856698\n",
       "2020-01-12    478210.543668\n",
       "2020-01-19    476966.071889\n",
       "2020-01-26    477001.984454\n",
       "2020-02-02    477103.819303\n",
       "2020-02-09    477121.990158\n",
       "2020-02-16    477117.988801\n",
       "2020-02-23    477115.788393\n",
       "Freq: W-SUN, dtype: float64"
      ]
     },
     "execution_count": 132,
     "metadata": {},
     "output_type": "execute_result"
    }
   ],
   "source": [
    "model_fit.forecast(10)\n"
   ]
  },
  {
   "cell_type": "code",
   "execution_count": 28,
   "metadata": {},
   "outputs": [],
   "source": [
    "#Later on, we will come back to time series forecasting with riggor, but as for now, we just have a dummy forecast to check pandas udf\n"
   ]
  },
  {
   "cell_type": "code",
   "execution_count": 29,
   "metadata": {},
   "outputs": [
    {
     "name": "stderr",
     "output_type": "stream",
     "text": [
      "/opt/cesga/anaconda/Anaconda3-2020.02/lib/python3.7/site-packages/statsmodels/tsa/statespace/sarimax.py:963: UserWarning: Non-stationary starting autoregressive parameters found. Using zeros as starting parameters.\n",
      "  warn('Non-stationary starting autoregressive parameters'\n",
      "/opt/cesga/anaconda/Anaconda3-2020.02/lib/python3.7/site-packages/statsmodels/tsa/statespace/sarimax.py:975: UserWarning: Non-invertible starting MA parameters found. Using zeros as starting parameters.\n",
      "  warn('Non-invertible starting MA parameters found.'\n"
     ]
    },
    {
     "name": "stdout",
     "output_type": "stream",
     "text": [
      "predicted=746747.932910, expected=795299.723300\n",
      "predicted=786552.754862, expected=967413.106700\n",
      "predicted=907646.619860, expected=896295.958300\n",
      "predicted=882707.325729, expected=854582.422700\n",
      "predicted=861785.025589, expected=1038662.264000\n",
      "predicted=986049.541097, expected=1033151.636000\n",
      "predicted=1003243.070232, expected=861162.100000\n",
      "predicted=899668.578746, expected=735723.327000\n",
      "predicted=801287.673637, expected=984872.550000\n",
      "predicted=948303.283955, expected=866777.136200\n",
      "predicted=871845.787581, expected=1028016.847000\n",
      "predicted=980242.000733, expected=895675.950000\n",
      "predicted=910599.111714, expected=255034.333300\n",
      "predicted=536761.447799, expected=314210.500000\n",
      "predicted=451694.469127, expected=376708.063300\n",
      "predicted=417145.425383, expected=914292.783300\n",
      "predicted=903356.748949, expected=307857.881700\n"
     ]
    }
   ],
   "source": [
    "X = df_25.values\n",
    "size=int(len(X)*0.66)\n",
    "train,test = X[0:size],X[size:len(X)]\n",
    "history = [x for x in train]\n",
    "prediction = []\n",
    "for i in range(len(test)):\n",
    "    model = ARIMA(history, order=(2,1,1))\n",
    "    model_fit = model.fit()\n",
    "    output=model_fit.forecast()\n",
    "    yhat=output[0]\n",
    "    prediction.append(yhat)\n",
    "    obs = test[i]\n",
    "    history.append(obs)\n",
    "    print('predicted=%f, expected=%f' % (yhat, obs))\n",
    "    \n",
    "    "
   ]
  },
  {
   "cell_type": "code",
   "execution_count": 13,
   "metadata": {},
   "outputs": [
    {
     "ename": "NameError",
     "evalue": "name 'test' is not defined",
     "output_type": "error",
     "traceback": [
      "\u001b[0;31m---------------------------------------------------------------------------\u001b[0m",
      "\u001b[0;31mNameError\u001b[0m                                 Traceback (most recent call last)",
      "\u001b[0;32m<ipython-input-13-29b900bfb533>\u001b[0m in \u001b[0;36m<module>\u001b[0;34m\u001b[0m\n\u001b[1;32m      1\u001b[0m \u001b[0;32mfrom\u001b[0m \u001b[0msklearn\u001b[0m\u001b[0;34m.\u001b[0m\u001b[0mmetrics\u001b[0m \u001b[0;32mimport\u001b[0m \u001b[0mmean_squared_error\u001b[0m\u001b[0;34m\u001b[0m\u001b[0;34m\u001b[0m\u001b[0m\n\u001b[1;32m      2\u001b[0m \u001b[0;32mfrom\u001b[0m \u001b[0mmath\u001b[0m \u001b[0;32mimport\u001b[0m \u001b[0msqrt\u001b[0m\u001b[0;34m\u001b[0m\u001b[0;34m\u001b[0m\u001b[0m\n\u001b[0;32m----> 3\u001b[0;31m \u001b[0mrmse\u001b[0m \u001b[0;34m=\u001b[0m \u001b[0msqrt\u001b[0m\u001b[0;34m(\u001b[0m\u001b[0mmean_squared_error\u001b[0m\u001b[0;34m(\u001b[0m\u001b[0mtest\u001b[0m\u001b[0;34m,\u001b[0m\u001b[0mprediction\u001b[0m\u001b[0;34m)\u001b[0m\u001b[0;34m)\u001b[0m\u001b[0;34m\u001b[0m\u001b[0;34m\u001b[0m\u001b[0m\n\u001b[0m\u001b[1;32m      4\u001b[0m \u001b[0mprint\u001b[0m\u001b[0;34m(\u001b[0m\u001b[0mrmse\u001b[0m\u001b[0;34m)\u001b[0m\u001b[0;34m\u001b[0m\u001b[0;34m\u001b[0m\u001b[0m\n\u001b[1;32m      5\u001b[0m \u001b[0mpyplot\u001b[0m\u001b[0;34m.\u001b[0m\u001b[0mplot\u001b[0m\u001b[0;34m(\u001b[0m\u001b[0mtest\u001b[0m\u001b[0;34m)\u001b[0m\u001b[0;34m\u001b[0m\u001b[0;34m\u001b[0m\u001b[0m\n",
      "\u001b[0;31mNameError\u001b[0m: name 'test' is not defined"
     ]
    }
   ],
   "source": [
    "from sklearn.metrics import mean_squared_error\n",
    "from math import sqrt\n",
    "rmse = sqrt(mean_squared_error(test,prediction))\n",
    "print(rmse)\n",
    "pyplot.plot(test)\n",
    "pyplot.plot(prediction, color='red')\n",
    "pyplot.show()#Un modelo ciertamente malo, pero solo queremos aprender a meter el proceso general en pandas udf \n",
    "#con las particiones del cluster"
   ]
  },
  {
   "cell_type": "code",
   "execution_count": 31,
   "metadata": {},
   "outputs": [
    {
     "data": {
      "text/plain": [
       "[746747.932910176,\n",
       " 786552.754861766,\n",
       " 907646.6198595638,\n",
       " 882707.3257291368,\n",
       " 861785.0255889172,\n",
       " 986049.5410973175,\n",
       " 1003243.070232241,\n",
       " 899668.5787455967,\n",
       " 801287.6736367851,\n",
       " 948303.2839550741,\n",
       " 871845.7875813277,\n",
       " 980242.0007331284,\n",
       " 910599.1117141198,\n",
       " 536761.4477991075,\n",
       " 451694.4691269688,\n",
       " 417145.42538259097,\n",
       " 903356.748948617]"
      ]
     },
     "execution_count": 31,
     "metadata": {},
     "output_type": "execute_result"
    }
   ],
   "source": [
    "prediction"
   ]
  },
  {
   "cell_type": "code",
   "execution_count": 32,
   "metadata": {},
   "outputs": [
    {
     "name": "stdout",
     "output_type": "stream",
     "text": [
      "                               SARIMAX Results                                \n",
      "==============================================================================\n",
      "Dep. Variable:                  sales   No. Observations:                   50\n",
      "Model:                 ARIMA(2, 1, 1)   Log Likelihood                -671.428\n",
      "Date:                Thu, 23 Jun 2022   AIC                           1350.856\n",
      "Time:                        09:56:44   BIC                           1358.423\n",
      "Sample:                    01-06-2019   HQIC                          1353.727\n",
      "                         - 12-15-2019                                         \n",
      "Covariance Type:                  opg                                         \n",
      "==============================================================================\n",
      "                 coef    std err          z      P>|z|      [0.025      0.975]\n",
      "------------------------------------------------------------------------------\n",
      "ar.L1          0.2052      0.191      1.073      0.283      -0.170       0.580\n",
      "ar.L2         -0.0759      0.149     -0.510      0.610      -0.367       0.216\n",
      "ma.L1         -0.6092      0.203     -3.006      0.003      -1.006      -0.212\n",
      "sigma2       3.35e+10   4.65e-13    7.2e+22      0.000    3.35e+10    3.35e+10\n",
      "===================================================================================\n",
      "Ljung-Box (Q):                       54.40   Jarque-Bera (JB):                 3.37\n",
      "Prob(Q):                              0.06   Prob(JB):                         0.19\n",
      "Heteroskedasticity (H):               1.54   Skew:                            -0.51\n",
      "Prob(H) (two-sided):                  0.40   Kurtosis:                         3.77\n",
      "===================================================================================\n",
      "\n",
      "Warnings:\n",
      "[1] Covariance matrix calculated using the outer product of gradients (complex-step).\n",
      "[2] Covariance matrix is singular or near-singular, with condition number 2.8e+39. Standard errors may be unstable.\n"
     ]
    },
    {
     "name": "stderr",
     "output_type": "stream",
     "text": [
      "/opt/cesga/anaconda/Anaconda3-2020.02/lib/python3.7/site-packages/statsmodels/tsa/base/tsa_model.py:162: ValueWarning: No frequency information was provided, so inferred frequency W-SUN will be used.\n",
      "  % freq, ValueWarning)\n",
      "/opt/cesga/anaconda/Anaconda3-2020.02/lib/python3.7/site-packages/statsmodels/tsa/base/tsa_model.py:162: ValueWarning: No frequency information was provided, so inferred frequency W-SUN will be used.\n",
      "  % freq, ValueWarning)\n",
      "/opt/cesga/anaconda/Anaconda3-2020.02/lib/python3.7/site-packages/statsmodels/tsa/base/tsa_model.py:162: ValueWarning: No frequency information was provided, so inferred frequency W-SUN will be used.\n",
      "  % freq, ValueWarning)\n",
      "/opt/cesga/anaconda/Anaconda3-2020.02/lib/python3.7/site-packages/statsmodels/tsa/statespace/sarimax.py:963: UserWarning: Non-stationary starting autoregressive parameters found. Using zeros as starting parameters.\n",
      "  warn('Non-stationary starting autoregressive parameters'\n",
      "/opt/cesga/anaconda/Anaconda3-2020.02/lib/python3.7/site-packages/statsmodels/tsa/statespace/sarimax.py:975: UserWarning: Non-invertible starting MA parameters found. Using zeros as starting parameters.\n",
      "  warn('Non-invertible starting MA parameters found.'\n"
     ]
    },
    {
     "data": {
      "image/png": "[encoded data removed]",
      "text/plain": [
       "<Figure size 720x576 with 1 Axes>"
      ]
     },
     "metadata": {
      "needs_background": "light"
     },
     "output_type": "display_data"
    },
    {
     "data": {
      "image/png": "[encoded data removed]",
      "text/plain": [
       "<Figure size 720x576 with 1 Axes>"
      ]
     },
     "metadata": {
      "needs_background": "light"
     },
     "output_type": "display_data"
    },
    {
     "name": "stdout",
     "output_type": "stream",
     "text": [
      "                   0\n",
      "count      50.000000\n",
      "mean    15811.071148\n",
      "std    235717.247889\n",
      "min   -649612.723917\n",
      "25%   -112210.924729\n",
      "50%     28003.350954\n",
      "75%    168391.743522\n",
      "max    736657.226700\n"
     ]
    }
   ],
   "source": [
    "#Now, going back to pandas_udf\n",
    "# fit modfrom statsmodels.tsa.arima.model import ARIMAel\n",
    "from pandas import DataFrame\n",
    "from statsmodels.tsa.arima.model import ARIMA\n",
    "model = ARIMA(df_25, order=(2,1,1))\n",
    "model_fit = model.fit()\n",
    "# summary of fit model\n",
    "print(model_fit.summary())\n",
    "# line plot of residuals\n",
    "residuals = DataFrame(model_fit.resid)\n",
    "residuals.plot()\n",
    "pyplot.show()\n",
    "# density plot of residuals\n",
    "residuals.plot(kind='kde')\n",
    "pyplot.show()\n",
    "# summary stats of residuals\n",
    "print(residuals.describe())"
   ]
  },
  {
   "cell_type": "code",
   "execution_count": 33,
   "metadata": {},
   "outputs": [
    {
     "name": "stderr",
     "output_type": "stream",
     "text": [
      "/opt/cesga/anaconda/Anaconda3-2020.02/lib/python3.7/site-packages/statsmodels/tsa/statespace/sarimax.py:963: UserWarning: Non-stationary starting autoregressive parameters found. Using zeros as starting parameters.\n",
      "  warn('Non-stationary starting autoregressive parameters'\n",
      "/opt/cesga/anaconda/Anaconda3-2020.02/lib/python3.7/site-packages/statsmodels/tsa/statespace/sarimax.py:975: UserWarning: Non-invertible starting MA parameters found. Using zeros as starting parameters.\n",
      "  warn('Non-invertible starting MA parameters found.'\n"
     ]
    },
    {
     "data": {
      "text/plain": [
       "dtype('float64')"
      ]
     },
     "execution_count": 33,
     "metadata": {},
     "output_type": "execute_result"
    }
   ],
   "source": [
    "model.fit().forecast(10).dtypes #I expect a dataframe with a timestamp as an index"
   ]
  },
  {
   "cell_type": "code",
   "execution_count": 38,
   "metadata": {},
   "outputs": [],
   "source": [
    "prediccion=model.fit().forecast(10)"
   ]
  },
  {
   "cell_type": "code",
   "execution_count": 35,
   "metadata": {},
   "outputs": [
    {
     "name": "stdout",
     "output_type": "stream",
     "text": [
      "+--------+----------+-----------+\n",
      "|store_id|        ds|          y|\n",
      "+--------+----------+-----------+\n",
      "|      25| 1/13/2019|696457.1717|\n",
      "|      25| 1/20/2019| 996876.875|\n",
      "|      25| 1/27/2019| 1029737.05|\n",
      "|      25|10/20/2019|  984872.55|\n",
      "|      25|10/27/2019|866777.1362|\n",
      "|      25| 10/6/2019|   861162.1|\n",
      "|      25|12/15/2019|307857.8817|\n",
      "|      25| 12/8/2019|914292.7833|\n",
      "|      25|  2/3/2019|1072873.705|\n",
      "|      25| 3/10/2019|747920.9824|\n",
      "|      25| 3/31/2019|1195574.314|\n",
      "|      25| 4/14/2019|788777.4167|\n",
      "|      25| 5/12/2019| 587768.245|\n",
      "|      25| 5/19/2019|806767.5946|\n",
      "|      25| 5/26/2019|863148.7863|\n",
      "|      25|  5/5/2019|1045632.688|\n",
      "|      25| 6/16/2019|741174.1026|\n",
      "|      25| 7/21/2019|722489.5417|\n",
      "|      25| 7/28/2019|   717929.3|\n",
      "|      25| 8/25/2019|795299.7233|\n",
      "+--------+----------+-----------+\n",
      "only showing top 20 rows\n",
      "\n"
     ]
    }
   ],
   "source": [
    "store_part.show() #Lets now make a simple ts forecasting of the next 10 steps out of sample. for each stored id"
   ]
  },
  {
   "cell_type": "markdown",
   "metadata": {},
   "source": [
    "Inciso, dado que el forecast que se obtiene con modelstats es un dataframe con la fecha como indice, y dado que esta estructura no es la de un dataframe con spark, posiblemente toque hacer alguna manipulacion para que el formato de salida de la funcion tenga ambas columnas (fecha y valor como Double o float) pero no fecha como indice"
   ]
  },
  {
   "cell_type": "markdown",
   "metadata": {},
   "source": [
    "# OJO\n",
    "## When you create a typical pandas udf, spark works row by row, then it executes \n",
    "for each row, the function. We dont want this for sure, we want to vectorize a certain amount of rows based on store_id. Then, we will use GROUPED_MAP"
   ]
  },
  {
   "cell_type": "markdown",
   "metadata": {},
   "source": [
    "# TRUCO: puedes convertir internamente el pandas_udf en un pandas dataframe normal (la input es un dataframe de spark, no de pandas) para hacer las operaciones, ya que esta vectorizado.\n",
    "##COrreccion: tan pronto como pones el decorador de pandas_udf, el chunck de un spark dataframe que se vectorice para pasarlo como argumento, se recastea a pandas dataframe como paso previo a la ejecucion de la funcion"
   ]
  },
  {
   "cell_type": "code",
   "execution_count": 124,
   "metadata": {},
   "outputs": [
    {
     "data": {
      "text/plain": [
       "date        datetime64[ns]\n",
       "store_id             int64\n",
       "sales              float64\n",
       "dtype: object"
      ]
     },
     "execution_count": 124,
     "metadata": {},
     "output_type": "execute_result"
    }
   ],
   "source": [
    "from pandas import to_datetime\n",
    "dumb=df.copy()\n",
    "dumb.date=to_datetime(dumb.date)\n",
    "dumb.set_index('date')\n",
    "dumb.dtypes"
   ]
  },
  {
   "cell_type": "code",
   "execution_count": 125,
   "metadata": {},
   "outputs": [
    {
     "data": {
      "text/plain": [
       "store_id      int64\n",
       "sales       float64\n",
       "dtype: object"
      ]
     },
     "execution_count": 125,
     "metadata": {},
     "output_type": "execute_result"
    }
   ],
   "source": [
    "dumb=dumb.set_index('date')\n",
    "dumb.dtypes"
   ]
  },
  {
   "cell_type": "code",
   "execution_count": 138,
   "metadata": {},
   "outputs": [
    {
     "data": {
      "text/plain": [
       "date        datetime64[ns]\n",
       "store_id             int64\n",
       "sales              float64\n",
       "dtype: object"
      ]
     },
     "execution_count": 138,
     "metadata": {},
     "output_type": "execute_result"
    }
   ],
   "source": [
    "dumb.reset_index(level=0, inplace=True)\n",
    "dumb.dtypes"
   ]
  },
  {
   "cell_type": "code",
   "execution_count": 129,
   "metadata": {},
   "outputs": [
    {
     "name": "stdout",
     "output_type": "stream",
     "text": [
      "+--------+---------+-----------+\n",
      "|store_id|       ds|          y|\n",
      "+--------+---------+-----------+\n",
      "|      25|1/13/2019|696457.1717|\n",
      "+--------+---------+-----------+\n",
      "only showing top 1 row\n",
      "\n"
     ]
    }
   ],
   "source": [
    "store_part.show(1)\n"
   ]
  },
  {
   "cell_type": "code",
   "execution_count": 140,
   "metadata": {},
   "outputs": [
    {
     "data": {
      "text/html": [
       "<div>\n",
       "<style scoped>\n",
       "    .dataframe tbody tr th:only-of-type {\n",
       "        vertical-align: middle;\n",
       "    }\n",
       "\n",
       "    .dataframe tbody tr th {\n",
       "        vertical-align: top;\n",
       "    }\n",
       "\n",
       "    .dataframe thead th {\n",
       "        text-align: right;\n",
       "    }\n",
       "</style>\n",
       "<table border=\"1\" class=\"dataframe\">\n",
       "  <thead>\n",
       "    <tr style=\"text-align: right;\">\n",
       "      <th></th>\n",
       "      <th>sales</th>\n",
       "    </tr>\n",
       "    <tr>\n",
       "      <th>date</th>\n",
       "      <th></th>\n",
       "    </tr>\n",
       "  </thead>\n",
       "  <tbody>\n",
       "    <tr>\n",
       "      <th>2019-01-06</th>\n",
       "      <td>736657.2267</td>\n",
       "    </tr>\n",
       "    <tr>\n",
       "      <th>2019-01-06</th>\n",
       "      <td>233711.0000</td>\n",
       "    </tr>\n",
       "    <tr>\n",
       "      <th>2019-01-06</th>\n",
       "      <td>692156.3794</td>\n",
       "    </tr>\n",
       "    <tr>\n",
       "      <th>2019-01-06</th>\n",
       "      <td>213706.8000</td>\n",
       "    </tr>\n",
       "    <tr>\n",
       "      <th>2019-01-06</th>\n",
       "      <td>266455.0000</td>\n",
       "    </tr>\n",
       "    <tr>\n",
       "      <th>...</th>\n",
       "      <td>...</td>\n",
       "    </tr>\n",
       "    <tr>\n",
       "      <th>2019-12-15</th>\n",
       "      <td>401803.3590</td>\n",
       "    </tr>\n",
       "    <tr>\n",
       "      <th>2019-12-15</th>\n",
       "      <td>135799.1429</td>\n",
       "    </tr>\n",
       "    <tr>\n",
       "      <th>2019-12-15</th>\n",
       "      <td>115424.2250</td>\n",
       "    </tr>\n",
       "    <tr>\n",
       "      <th>2019-12-15</th>\n",
       "      <td>103375.0000</td>\n",
       "    </tr>\n",
       "    <tr>\n",
       "      <th>2019-12-15</th>\n",
       "      <td>51210.0000</td>\n",
       "    </tr>\n",
       "  </tbody>\n",
       "</table>\n",
       "<p>500 rows × 1 columns</p>\n",
       "</div>"
      ],
      "text/plain": [
       "                  sales\n",
       "date                   \n",
       "2019-01-06  736657.2267\n",
       "2019-01-06  233711.0000\n",
       "2019-01-06  692156.3794\n",
       "2019-01-06  213706.8000\n",
       "2019-01-06  266455.0000\n",
       "...                 ...\n",
       "2019-12-15  401803.3590\n",
       "2019-12-15  135799.1429\n",
       "2019-12-15  115424.2250\n",
       "2019-12-15  103375.0000\n",
       "2019-12-15   51210.0000\n",
       "\n",
       "[500 rows x 1 columns]"
      ]
     },
     "execution_count": 140,
     "metadata": {},
     "output_type": "execute_result"
    }
   ],
   "source": [
    "dumb=dumb.set_index('date')\n",
    "dumb[['sales']]"
   ]
  },
  {
   "cell_type": "code",
   "execution_count": 159,
   "metadata": {},
   "outputs": [
    {
     "data": {
      "text/html": [
       "<div>\n",
       "<style scoped>\n",
       "    .dataframe tbody tr th:only-of-type {\n",
       "        vertical-align: middle;\n",
       "    }\n",
       "\n",
       "    .dataframe tbody tr th {\n",
       "        vertical-align: top;\n",
       "    }\n",
       "\n",
       "    .dataframe thead th {\n",
       "        text-align: right;\n",
       "    }\n",
       "</style>\n",
       "<table border=\"1\" class=\"dataframe\">\n",
       "  <thead>\n",
       "    <tr style=\"text-align: right;\">\n",
       "      <th></th>\n",
       "      <th>sales</th>\n",
       "    </tr>\n",
       "    <tr>\n",
       "      <th>date</th>\n",
       "      <th></th>\n",
       "    </tr>\n",
       "  </thead>\n",
       "  <tbody>\n",
       "    <tr>\n",
       "      <th>1/6/2019</th>\n",
       "      <td>7.366572e+05</td>\n",
       "    </tr>\n",
       "    <tr>\n",
       "      <th>1/13/2019</th>\n",
       "      <td>6.964572e+05</td>\n",
       "    </tr>\n",
       "    <tr>\n",
       "      <th>1/20/2019</th>\n",
       "      <td>9.968769e+05</td>\n",
       "    </tr>\n",
       "    <tr>\n",
       "      <th>1/27/2019</th>\n",
       "      <td>1.029737e+06</td>\n",
       "    </tr>\n",
       "    <tr>\n",
       "      <th>2/3/2019</th>\n",
       "      <td>1.072874e+06</td>\n",
       "    </tr>\n",
       "    <tr>\n",
       "      <th>2/10/2019</th>\n",
       "      <td>8.804625e+05</td>\n",
       "    </tr>\n",
       "    <tr>\n",
       "      <th>2/17/2019</th>\n",
       "      <td>1.088757e+06</td>\n",
       "    </tr>\n",
       "    <tr>\n",
       "      <th>2/24/2019</th>\n",
       "      <td>1.266928e+06</td>\n",
       "    </tr>\n",
       "    <tr>\n",
       "      <th>3/3/2019</th>\n",
       "      <td>9.075101e+05</td>\n",
       "    </tr>\n",
       "    <tr>\n",
       "      <th>3/10/2019</th>\n",
       "      <td>7.479210e+05</td>\n",
       "    </tr>\n",
       "    <tr>\n",
       "      <th>3/17/2019</th>\n",
       "      <td>9.047503e+05</td>\n",
       "    </tr>\n",
       "    <tr>\n",
       "      <th>3/24/2019</th>\n",
       "      <td>1.069858e+06</td>\n",
       "    </tr>\n",
       "    <tr>\n",
       "      <th>3/31/2019</th>\n",
       "      <td>1.195574e+06</td>\n",
       "    </tr>\n",
       "    <tr>\n",
       "      <th>4/7/2019</th>\n",
       "      <td>8.349113e+05</td>\n",
       "    </tr>\n",
       "    <tr>\n",
       "      <th>4/14/2019</th>\n",
       "      <td>7.887774e+05</td>\n",
       "    </tr>\n",
       "    <tr>\n",
       "      <th>4/21/2019</th>\n",
       "      <td>8.496034e+05</td>\n",
       "    </tr>\n",
       "    <tr>\n",
       "      <th>4/28/2019</th>\n",
       "      <td>9.655212e+05</td>\n",
       "    </tr>\n",
       "    <tr>\n",
       "      <th>5/5/2019</th>\n",
       "      <td>1.045633e+06</td>\n",
       "    </tr>\n",
       "    <tr>\n",
       "      <th>5/12/2019</th>\n",
       "      <td>5.877682e+05</td>\n",
       "    </tr>\n",
       "    <tr>\n",
       "      <th>5/19/2019</th>\n",
       "      <td>8.067676e+05</td>\n",
       "    </tr>\n",
       "    <tr>\n",
       "      <th>5/26/2019</th>\n",
       "      <td>8.631488e+05</td>\n",
       "    </tr>\n",
       "    <tr>\n",
       "      <th>6/2/2019</th>\n",
       "      <td>8.969892e+05</td>\n",
       "    </tr>\n",
       "    <tr>\n",
       "      <th>6/9/2019</th>\n",
       "      <td>1.056231e+06</td>\n",
       "    </tr>\n",
       "    <tr>\n",
       "      <th>6/16/2019</th>\n",
       "      <td>7.411741e+05</td>\n",
       "    </tr>\n",
       "    <tr>\n",
       "      <th>6/23/2019</th>\n",
       "      <td>9.021746e+05</td>\n",
       "    </tr>\n",
       "    <tr>\n",
       "      <th>6/30/2019</th>\n",
       "      <td>8.048716e+05</td>\n",
       "    </tr>\n",
       "    <tr>\n",
       "      <th>7/7/2019</th>\n",
       "      <td>1.050469e+06</td>\n",
       "    </tr>\n",
       "    <tr>\n",
       "      <th>7/14/2019</th>\n",
       "      <td>6.898909e+05</td>\n",
       "    </tr>\n",
       "    <tr>\n",
       "      <th>7/21/2019</th>\n",
       "      <td>7.224895e+05</td>\n",
       "    </tr>\n",
       "    <tr>\n",
       "      <th>7/28/2019</th>\n",
       "      <td>7.179293e+05</td>\n",
       "    </tr>\n",
       "    <tr>\n",
       "      <th>8/4/2019</th>\n",
       "      <td>8.892387e+05</td>\n",
       "    </tr>\n",
       "    <tr>\n",
       "      <th>8/11/2019</th>\n",
       "      <td>7.904770e+05</td>\n",
       "    </tr>\n",
       "    <tr>\n",
       "      <th>8/18/2019</th>\n",
       "      <td>7.205801e+05</td>\n",
       "    </tr>\n",
       "    <tr>\n",
       "      <th>8/25/2019</th>\n",
       "      <td>7.952997e+05</td>\n",
       "    </tr>\n",
       "    <tr>\n",
       "      <th>9/1/2019</th>\n",
       "      <td>9.674131e+05</td>\n",
       "    </tr>\n",
       "    <tr>\n",
       "      <th>9/8/2019</th>\n",
       "      <td>8.962960e+05</td>\n",
       "    </tr>\n",
       "    <tr>\n",
       "      <th>9/15/2019</th>\n",
       "      <td>8.545824e+05</td>\n",
       "    </tr>\n",
       "    <tr>\n",
       "      <th>9/22/2019</th>\n",
       "      <td>1.038662e+06</td>\n",
       "    </tr>\n",
       "    <tr>\n",
       "      <th>9/29/2019</th>\n",
       "      <td>1.033152e+06</td>\n",
       "    </tr>\n",
       "    <tr>\n",
       "      <th>10/6/2019</th>\n",
       "      <td>8.611621e+05</td>\n",
       "    </tr>\n",
       "    <tr>\n",
       "      <th>10/13/2019</th>\n",
       "      <td>7.357233e+05</td>\n",
       "    </tr>\n",
       "    <tr>\n",
       "      <th>10/20/2019</th>\n",
       "      <td>9.848726e+05</td>\n",
       "    </tr>\n",
       "    <tr>\n",
       "      <th>10/27/2019</th>\n",
       "      <td>8.667771e+05</td>\n",
       "    </tr>\n",
       "    <tr>\n",
       "      <th>11/3/2019</th>\n",
       "      <td>1.028017e+06</td>\n",
       "    </tr>\n",
       "    <tr>\n",
       "      <th>11/10/2019</th>\n",
       "      <td>8.956759e+05</td>\n",
       "    </tr>\n",
       "    <tr>\n",
       "      <th>11/17/2019</th>\n",
       "      <td>2.550343e+05</td>\n",
       "    </tr>\n",
       "    <tr>\n",
       "      <th>11/24/2019</th>\n",
       "      <td>3.142105e+05</td>\n",
       "    </tr>\n",
       "    <tr>\n",
       "      <th>12/1/2019</th>\n",
       "      <td>3.767081e+05</td>\n",
       "    </tr>\n",
       "    <tr>\n",
       "      <th>12/8/2019</th>\n",
       "      <td>9.142928e+05</td>\n",
       "    </tr>\n",
       "    <tr>\n",
       "      <th>12/15/2019</th>\n",
       "      <td>3.078579e+05</td>\n",
       "    </tr>\n",
       "  </tbody>\n",
       "</table>\n",
       "</div>"
      ],
      "text/plain": [
       "                   sales\n",
       "date                    \n",
       "1/6/2019    7.366572e+05\n",
       "1/13/2019   6.964572e+05\n",
       "1/20/2019   9.968769e+05\n",
       "1/27/2019   1.029737e+06\n",
       "2/3/2019    1.072874e+06\n",
       "2/10/2019   8.804625e+05\n",
       "2/17/2019   1.088757e+06\n",
       "2/24/2019   1.266928e+06\n",
       "3/3/2019    9.075101e+05\n",
       "3/10/2019   7.479210e+05\n",
       "3/17/2019   9.047503e+05\n",
       "3/24/2019   1.069858e+06\n",
       "3/31/2019   1.195574e+06\n",
       "4/7/2019    8.349113e+05\n",
       "4/14/2019   7.887774e+05\n",
       "4/21/2019   8.496034e+05\n",
       "4/28/2019   9.655212e+05\n",
       "5/5/2019    1.045633e+06\n",
       "5/12/2019   5.877682e+05\n",
       "5/19/2019   8.067676e+05\n",
       "5/26/2019   8.631488e+05\n",
       "6/2/2019    8.969892e+05\n",
       "6/9/2019    1.056231e+06\n",
       "6/16/2019   7.411741e+05\n",
       "6/23/2019   9.021746e+05\n",
       "6/30/2019   8.048716e+05\n",
       "7/7/2019    1.050469e+06\n",
       "7/14/2019   6.898909e+05\n",
       "7/21/2019   7.224895e+05\n",
       "7/28/2019   7.179293e+05\n",
       "8/4/2019    8.892387e+05\n",
       "8/11/2019   7.904770e+05\n",
       "8/18/2019   7.205801e+05\n",
       "8/25/2019   7.952997e+05\n",
       "9/1/2019    9.674131e+05\n",
       "9/8/2019    8.962960e+05\n",
       "9/15/2019   8.545824e+05\n",
       "9/22/2019   1.038662e+06\n",
       "9/29/2019   1.033152e+06\n",
       "10/6/2019   8.611621e+05\n",
       "10/13/2019  7.357233e+05\n",
       "10/20/2019  9.848726e+05\n",
       "10/27/2019  8.667771e+05\n",
       "11/3/2019   1.028017e+06\n",
       "11/10/2019  8.956759e+05\n",
       "11/17/2019  2.550343e+05\n",
       "11/24/2019  3.142105e+05\n",
       "12/1/2019   3.767081e+05\n",
       "12/8/2019   9.142928e+05\n",
       "12/15/2019  3.078579e+05"
      ]
     },
     "execution_count": 159,
     "metadata": {},
     "output_type": "execute_result"
    }
   ],
   "source": [
    "dumb=df.copy()\n",
    "dumb=dumb.set_index('date')\n",
    "dumb[dumb.store_id == 25][['sales']]"
   ]
  },
  {
   "cell_type": "code",
   "execution_count": 161,
   "metadata": {},
   "outputs": [
    {
     "name": "stderr",
     "output_type": "stream",
     "text": [
      "/opt/cesga/anaconda/Anaconda3-2020.02/lib/python3.7/site-packages/statsmodels/tsa/base/tsa_model.py:162: ValueWarning: No frequency information was provided, so inferred frequency W-SUN will be used.\n",
      "  % freq, ValueWarning)\n",
      "/opt/cesga/anaconda/Anaconda3-2020.02/lib/python3.7/site-packages/statsmodels/tsa/base/tsa_model.py:162: ValueWarning: No frequency information was provided, so inferred frequency W-SUN will be used.\n",
      "  % freq, ValueWarning)\n",
      "/opt/cesga/anaconda/Anaconda3-2020.02/lib/python3.7/site-packages/statsmodels/tsa/base/tsa_model.py:162: ValueWarning: No frequency information was provided, so inferred frequency W-SUN will be used.\n",
      "  % freq, ValueWarning)\n"
     ]
    },
    {
     "data": {
      "text/html": [
       "<div>\n",
       "<style scoped>\n",
       "    .dataframe tbody tr th:only-of-type {\n",
       "        vertical-align: middle;\n",
       "    }\n",
       "\n",
       "    .dataframe tbody tr th {\n",
       "        vertical-align: top;\n",
       "    }\n",
       "\n",
       "    .dataframe thead th {\n",
       "        text-align: right;\n",
       "    }\n",
       "</style>\n",
       "<table border=\"1\" class=\"dataframe\">\n",
       "  <thead>\n",
       "    <tr style=\"text-align: right;\">\n",
       "      <th></th>\n",
       "      <th>index</th>\n",
       "      <th>y</th>\n",
       "    </tr>\n",
       "  </thead>\n",
       "  <tbody>\n",
       "    <tr>\n",
       "      <th>0</th>\n",
       "      <td>2019-12-22</td>\n",
       "      <td>409198.163141</td>\n",
       "    </tr>\n",
       "    <tr>\n",
       "      <th>1</th>\n",
       "      <td>2019-12-29</td>\n",
       "      <td>476026.887122</td>\n",
       "    </tr>\n",
       "  </tbody>\n",
       "</table>\n",
       "</div>"
      ],
      "text/plain": [
       "       index              y\n",
       "0 2019-12-22  409198.163141\n",
       "1 2019-12-29  476026.887122"
      ]
     },
     "execution_count": 161,
     "metadata": {},
     "output_type": "execute_result"
    }
   ],
   "source": [
    "from statsmodels.tsa.arima.model import ARIMA\n",
    "dumb=df.copy()\n",
    "dumb=dumb.set_index('date')\n",
    "dumb=dumb[dumb.store_id == 25][['sales']]\n",
    "model = ARIMA(dumb, order=(2,1,1)).fit()\n",
    "data=pd.DataFrame(model.forecast(2), columns=['y'])\n",
    "data.reset_index(level=0, inplace=True)\n",
    "data"
   ]
  },
  {
   "cell_type": "code",
   "execution_count": 166,
   "metadata": {},
   "outputs": [
    {
     "data": {
      "text/html": [
       "<div>\n",
       "<style scoped>\n",
       "    .dataframe tbody tr th:only-of-type {\n",
       "        vertical-align: middle;\n",
       "    }\n",
       "\n",
       "    .dataframe tbody tr th {\n",
       "        vertical-align: top;\n",
       "    }\n",
       "\n",
       "    .dataframe thead th {\n",
       "        text-align: right;\n",
       "    }\n",
       "</style>\n",
       "<table border=\"1\" class=\"dataframe\">\n",
       "  <thead>\n",
       "    <tr style=\"text-align: right;\">\n",
       "      <th></th>\n",
       "      <th>ds</th>\n",
       "      <th>y</th>\n",
       "    </tr>\n",
       "  </thead>\n",
       "  <tbody>\n",
       "    <tr>\n",
       "      <th>0</th>\n",
       "      <td>2019-12-22</td>\n",
       "      <td>409198.163141</td>\n",
       "    </tr>\n",
       "    <tr>\n",
       "      <th>1</th>\n",
       "      <td>2019-12-29</td>\n",
       "      <td>476026.887122</td>\n",
       "    </tr>\n",
       "  </tbody>\n",
       "</table>\n",
       "</div>"
      ],
      "text/plain": [
       "          ds              y\n",
       "0 2019-12-22  409198.163141\n",
       "1 2019-12-29  476026.887122"
      ]
     },
     "execution_count": 166,
     "metadata": {},
     "output_type": "execute_result"
    }
   ],
   "source": [
    "data=data.rename(columns={'index':'ds'})\n"
   ]
  },
  {
   "cell_type": "code",
   "execution_count": 172,
   "metadata": {},
   "outputs": [
    {
     "data": {
      "text/html": [
       "<div>\n",
       "<style scoped>\n",
       "    .dataframe tbody tr th:only-of-type {\n",
       "        vertical-align: middle;\n",
       "    }\n",
       "\n",
       "    .dataframe tbody tr th {\n",
       "        vertical-align: top;\n",
       "    }\n",
       "\n",
       "    .dataframe thead th {\n",
       "        text-align: right;\n",
       "    }\n",
       "</style>\n",
       "<table border=\"1\" class=\"dataframe\">\n",
       "  <thead>\n",
       "    <tr style=\"text-align: right;\">\n",
       "      <th></th>\n",
       "      <th>ds</th>\n",
       "      <th>y</th>\n",
       "      <th>a</th>\n",
       "    </tr>\n",
       "  </thead>\n",
       "  <tbody>\n",
       "    <tr>\n",
       "      <th>0</th>\n",
       "      <td>2019-12-22</td>\n",
       "      <td>409198.163141</td>\n",
       "      <td>25</td>\n",
       "    </tr>\n",
       "    <tr>\n",
       "      <th>1</th>\n",
       "      <td>2019-12-29</td>\n",
       "      <td>476026.887122</td>\n",
       "      <td>25</td>\n",
       "    </tr>\n",
       "  </tbody>\n",
       "</table>\n",
       "</div>"
      ],
      "text/plain": [
       "          ds              y   a\n",
       "0 2019-12-22  409198.163141  25\n",
       "1 2019-12-29  476026.887122  25"
      ]
     },
     "execution_count": 172,
     "metadata": {},
     "output_type": "execute_result"
    }
   ],
   "source": [
    "data['a']=int(df.store_id.iloc[0])\n",
    "data"
   ]
  },
  {
   "cell_type": "code",
   "execution_count": 171,
   "metadata": {},
   "outputs": [
    {
     "data": {
      "text/html": [
       "<div>\n",
       "<style scoped>\n",
       "    .dataframe tbody tr th:only-of-type {\n",
       "        vertical-align: middle;\n",
       "    }\n",
       "\n",
       "    .dataframe tbody tr th {\n",
       "        vertical-align: top;\n",
       "    }\n",
       "\n",
       "    .dataframe thead th {\n",
       "        text-align: right;\n",
       "    }\n",
       "</style>\n",
       "<table border=\"1\" class=\"dataframe\">\n",
       "  <thead>\n",
       "    <tr style=\"text-align: right;\">\n",
       "      <th></th>\n",
       "      <th>a</th>\n",
       "      <th>y</th>\n",
       "      <th>ds</th>\n",
       "    </tr>\n",
       "  </thead>\n",
       "  <tbody>\n",
       "    <tr>\n",
       "      <th>0</th>\n",
       "      <td>25</td>\n",
       "      <td>409198.163141</td>\n",
       "      <td>2019-12-22</td>\n",
       "    </tr>\n",
       "    <tr>\n",
       "      <th>1</th>\n",
       "      <td>25</td>\n",
       "      <td>476026.887122</td>\n",
       "      <td>2019-12-29</td>\n",
       "    </tr>\n",
       "  </tbody>\n",
       "</table>\n",
       "</div>"
      ],
      "text/plain": [
       "    a              y         ds\n",
       "0  25  409198.163141 2019-12-22\n",
       "1  25  476026.887122 2019-12-29"
      ]
     },
     "execution_count": 171,
     "metadata": {},
     "output_type": "execute_result"
    }
   ],
   "source": [
    "data[['a','y','ds']]"
   ]
  },
  {
   "cell_type": "code",
   "execution_count": 173,
   "metadata": {},
   "outputs": [
    {
     "ename": "Py4JJavaError",
     "evalue": "An error occurred while calling o1252.showString.\n: org.apache.spark.SparkException: Job aborted due to stage failure: \nAborting TaskSet 114.0 because task 0 (partition 0)\ncannot run anywhere due to node and executor blacklist.\nMost recent failure:\nLost task 0.1 in stage 114.0 (TID 1050, c14-12.bd.cluster.cesga.es, executor 2): java.lang.IllegalArgumentException\n\tat java.nio.ByteBuffer.allocate(ByteBuffer.java:334)\n\tat org.apache.arrow.vector.ipc.message.MessageSerializer.readMessage(MessageSerializer.java:543)\n\tat org.apache.arrow.vector.ipc.message.MessageChannelReader.readNext(MessageChannelReader.java:58)\n\tat org.apache.arrow.vector.ipc.ArrowStreamReader.readSchema(ArrowStreamReader.java:132)\n\tat org.apache.arrow.vector.ipc.ArrowReader.initialize(ArrowReader.java:181)\n\tat org.apache.arrow.vector.ipc.ArrowReader.ensureInitialized(ArrowReader.java:172)\n\tat org.apache.arrow.vector.ipc.ArrowReader.getVectorSchemaRoot(ArrowReader.java:65)\n\tat org.apache.spark.sql.execution.python.ArrowPythonRunner$$anon$1.read(ArrowPythonRunner.scala:162)\n\tat org.apache.spark.sql.execution.python.ArrowPythonRunner$$anon$1.read(ArrowPythonRunner.scala:122)\n\tat org.apache.spark.api.python.BasePythonRunner$ReaderIterator.hasNext(PythonRunner.scala:406)\n\tat org.apache.spark.InterruptibleIterator.hasNext(InterruptibleIterator.scala:37)\n\tat scala.collection.Iterator$$anon$12.hasNext(Iterator.scala:440)\n\tat scala.collection.Iterator$$anon$11.hasNext(Iterator.scala:409)\n\tat org.apache.spark.sql.execution.columnar.CachedRDDBuilder$$anonfun$1$$anon$1.hasNext(InMemoryRelation.scala:131)\n\tat org.apache.spark.storage.memory.MemoryStore.putIterator(MemoryStore.scala:221)\n\tat org.apache.spark.storage.memory.MemoryStore.putIteratorAsValues(MemoryStore.scala:299)\n\tat org.apache.spark.storage.BlockManager$$anonfun$doPutIterator$1.apply(BlockManager.scala:1165)\n\tat org.apache.spark.storage.BlockManager$$anonfun$doPutIterator$1.apply(BlockManager.scala:1156)\n\tat org.apache.spark.storage.BlockManager.doPut(BlockManager.scala:1091)\n\tat org.apache.spark.storage.BlockManager.doPutIterator(BlockManager.scala:1156)\n\tat org.apache.spark.storage.BlockManager.getOrElseUpdate(BlockManager.scala:882)\n\tat org.apache.spark.rdd.RDD.getOrCompute(RDD.scala:335)\n\tat org.apache.spark.rdd.RDD.iterator(RDD.scala:286)\n\tat org.apache.spark.rdd.MapPartitionsRDD.compute(MapPartitionsRDD.scala:52)\n\tat org.apache.spark.rdd.RDD.computeOrReadCheckpoint(RDD.scala:324)\n\tat org.apache.spark.rdd.RDD.iterator(RDD.scala:288)\n\tat org.apache.spark.rdd.MapPartitionsRDD.compute(MapPartitionsRDD.scala:52)\n\tat org.apache.spark.rdd.RDD.computeOrReadCheckpoint(RDD.scala:324)\n\tat org.apache.spark.rdd.RDD.iterator(RDD.scala:288)\n\tat org.apache.spark.rdd.MapPartitionsRDD.compute(MapPartitionsRDD.scala:52)\n\tat org.apache.spark.rdd.RDD.computeOrReadCheckpoint(RDD.scala:324)\n\tat org.apache.spark.rdd.RDD.iterator(RDD.scala:288)\n\tat org.apache.spark.rdd.MapPartitionsRDD.compute(MapPartitionsRDD.scala:52)\n\tat org.apache.spark.rdd.RDD.computeOrReadCheckpoint(RDD.scala:324)\n\tat org.apache.spark.rdd.RDD.iterator(RDD.scala:288)\n\tat org.apache.spark.rdd.MapPartitionsRDD.compute(MapPartitionsRDD.scala:52)\n\tat org.apache.spark.rdd.RDD.computeOrReadCheckpoint(RDD.scala:324)\n\tat org.apache.spark.rdd.RDD.iterator(RDD.scala:288)\n\tat org.apache.spark.scheduler.ResultTask.runTask(ResultTask.scala:90)\n\tat org.apache.spark.scheduler.Task.run(Task.scala:121)\n\tat org.apache.spark.executor.Executor$TaskRunner$$anonfun$11.apply(Executor.scala:407)\n\tat org.apache.spark.util.Utils$.tryWithSafeFinally(Utils.scala:1360)\n\tat org.apache.spark.executor.Executor$TaskRunner.run(Executor.scala:413)\n\tat java.util.concurrent.ThreadPoolExecutor.runWorker(ThreadPoolExecutor.java:1149)\n\tat java.util.concurrent.ThreadPoolExecutor$Worker.run(ThreadPoolExecutor.java:624)\n\tat java.lang.Thread.run(Thread.java:748)\n\n\nBlacklisting behavior can be configured via spark.blacklist.*.\n\n\tat org.apache.spark.scheduler.DAGScheduler.org$apache$spark$scheduler$DAGScheduler$$failJobAndIndependentStages(DAGScheduler.scala:1890)\n\tat org.apache.spark.scheduler.DAGScheduler$$anonfun$abortStage$1.apply(DAGScheduler.scala:1878)\n\tat org.apache.spark.scheduler.DAGScheduler$$anonfun$abortStage$1.apply(DAGScheduler.scala:1877)\n\tat scala.collection.mutable.ResizableArray$class.foreach(ResizableArray.scala:59)\n\tat scala.collection.mutable.ArrayBuffer.foreach(ArrayBuffer.scala:48)\n\tat org.apache.spark.scheduler.DAGScheduler.abortStage(DAGScheduler.scala:1877)\n\tat org.apache.spark.scheduler.DAGScheduler$$anonfun$handleTaskSetFailed$1.apply(DAGScheduler.scala:929)\n\tat org.apache.spark.scheduler.DAGScheduler$$anonfun$handleTaskSetFailed$1.apply(DAGScheduler.scala:929)\n\tat scala.Option.foreach(Option.scala:257)\n\tat org.apache.spark.scheduler.DAGScheduler.handleTaskSetFailed(DAGScheduler.scala:929)\n\tat org.apache.spark.scheduler.DAGSchedulerEventProcessLoop.doOnReceive(DAGScheduler.scala:2111)\n\tat org.apache.spark.scheduler.DAGSchedulerEventProcessLoop.onReceive(DAGScheduler.scala:2060)\n\tat org.apache.spark.scheduler.DAGSchedulerEventProcessLoop.onReceive(DAGScheduler.scala:2049)\n\tat org.apache.spark.util.EventLoop$$anon$1.run(EventLoop.scala:49)\n\tat org.apache.spark.scheduler.DAGScheduler.runJob(DAGScheduler.scala:740)\n\tat org.apache.spark.SparkContext.runJob(SparkContext.scala:2073)\n\tat org.apache.spark.SparkContext.runJob(SparkContext.scala:2094)\n\tat org.apache.spark.SparkContext.runJob(SparkContext.scala:2113)\n\tat org.apache.spark.sql.execution.SparkPlan.executeTake(SparkPlan.scala:365)\n\tat org.apache.spark.sql.execution.CollectLimitExec.executeCollect(limit.scala:38)\n\tat org.apache.spark.sql.Dataset.org$apache$spark$sql$Dataset$$collectFromPlan(Dataset.scala:3383)\n\tat org.apache.spark.sql.Dataset$$anonfun$head$1.apply(Dataset.scala:2544)\n\tat org.apache.spark.sql.Dataset$$anonfun$head$1.apply(Dataset.scala:2544)\n\tat org.apache.spark.sql.Dataset$$anonfun$53.apply(Dataset.scala:3364)\n\tat org.apache.spark.sql.execution.SQLExecution$$anonfun$withNewExecutionId$1.apply(SQLExecution.scala:78)\n\tat org.apache.spark.sql.execution.SQLExecution$.withSQLConfPropagated(SQLExecution.scala:125)\n\tat org.apache.spark.sql.execution.SQLExecution$.withNewExecutionId(SQLExecution.scala:73)\n\tat org.apache.spark.sql.Dataset.withAction(Dataset.scala:3363)\n\tat org.apache.spark.sql.Dataset.head(Dataset.scala:2544)\n\tat org.apache.spark.sql.Dataset.take(Dataset.scala:2758)\n\tat org.apache.spark.sql.Dataset.getRows(Dataset.scala:254)\n\tat org.apache.spark.sql.Dataset.showString(Dataset.scala:291)\n\tat sun.reflect.GeneratedMethodAccessor91.invoke(Unknown Source)\n\tat sun.reflect.DelegatingMethodAccessorImpl.invoke(DelegatingMethodAccessorImpl.java:43)\n\tat java.lang.reflect.Method.invoke(Method.java:498)\n\tat py4j.reflection.MethodInvoker.invoke(MethodInvoker.java:244)\n\tat py4j.reflection.ReflectionEngine.invoke(ReflectionEngine.java:357)\n\tat py4j.Gateway.invoke(Gateway.java:282)\n\tat py4j.commands.AbstractCommand.invokeMethod(AbstractCommand.java:132)\n\tat py4j.commands.CallCommand.execute(CallCommand.java:79)\n\tat py4j.GatewayConnection.run(GatewayConnection.java:238)\n\tat java.lang.Thread.run(Thread.java:748)\n",
     "output_type": "error",
     "traceback": [
      "\u001b[0;31m---------------------------------------------------------------------------\u001b[0m",
      "\u001b[0;31mPy4JJavaError\u001b[0m                             Traceback (most recent call last)",
      "\u001b[0;32m<ipython-input-173-d58c01cbb4c9>\u001b[0m in \u001b[0;36m<module>\u001b[0;34m\u001b[0m\n\u001b[1;32m     33\u001b[0m \u001b[0mresults\u001b[0m\u001b[0;34m=\u001b[0m\u001b[0;34m(\u001b[0m\u001b[0mstore_part\u001b[0m\u001b[0;34m.\u001b[0m\u001b[0mgroupBy\u001b[0m\u001b[0;34m(\u001b[0m\u001b[0;34m'store_id'\u001b[0m\u001b[0;34m)\u001b[0m\u001b[0;34m.\u001b[0m\u001b[0mapply\u001b[0m\u001b[0;34m(\u001b[0m\u001b[0mforecast_sales\u001b[0m\u001b[0;34m)\u001b[0m\u001b[0;34m)\u001b[0m\u001b[0;34m\u001b[0m\u001b[0;34m\u001b[0m\u001b[0m\n\u001b[1;32m     34\u001b[0m \u001b[0mresults\u001b[0m\u001b[0;34m.\u001b[0m\u001b[0mcache\u001b[0m\u001b[0;34m(\u001b[0m\u001b[0;34m)\u001b[0m\u001b[0;34m\u001b[0m\u001b[0;34m\u001b[0m\u001b[0m\n\u001b[0;32m---> 35\u001b[0;31m \u001b[0mresults\u001b[0m\u001b[0;34m.\u001b[0m\u001b[0mshow\u001b[0m\u001b[0;34m(\u001b[0m\u001b[0;34m)\u001b[0m\u001b[0;34m\u001b[0m\u001b[0;34m\u001b[0m\u001b[0m\n\u001b[0m\u001b[1;32m     36\u001b[0m \u001b[0;34m\u001b[0m\u001b[0m\n",
      "\u001b[0;32m/opt/cloudera/parcels/CDH-6.1.1-1.cdh6.1.1.p0.875250/lib/spark/python/pyspark/sql/dataframe.py\u001b[0m in \u001b[0;36mshow\u001b[0;34m(self, n, truncate, vertical)\u001b[0m\n\u001b[1;32m    376\u001b[0m         \"\"\"\n\u001b[1;32m    377\u001b[0m         \u001b[0;32mif\u001b[0m \u001b[0misinstance\u001b[0m\u001b[0;34m(\u001b[0m\u001b[0mtruncate\u001b[0m\u001b[0;34m,\u001b[0m \u001b[0mbool\u001b[0m\u001b[0;34m)\u001b[0m \u001b[0;32mand\u001b[0m \u001b[0mtruncate\u001b[0m\u001b[0;34m:\u001b[0m\u001b[0;34m\u001b[0m\u001b[0;34m\u001b[0m\u001b[0m\n\u001b[0;32m--> 378\u001b[0;31m             \u001b[0mprint\u001b[0m\u001b[0;34m(\u001b[0m\u001b[0mself\u001b[0m\u001b[0;34m.\u001b[0m\u001b[0m_jdf\u001b[0m\u001b[0;34m.\u001b[0m\u001b[0mshowString\u001b[0m\u001b[0;34m(\u001b[0m\u001b[0mn\u001b[0m\u001b[0;34m,\u001b[0m \u001b[0;36m20\u001b[0m\u001b[0;34m,\u001b[0m \u001b[0mvertical\u001b[0m\u001b[0;34m)\u001b[0m\u001b[0;34m)\u001b[0m\u001b[0;34m\u001b[0m\u001b[0;34m\u001b[0m\u001b[0m\n\u001b[0m\u001b[1;32m    379\u001b[0m         \u001b[0;32melse\u001b[0m\u001b[0;34m:\u001b[0m\u001b[0;34m\u001b[0m\u001b[0;34m\u001b[0m\u001b[0m\n\u001b[1;32m    380\u001b[0m             \u001b[0mprint\u001b[0m\u001b[0;34m(\u001b[0m\u001b[0mself\u001b[0m\u001b[0;34m.\u001b[0m\u001b[0m_jdf\u001b[0m\u001b[0;34m.\u001b[0m\u001b[0mshowString\u001b[0m\u001b[0;34m(\u001b[0m\u001b[0mn\u001b[0m\u001b[0;34m,\u001b[0m \u001b[0mint\u001b[0m\u001b[0;34m(\u001b[0m\u001b[0mtruncate\u001b[0m\u001b[0;34m)\u001b[0m\u001b[0;34m,\u001b[0m \u001b[0mvertical\u001b[0m\u001b[0;34m)\u001b[0m\u001b[0;34m)\u001b[0m\u001b[0;34m\u001b[0m\u001b[0;34m\u001b[0m\u001b[0m\n",
      "\u001b[0;32m/opt/cloudera/parcels/CDH-6.1.1-1.cdh6.1.1.p0.875250/lib/spark/python/lib/py4j-0.10.7-src.zip/py4j/java_gateway.py\u001b[0m in \u001b[0;36m__call__\u001b[0;34m(self, *args)\u001b[0m\n\u001b[1;32m   1255\u001b[0m         \u001b[0manswer\u001b[0m \u001b[0;34m=\u001b[0m \u001b[0mself\u001b[0m\u001b[0;34m.\u001b[0m\u001b[0mgateway_client\u001b[0m\u001b[0;34m.\u001b[0m\u001b[0msend_command\u001b[0m\u001b[0;34m(\u001b[0m\u001b[0mcommand\u001b[0m\u001b[0;34m)\u001b[0m\u001b[0;34m\u001b[0m\u001b[0;34m\u001b[0m\u001b[0m\n\u001b[1;32m   1256\u001b[0m         return_value = get_return_value(\n\u001b[0;32m-> 1257\u001b[0;31m             answer, self.gateway_client, self.target_id, self.name)\n\u001b[0m\u001b[1;32m   1258\u001b[0m \u001b[0;34m\u001b[0m\u001b[0m\n\u001b[1;32m   1259\u001b[0m         \u001b[0;32mfor\u001b[0m \u001b[0mtemp_arg\u001b[0m \u001b[0;32min\u001b[0m \u001b[0mtemp_args\u001b[0m\u001b[0;34m:\u001b[0m\u001b[0;34m\u001b[0m\u001b[0;34m\u001b[0m\u001b[0m\n",
      "\u001b[0;32m/opt/cloudera/parcels/CDH-6.1.1-1.cdh6.1.1.p0.875250/lib/spark/python/pyspark/sql/utils.py\u001b[0m in \u001b[0;36mdeco\u001b[0;34m(*a, **kw)\u001b[0m\n\u001b[1;32m     61\u001b[0m     \u001b[0;32mdef\u001b[0m \u001b[0mdeco\u001b[0m\u001b[0;34m(\u001b[0m\u001b[0;34m*\u001b[0m\u001b[0ma\u001b[0m\u001b[0;34m,\u001b[0m \u001b[0;34m**\u001b[0m\u001b[0mkw\u001b[0m\u001b[0;34m)\u001b[0m\u001b[0;34m:\u001b[0m\u001b[0;34m\u001b[0m\u001b[0;34m\u001b[0m\u001b[0m\n\u001b[1;32m     62\u001b[0m         \u001b[0;32mtry\u001b[0m\u001b[0;34m:\u001b[0m\u001b[0;34m\u001b[0m\u001b[0;34m\u001b[0m\u001b[0m\n\u001b[0;32m---> 63\u001b[0;31m             \u001b[0;32mreturn\u001b[0m \u001b[0mf\u001b[0m\u001b[0;34m(\u001b[0m\u001b[0;34m*\u001b[0m\u001b[0ma\u001b[0m\u001b[0;34m,\u001b[0m \u001b[0;34m**\u001b[0m\u001b[0mkw\u001b[0m\u001b[0;34m)\u001b[0m\u001b[0;34m\u001b[0m\u001b[0;34m\u001b[0m\u001b[0m\n\u001b[0m\u001b[1;32m     64\u001b[0m         \u001b[0;32mexcept\u001b[0m \u001b[0mpy4j\u001b[0m\u001b[0;34m.\u001b[0m\u001b[0mprotocol\u001b[0m\u001b[0;34m.\u001b[0m\u001b[0mPy4JJavaError\u001b[0m \u001b[0;32mas\u001b[0m \u001b[0me\u001b[0m\u001b[0;34m:\u001b[0m\u001b[0;34m\u001b[0m\u001b[0;34m\u001b[0m\u001b[0m\n\u001b[1;32m     65\u001b[0m             \u001b[0ms\u001b[0m \u001b[0;34m=\u001b[0m \u001b[0me\u001b[0m\u001b[0;34m.\u001b[0m\u001b[0mjava_exception\u001b[0m\u001b[0;34m.\u001b[0m\u001b[0mtoString\u001b[0m\u001b[0;34m(\u001b[0m\u001b[0;34m)\u001b[0m\u001b[0;34m\u001b[0m\u001b[0;34m\u001b[0m\u001b[0m\n",
      "\u001b[0;32m/opt/cloudera/parcels/CDH-6.1.1-1.cdh6.1.1.p0.875250/lib/spark/python/lib/py4j-0.10.7-src.zip/py4j/protocol.py\u001b[0m in \u001b[0;36mget_return_value\u001b[0;34m(answer, gateway_client, target_id, name)\u001b[0m\n\u001b[1;32m    326\u001b[0m                 raise Py4JJavaError(\n\u001b[1;32m    327\u001b[0m                     \u001b[0;34m\"An error occurred while calling {0}{1}{2}.\\n\"\u001b[0m\u001b[0;34m.\u001b[0m\u001b[0;34m\u001b[0m\u001b[0;34m\u001b[0m\u001b[0m\n\u001b[0;32m--> 328\u001b[0;31m                     format(target_id, \".\", name), value)\n\u001b[0m\u001b[1;32m    329\u001b[0m             \u001b[0;32melse\u001b[0m\u001b[0;34m:\u001b[0m\u001b[0;34m\u001b[0m\u001b[0;34m\u001b[0m\u001b[0m\n\u001b[1;32m    330\u001b[0m                 raise Py4JError(\n",
      "\u001b[0;31mPy4JJavaError\u001b[0m: An error occurred while calling o1252.showString.\n: org.apache.spark.SparkException: Job aborted due to stage failure: \nAborting TaskSet 114.0 because task 0 (partition 0)\ncannot run anywhere due to node and executor blacklist.\nMost recent failure:\nLost task 0.1 in stage 114.0 (TID 1050, c14-12.bd.cluster.cesga.es, executor 2): java.lang.IllegalArgumentException\n\tat java.nio.ByteBuffer.allocate(ByteBuffer.java:334)\n\tat org.apache.arrow.vector.ipc.message.MessageSerializer.readMessage(MessageSerializer.java:543)\n\tat org.apache.arrow.vector.ipc.message.MessageChannelReader.readNext(MessageChannelReader.java:58)\n\tat org.apache.arrow.vector.ipc.ArrowStreamReader.readSchema(ArrowStreamReader.java:132)\n\tat org.apache.arrow.vector.ipc.ArrowReader.initialize(ArrowReader.java:181)\n\tat org.apache.arrow.vector.ipc.ArrowReader.ensureInitialized(ArrowReader.java:172)\n\tat org.apache.arrow.vector.ipc.ArrowReader.getVectorSchemaRoot(ArrowReader.java:65)\n\tat org.apache.spark.sql.execution.python.ArrowPythonRunner$$anon$1.read(ArrowPythonRunner.scala:162)\n\tat org.apache.spark.sql.execution.python.ArrowPythonRunner$$anon$1.read(ArrowPythonRunner.scala:122)\n\tat org.apache.spark.api.python.BasePythonRunner$ReaderIterator.hasNext(PythonRunner.scala:406)\n\tat org.apache.spark.InterruptibleIterator.hasNext(InterruptibleIterator.scala:37)\n\tat scala.collection.Iterator$$anon$12.hasNext(Iterator.scala:440)\n\tat scala.collection.Iterator$$anon$11.hasNext(Iterator.scala:409)\n\tat org.apache.spark.sql.execution.columnar.CachedRDDBuilder$$anonfun$1$$anon$1.hasNext(InMemoryRelation.scala:131)\n\tat org.apache.spark.storage.memory.MemoryStore.putIterator(MemoryStore.scala:221)\n\tat org.apache.spark.storage.memory.MemoryStore.putIteratorAsValues(MemoryStore.scala:299)\n\tat org.apache.spark.storage.BlockManager$$anonfun$doPutIterator$1.apply(BlockManager.scala:1165)\n\tat org.apache.spark.storage.BlockManager$$anonfun$doPutIterator$1.apply(BlockManager.scala:1156)\n\tat org.apache.spark.storage.BlockManager.doPut(BlockManager.scala:1091)\n\tat org.apache.spark.storage.BlockManager.doPutIterator(BlockManager.scala:1156)\n\tat org.apache.spark.storage.BlockManager.getOrElseUpdate(BlockManager.scala:882)\n\tat org.apache.spark.rdd.RDD.getOrCompute(RDD.scala:335)\n\tat org.apache.spark.rdd.RDD.iterator(RDD.scala:286)\n\tat org.apache.spark.rdd.MapPartitionsRDD.compute(MapPartitionsRDD.scala:52)\n\tat org.apache.spark.rdd.RDD.computeOrReadCheckpoint(RDD.scala:324)\n\tat org.apache.spark.rdd.RDD.iterator(RDD.scala:288)\n\tat org.apache.spark.rdd.MapPartitionsRDD.compute(MapPartitionsRDD.scala:52)\n\tat org.apache.spark.rdd.RDD.computeOrReadCheckpoint(RDD.scala:324)\n\tat org.apache.spark.rdd.RDD.iterator(RDD.scala:288)\n\tat org.apache.spark.rdd.MapPartitionsRDD.compute(MapPartitionsRDD.scala:52)\n\tat org.apache.spark.rdd.RDD.computeOrReadCheckpoint(RDD.scala:324)\n\tat org.apache.spark.rdd.RDD.iterator(RDD.scala:288)\n\tat org.apache.spark.rdd.MapPartitionsRDD.compute(MapPartitionsRDD.scala:52)\n\tat org.apache.spark.rdd.RDD.computeOrReadCheckpoint(RDD.scala:324)\n\tat org.apache.spark.rdd.RDD.iterator(RDD.scala:288)\n\tat org.apache.spark.rdd.MapPartitionsRDD.compute(MapPartitionsRDD.scala:52)\n\tat org.apache.spark.rdd.RDD.computeOrReadCheckpoint(RDD.scala:324)\n\tat org.apache.spark.rdd.RDD.iterator(RDD.scala:288)\n\tat org.apache.spark.scheduler.ResultTask.runTask(ResultTask.scala:90)\n\tat org.apache.spark.scheduler.Task.run(Task.scala:121)\n\tat org.apache.spark.executor.Executor$TaskRunner$$anonfun$11.apply(Executor.scala:407)\n\tat org.apache.spark.util.Utils$.tryWithSafeFinally(Utils.scala:1360)\n\tat org.apache.spark.executor.Executor$TaskRunner.run(Executor.scala:413)\n\tat java.util.concurrent.ThreadPoolExecutor.runWorker(ThreadPoolExecutor.java:1149)\n\tat java.util.concurrent.ThreadPoolExecutor$Worker.run(ThreadPoolExecutor.java:624)\n\tat java.lang.Thread.run(Thread.java:748)\n\n\nBlacklisting behavior can be configured via spark.blacklist.*.\n\n\tat org.apache.spark.scheduler.DAGScheduler.org$apache$spark$scheduler$DAGScheduler$$failJobAndIndependentStages(DAGScheduler.scala:1890)\n\tat org.apache.spark.scheduler.DAGScheduler$$anonfun$abortStage$1.apply(DAGScheduler.scala:1878)\n\tat org.apache.spark.scheduler.DAGScheduler$$anonfun$abortStage$1.apply(DAGScheduler.scala:1877)\n\tat scala.collection.mutable.ResizableArray$class.foreach(ResizableArray.scala:59)\n\tat scala.collection.mutable.ArrayBuffer.foreach(ArrayBuffer.scala:48)\n\tat org.apache.spark.scheduler.DAGScheduler.abortStage(DAGScheduler.scala:1877)\n\tat org.apache.spark.scheduler.DAGScheduler$$anonfun$handleTaskSetFailed$1.apply(DAGScheduler.scala:929)\n\tat org.apache.spark.scheduler.DAGScheduler$$anonfun$handleTaskSetFailed$1.apply(DAGScheduler.scala:929)\n\tat scala.Option.foreach(Option.scala:257)\n\tat org.apache.spark.scheduler.DAGScheduler.handleTaskSetFailed(DAGScheduler.scala:929)\n\tat org.apache.spark.scheduler.DAGSchedulerEventProcessLoop.doOnReceive(DAGScheduler.scala:2111)\n\tat org.apache.spark.scheduler.DAGSchedulerEventProcessLoop.onReceive(DAGScheduler.scala:2060)\n\tat org.apache.spark.scheduler.DAGSchedulerEventProcessLoop.onReceive(DAGScheduler.scala:2049)\n\tat org.apache.spark.util.EventLoop$$anon$1.run(EventLoop.scala:49)\n\tat org.apache.spark.scheduler.DAGScheduler.runJob(DAGScheduler.scala:740)\n\tat org.apache.spark.SparkContext.runJob(SparkContext.scala:2073)\n\tat org.apache.spark.SparkContext.runJob(SparkContext.scala:2094)\n\tat org.apache.spark.SparkContext.runJob(SparkContext.scala:2113)\n\tat org.apache.spark.sql.execution.SparkPlan.executeTake(SparkPlan.scala:365)\n\tat org.apache.spark.sql.execution.CollectLimitExec.executeCollect(limit.scala:38)\n\tat org.apache.spark.sql.Dataset.org$apache$spark$sql$Dataset$$collectFromPlan(Dataset.scala:3383)\n\tat org.apache.spark.sql.Dataset$$anonfun$head$1.apply(Dataset.scala:2544)\n\tat org.apache.spark.sql.Dataset$$anonfun$head$1.apply(Dataset.scala:2544)\n\tat org.apache.spark.sql.Dataset$$anonfun$53.apply(Dataset.scala:3364)\n\tat org.apache.spark.sql.execution.SQLExecution$$anonfun$withNewExecutionId$1.apply(SQLExecution.scala:78)\n\tat org.apache.spark.sql.execution.SQLExecution$.withSQLConfPropagated(SQLExecution.scala:125)\n\tat org.apache.spark.sql.execution.SQLExecution$.withNewExecutionId(SQLExecution.scala:73)\n\tat org.apache.spark.sql.Dataset.withAction(Dataset.scala:3363)\n\tat org.apache.spark.sql.Dataset.head(Dataset.scala:2544)\n\tat org.apache.spark.sql.Dataset.take(Dataset.scala:2758)\n\tat org.apache.spark.sql.Dataset.getRows(Dataset.scala:254)\n\tat org.apache.spark.sql.Dataset.showString(Dataset.scala:291)\n\tat sun.reflect.GeneratedMethodAccessor91.invoke(Unknown Source)\n\tat sun.reflect.DelegatingMethodAccessorImpl.invoke(DelegatingMethodAccessorImpl.java:43)\n\tat java.lang.reflect.Method.invoke(Method.java:498)\n\tat py4j.reflection.MethodInvoker.invoke(MethodInvoker.java:244)\n\tat py4j.reflection.ReflectionEngine.invoke(ReflectionEngine.java:357)\n\tat py4j.Gateway.invoke(Gateway.java:282)\n\tat py4j.commands.AbstractCommand.invokeMethod(AbstractCommand.java:132)\n\tat py4j.commands.CallCommand.execute(CallCommand.java:79)\n\tat py4j.GatewayConnection.run(GatewayConnection.java:238)\n\tat java.lang.Thread.run(Thread.java:748)\n"
     ]
    }
   ],
   "source": [
    "from pyspark.sql.types import * \n",
    "from pyspark.sql.functions import pandas_udf, PandasUDFType\n",
    "from pyspark.sql.functions import current_date\n",
    "from pandas import to_datetime\n",
    "\n",
    "result_schema = StructType([\n",
    "    StructField('ds', TimestampType()),\n",
    "    StructField('store_id', IntegerType()),\n",
    "    StructField('y', DoubleType())    \n",
    "])\n",
    "\n",
    "\n",
    "@pandas_udf(result_schema, PandasUDFType.GROUPED_MAP)\n",
    "def forecast_sales(store_pd):\n",
    "    df=store_pd.copy()\n",
    "    df=df.set_index('ds')\n",
    "    model = ARIMA(df[['y']], order=(2,1,1)).fit()\n",
    "    pred=pd.DataFrame(model.forecast(2), columns=['y'])\n",
    "    pred.reset_index(level=0, inplace=True)\n",
    "    pred=pred.rename(columns={'index':'ds'})\n",
    "    pred['store_id']=int(store_pd.store_id.iloc[0])\n",
    "    return pred[['store_id','ds','y']]\n",
    "    \n",
    "    \n",
    "    \n",
    "    #size=int(len(X)*0.66)\n",
    "    #train,test = X[0:size],X[size:len(X)]\n",
    "    #history = [x for x in train]\n",
    "    #prediction = []\n",
    "    #store_pd.ds = pd.to_datetime(store_pd.ds)\n",
    "    \n",
    "        \n",
    "results=(store_part.groupBy('store_id').apply(forecast_sales))\n",
    "results.cache()\n",
    "results.show()  \n",
    "    "
   ]
  },
  {
   "cell_type": "code",
   "execution_count": 186,
   "metadata": {},
   "outputs": [
    {
     "ename": "Py4JJavaError",
     "evalue": "An error occurred while calling o1752.showString.\n: org.apache.spark.SparkException: Job aborted due to stage failure: \nAborting TaskSet 142.0 because task 0 (partition 0)\ncannot run anywhere due to node and executor blacklist.\nMost recent failure:\nLost task 0.1 in stage 142.0 (TID 1064, c14-12.bd.cluster.cesga.es, executor 2): org.apache.spark.api.python.PythonException: Traceback (most recent call last):\n  File \"/opt/cloudera/parcels/CDH-6.1.1-1.cdh6.1.1.p0.875250/lib/spark/python/pyspark/worker.py\", line 372, in main\n    process()\n  File \"/opt/cloudera/parcels/CDH-6.1.1-1.cdh6.1.1.p0.875250/lib/spark/python/pyspark/worker.py\", line 367, in process\n    serializer.dump_stream(func(split_index, iterator), outfile)\n  File \"/opt/cloudera/parcels/CDH-6.1.1-1.cdh6.1.1.p0.875250/lib/spark/python/pyspark/serializers.py\", line 284, in dump_stream\n    batch = _create_batch(series, self._timezone)\n  File \"/opt/cloudera/parcels/CDH-6.1.1-1.cdh6.1.1.p0.875250/lib/spark/python/pyspark/serializers.py\", line 253, in _create_batch\n    arrs = [create_array(s, t) for s, t in series]\n  File \"/opt/cloudera/parcels/CDH-6.1.1-1.cdh6.1.1.p0.875250/lib/spark/python/pyspark/serializers.py\", line 253, in <listcomp>\n    arrs = [create_array(s, t) for s, t in series]\n  File \"/opt/cloudera/parcels/CDH-6.1.1-1.cdh6.1.1.p0.875250/lib/spark/python/pyspark/serializers.py\", line 251, in create_array\n    return pa.Array.from_pandas(s, mask=mask, type=t)\n  File \"pyarrow/array.pxi\", line 661, in pyarrow.lib.Array.from_pandas\n  File \"pyarrow/array.pxi\", line 207, in pyarrow.lib.array\n  File \"pyarrow/array.pxi\", line 78, in pyarrow.lib._ndarray_to_array\n  File \"pyarrow/error.pxi\", line 88, in pyarrow.lib.check_status\npyarrow.lib.ArrowTypeError: Expected a string or bytes dtype, got float64\n\n\tat org.apache.spark.api.python.BasePythonRunner$ReaderIterator.handlePythonException(PythonRunner.scala:452)\n\tat org.apache.spark.sql.execution.python.ArrowPythonRunner$$anon$1.read(ArrowPythonRunner.scala:172)\n\tat org.apache.spark.sql.execution.python.ArrowPythonRunner$$anon$1.read(ArrowPythonRunner.scala:122)\n\tat org.apache.spark.api.python.BasePythonRunner$ReaderIterator.hasNext(PythonRunner.scala:406)\n\tat org.apache.spark.InterruptibleIterator.hasNext(InterruptibleIterator.scala:37)\n\tat scala.collection.Iterator$$anon$12.hasNext(Iterator.scala:440)\n\tat scala.collection.Iterator$$anon$11.hasNext(Iterator.scala:409)\n\tat org.apache.spark.sql.execution.columnar.CachedRDDBuilder$$anonfun$1$$anon$1.hasNext(InMemoryRelation.scala:131)\n\tat org.apache.spark.storage.memory.MemoryStore.putIterator(MemoryStore.scala:221)\n\tat org.apache.spark.storage.memory.MemoryStore.putIteratorAsValues(MemoryStore.scala:299)\n\tat org.apache.spark.storage.BlockManager$$anonfun$doPutIterator$1.apply(BlockManager.scala:1165)\n\tat org.apache.spark.storage.BlockManager$$anonfun$doPutIterator$1.apply(BlockManager.scala:1156)\n\tat org.apache.spark.storage.BlockManager.doPut(BlockManager.scala:1091)\n\tat org.apache.spark.storage.BlockManager.doPutIterator(BlockManager.scala:1156)\n\tat org.apache.spark.storage.BlockManager.getOrElseUpdate(BlockManager.scala:882)\n\tat org.apache.spark.rdd.RDD.getOrCompute(RDD.scala:335)\n\tat org.apache.spark.rdd.RDD.iterator(RDD.scala:286)\n\tat org.apache.spark.rdd.MapPartitionsRDD.compute(MapPartitionsRDD.scala:52)\n\tat org.apache.spark.rdd.RDD.computeOrReadCheckpoint(RDD.scala:324)\n\tat org.apache.spark.rdd.RDD.iterator(RDD.scala:288)\n\tat org.apache.spark.rdd.MapPartitionsRDD.compute(MapPartitionsRDD.scala:52)\n\tat org.apache.spark.rdd.RDD.computeOrReadCheckpoint(RDD.scala:324)\n\tat org.apache.spark.rdd.RDD.iterator(RDD.scala:288)\n\tat org.apache.spark.rdd.MapPartitionsRDD.compute(MapPartitionsRDD.scala:52)\n\tat org.apache.spark.rdd.RDD.computeOrReadCheckpoint(RDD.scala:324)\n\tat org.apache.spark.rdd.RDD.iterator(RDD.scala:288)\n\tat org.apache.spark.rdd.MapPartitionsRDD.compute(MapPartitionsRDD.scala:52)\n\tat org.apache.spark.rdd.RDD.computeOrReadCheckpoint(RDD.scala:324)\n\tat org.apache.spark.rdd.RDD.iterator(RDD.scala:288)\n\tat org.apache.spark.rdd.MapPartitionsRDD.compute(MapPartitionsRDD.scala:52)\n\tat org.apache.spark.rdd.RDD.computeOrReadCheckpoint(RDD.scala:324)\n\tat org.apache.spark.rdd.RDD.iterator(RDD.scala:288)\n\tat org.apache.spark.scheduler.ResultTask.runTask(ResultTask.scala:90)\n\tat org.apache.spark.scheduler.Task.run(Task.scala:121)\n\tat org.apache.spark.executor.Executor$TaskRunner$$anonfun$11.apply(Executor.scala:407)\n\tat org.apache.spark.util.Utils$.tryWithSafeFinally(Utils.scala:1360)\n\tat org.apache.spark.executor.Executor$TaskRunner.run(Executor.scala:413)\n\tat java.util.concurrent.ThreadPoolExecutor.runWorker(ThreadPoolExecutor.java:1149)\n\tat java.util.concurrent.ThreadPoolExecutor$Worker.run(ThreadPoolExecutor.java:624)\n\tat java.lang.Thread.run(Thread.java:748)\n\n\nBlacklisting behavior can be configured via spark.blacklist.*.\n\n\tat org.apache.spark.scheduler.DAGScheduler.org$apache$spark$scheduler$DAGScheduler$$failJobAndIndependentStages(DAGScheduler.scala:1890)\n\tat org.apache.spark.scheduler.DAGScheduler$$anonfun$abortStage$1.apply(DAGScheduler.scala:1878)\n\tat org.apache.spark.scheduler.DAGScheduler$$anonfun$abortStage$1.apply(DAGScheduler.scala:1877)\n\tat scala.collection.mutable.ResizableArray$class.foreach(ResizableArray.scala:59)\n\tat scala.collection.mutable.ArrayBuffer.foreach(ArrayBuffer.scala:48)\n\tat org.apache.spark.scheduler.DAGScheduler.abortStage(DAGScheduler.scala:1877)\n\tat org.apache.spark.scheduler.DAGScheduler$$anonfun$handleTaskSetFailed$1.apply(DAGScheduler.scala:929)\n\tat org.apache.spark.scheduler.DAGScheduler$$anonfun$handleTaskSetFailed$1.apply(DAGScheduler.scala:929)\n\tat scala.Option.foreach(Option.scala:257)\n\tat org.apache.spark.scheduler.DAGScheduler.handleTaskSetFailed(DAGScheduler.scala:929)\n\tat org.apache.spark.scheduler.DAGSchedulerEventProcessLoop.doOnReceive(DAGScheduler.scala:2111)\n\tat org.apache.spark.scheduler.DAGSchedulerEventProcessLoop.onReceive(DAGScheduler.scala:2060)\n\tat org.apache.spark.scheduler.DAGSchedulerEventProcessLoop.onReceive(DAGScheduler.scala:2049)\n\tat org.apache.spark.util.EventLoop$$anon$1.run(EventLoop.scala:49)\n\tat org.apache.spark.scheduler.DAGScheduler.runJob(DAGScheduler.scala:740)\n\tat org.apache.spark.SparkContext.runJob(SparkContext.scala:2073)\n\tat org.apache.spark.SparkContext.runJob(SparkContext.scala:2094)\n\tat org.apache.spark.SparkContext.runJob(SparkContext.scala:2113)\n\tat org.apache.spark.sql.execution.SparkPlan.executeTake(SparkPlan.scala:365)\n\tat org.apache.spark.sql.execution.CollectLimitExec.executeCollect(limit.scala:38)\n\tat org.apache.spark.sql.Dataset.org$apache$spark$sql$Dataset$$collectFromPlan(Dataset.scala:3383)\n\tat org.apache.spark.sql.Dataset$$anonfun$head$1.apply(Dataset.scala:2544)\n\tat org.apache.spark.sql.Dataset$$anonfun$head$1.apply(Dataset.scala:2544)\n\tat org.apache.spark.sql.Dataset$$anonfun$53.apply(Dataset.scala:3364)\n\tat org.apache.spark.sql.execution.SQLExecution$$anonfun$withNewExecutionId$1.apply(SQLExecution.scala:78)\n\tat org.apache.spark.sql.execution.SQLExecution$.withSQLConfPropagated(SQLExecution.scala:125)\n\tat org.apache.spark.sql.execution.SQLExecution$.withNewExecutionId(SQLExecution.scala:73)\n\tat org.apache.spark.sql.Dataset.withAction(Dataset.scala:3363)\n\tat org.apache.spark.sql.Dataset.head(Dataset.scala:2544)\n\tat org.apache.spark.sql.Dataset.take(Dataset.scala:2758)\n\tat org.apache.spark.sql.Dataset.getRows(Dataset.scala:254)\n\tat org.apache.spark.sql.Dataset.showString(Dataset.scala:291)\n\tat sun.reflect.GeneratedMethodAccessor91.invoke(Unknown Source)\n\tat sun.reflect.DelegatingMethodAccessorImpl.invoke(DelegatingMethodAccessorImpl.java:43)\n\tat java.lang.reflect.Method.invoke(Method.java:498)\n\tat py4j.reflection.MethodInvoker.invoke(MethodInvoker.java:244)\n\tat py4j.reflection.ReflectionEngine.invoke(ReflectionEngine.java:357)\n\tat py4j.Gateway.invoke(Gateway.java:282)\n\tat py4j.commands.AbstractCommand.invokeMethod(AbstractCommand.java:132)\n\tat py4j.commands.CallCommand.execute(CallCommand.java:79)\n\tat py4j.GatewayConnection.run(GatewayConnection.java:238)\n\tat java.lang.Thread.run(Thread.java:748)\n",
     "output_type": "error",
     "traceback": [
      "\u001b[0;31m---------------------------------------------------------------------------\u001b[0m",
      "\u001b[0;31mPy4JJavaError\u001b[0m                             Traceback (most recent call last)",
      "\u001b[0;32m<ipython-input-186-b8a90038a0b5>\u001b[0m in \u001b[0;36m<module>\u001b[0;34m\u001b[0m\n\u001b[1;32m     26\u001b[0m \u001b[0mresults\u001b[0m\u001b[0;34m=\u001b[0m\u001b[0;34m(\u001b[0m\u001b[0mstore_part\u001b[0m\u001b[0;34m.\u001b[0m\u001b[0mgroupBy\u001b[0m\u001b[0;34m(\u001b[0m\u001b[0;34m'store_id'\u001b[0m\u001b[0;34m)\u001b[0m\u001b[0;34m.\u001b[0m\u001b[0mapply\u001b[0m\u001b[0;34m(\u001b[0m\u001b[0mforecast_sales\u001b[0m\u001b[0;34m)\u001b[0m\u001b[0;34m)\u001b[0m\u001b[0;34m\u001b[0m\u001b[0;34m\u001b[0m\u001b[0m\n\u001b[1;32m     27\u001b[0m \u001b[0mresults\u001b[0m\u001b[0;34m.\u001b[0m\u001b[0mcache\u001b[0m\u001b[0;34m(\u001b[0m\u001b[0;34m)\u001b[0m\u001b[0;34m\u001b[0m\u001b[0;34m\u001b[0m\u001b[0m\n\u001b[0;32m---> 28\u001b[0;31m \u001b[0mresults\u001b[0m\u001b[0;34m.\u001b[0m\u001b[0mshow\u001b[0m\u001b[0;34m(\u001b[0m\u001b[0;34m)\u001b[0m\u001b[0;34m\u001b[0m\u001b[0;34m\u001b[0m\u001b[0m\n\u001b[0m\u001b[1;32m     29\u001b[0m \u001b[0;34m\u001b[0m\u001b[0m\n",
      "\u001b[0;32m/opt/cloudera/parcels/CDH-6.1.1-1.cdh6.1.1.p0.875250/lib/spark/python/pyspark/sql/dataframe.py\u001b[0m in \u001b[0;36mshow\u001b[0;34m(self, n, truncate, vertical)\u001b[0m\n\u001b[1;32m    376\u001b[0m         \"\"\"\n\u001b[1;32m    377\u001b[0m         \u001b[0;32mif\u001b[0m \u001b[0misinstance\u001b[0m\u001b[0;34m(\u001b[0m\u001b[0mtruncate\u001b[0m\u001b[0;34m,\u001b[0m \u001b[0mbool\u001b[0m\u001b[0;34m)\u001b[0m \u001b[0;32mand\u001b[0m \u001b[0mtruncate\u001b[0m\u001b[0;34m:\u001b[0m\u001b[0;34m\u001b[0m\u001b[0;34m\u001b[0m\u001b[0m\n\u001b[0;32m--> 378\u001b[0;31m             \u001b[0mprint\u001b[0m\u001b[0;34m(\u001b[0m\u001b[0mself\u001b[0m\u001b[0;34m.\u001b[0m\u001b[0m_jdf\u001b[0m\u001b[0;34m.\u001b[0m\u001b[0mshowString\u001b[0m\u001b[0;34m(\u001b[0m\u001b[0mn\u001b[0m\u001b[0;34m,\u001b[0m \u001b[0;36m20\u001b[0m\u001b[0;34m,\u001b[0m \u001b[0mvertical\u001b[0m\u001b[0;34m)\u001b[0m\u001b[0;34m)\u001b[0m\u001b[0;34m\u001b[0m\u001b[0;34m\u001b[0m\u001b[0m\n\u001b[0m\u001b[1;32m    379\u001b[0m         \u001b[0;32melse\u001b[0m\u001b[0;34m:\u001b[0m\u001b[0;34m\u001b[0m\u001b[0;34m\u001b[0m\u001b[0m\n\u001b[1;32m    380\u001b[0m             \u001b[0mprint\u001b[0m\u001b[0;34m(\u001b[0m\u001b[0mself\u001b[0m\u001b[0;34m.\u001b[0m\u001b[0m_jdf\u001b[0m\u001b[0;34m.\u001b[0m\u001b[0mshowString\u001b[0m\u001b[0;34m(\u001b[0m\u001b[0mn\u001b[0m\u001b[0;34m,\u001b[0m \u001b[0mint\u001b[0m\u001b[0;34m(\u001b[0m\u001b[0mtruncate\u001b[0m\u001b[0;34m)\u001b[0m\u001b[0;34m,\u001b[0m \u001b[0mvertical\u001b[0m\u001b[0;34m)\u001b[0m\u001b[0;34m)\u001b[0m\u001b[0;34m\u001b[0m\u001b[0;34m\u001b[0m\u001b[0m\n",
      "\u001b[0;32m/opt/cloudera/parcels/CDH-6.1.1-1.cdh6.1.1.p0.875250/lib/spark/python/lib/py4j-0.10.7-src.zip/py4j/java_gateway.py\u001b[0m in \u001b[0;36m__call__\u001b[0;34m(self, *args)\u001b[0m\n\u001b[1;32m   1255\u001b[0m         \u001b[0manswer\u001b[0m \u001b[0;34m=\u001b[0m \u001b[0mself\u001b[0m\u001b[0;34m.\u001b[0m\u001b[0mgateway_client\u001b[0m\u001b[0;34m.\u001b[0m\u001b[0msend_command\u001b[0m\u001b[0;34m(\u001b[0m\u001b[0mcommand\u001b[0m\u001b[0;34m)\u001b[0m\u001b[0;34m\u001b[0m\u001b[0;34m\u001b[0m\u001b[0m\n\u001b[1;32m   1256\u001b[0m         return_value = get_return_value(\n\u001b[0;32m-> 1257\u001b[0;31m             answer, self.gateway_client, self.target_id, self.name)\n\u001b[0m\u001b[1;32m   1258\u001b[0m \u001b[0;34m\u001b[0m\u001b[0m\n\u001b[1;32m   1259\u001b[0m         \u001b[0;32mfor\u001b[0m \u001b[0mtemp_arg\u001b[0m \u001b[0;32min\u001b[0m \u001b[0mtemp_args\u001b[0m\u001b[0;34m:\u001b[0m\u001b[0;34m\u001b[0m\u001b[0;34m\u001b[0m\u001b[0m\n",
      "\u001b[0;32m/opt/cloudera/parcels/CDH-6.1.1-1.cdh6.1.1.p0.875250/lib/spark/python/pyspark/sql/utils.py\u001b[0m in \u001b[0;36mdeco\u001b[0;34m(*a, **kw)\u001b[0m\n\u001b[1;32m     61\u001b[0m     \u001b[0;32mdef\u001b[0m \u001b[0mdeco\u001b[0m\u001b[0;34m(\u001b[0m\u001b[0;34m*\u001b[0m\u001b[0ma\u001b[0m\u001b[0;34m,\u001b[0m \u001b[0;34m**\u001b[0m\u001b[0mkw\u001b[0m\u001b[0;34m)\u001b[0m\u001b[0;34m:\u001b[0m\u001b[0;34m\u001b[0m\u001b[0;34m\u001b[0m\u001b[0m\n\u001b[1;32m     62\u001b[0m         \u001b[0;32mtry\u001b[0m\u001b[0;34m:\u001b[0m\u001b[0;34m\u001b[0m\u001b[0;34m\u001b[0m\u001b[0m\n\u001b[0;32m---> 63\u001b[0;31m             \u001b[0;32mreturn\u001b[0m \u001b[0mf\u001b[0m\u001b[0;34m(\u001b[0m\u001b[0;34m*\u001b[0m\u001b[0ma\u001b[0m\u001b[0;34m,\u001b[0m \u001b[0;34m**\u001b[0m\u001b[0mkw\u001b[0m\u001b[0;34m)\u001b[0m\u001b[0;34m\u001b[0m\u001b[0;34m\u001b[0m\u001b[0m\n\u001b[0m\u001b[1;32m     64\u001b[0m         \u001b[0;32mexcept\u001b[0m \u001b[0mpy4j\u001b[0m\u001b[0;34m.\u001b[0m\u001b[0mprotocol\u001b[0m\u001b[0;34m.\u001b[0m\u001b[0mPy4JJavaError\u001b[0m \u001b[0;32mas\u001b[0m \u001b[0me\u001b[0m\u001b[0;34m:\u001b[0m\u001b[0;34m\u001b[0m\u001b[0;34m\u001b[0m\u001b[0m\n\u001b[1;32m     65\u001b[0m             \u001b[0ms\u001b[0m \u001b[0;34m=\u001b[0m \u001b[0me\u001b[0m\u001b[0;34m.\u001b[0m\u001b[0mjava_exception\u001b[0m\u001b[0;34m.\u001b[0m\u001b[0mtoString\u001b[0m\u001b[0;34m(\u001b[0m\u001b[0;34m)\u001b[0m\u001b[0;34m\u001b[0m\u001b[0;34m\u001b[0m\u001b[0m\n",
      "\u001b[0;32m/opt/cloudera/parcels/CDH-6.1.1-1.cdh6.1.1.p0.875250/lib/spark/python/lib/py4j-0.10.7-src.zip/py4j/protocol.py\u001b[0m in \u001b[0;36mget_return_value\u001b[0;34m(answer, gateway_client, target_id, name)\u001b[0m\n\u001b[1;32m    326\u001b[0m                 raise Py4JJavaError(\n\u001b[1;32m    327\u001b[0m                     \u001b[0;34m\"An error occurred while calling {0}{1}{2}.\\n\"\u001b[0m\u001b[0;34m.\u001b[0m\u001b[0;34m\u001b[0m\u001b[0;34m\u001b[0m\u001b[0m\n\u001b[0;32m--> 328\u001b[0;31m                     format(target_id, \".\", name), value)\n\u001b[0m\u001b[1;32m    329\u001b[0m             \u001b[0;32melse\u001b[0m\u001b[0;34m:\u001b[0m\u001b[0;34m\u001b[0m\u001b[0;34m\u001b[0m\u001b[0m\n\u001b[1;32m    330\u001b[0m                 raise Py4JError(\n",
      "\u001b[0;31mPy4JJavaError\u001b[0m: An error occurred while calling o1752.showString.\n: org.apache.spark.SparkException: Job aborted due to stage failure: \nAborting TaskSet 142.0 because task 0 (partition 0)\ncannot run anywhere due to node and executor blacklist.\nMost recent failure:\nLost task 0.1 in stage 142.0 (TID 1064, c14-12.bd.cluster.cesga.es, executor 2): org.apache.spark.api.python.PythonException: Traceback (most recent call last):\n  File \"/opt/cloudera/parcels/CDH-6.1.1-1.cdh6.1.1.p0.875250/lib/spark/python/pyspark/worker.py\", line 372, in main\n    process()\n  File \"/opt/cloudera/parcels/CDH-6.1.1-1.cdh6.1.1.p0.875250/lib/spark/python/pyspark/worker.py\", line 367, in process\n    serializer.dump_stream(func(split_index, iterator), outfile)\n  File \"/opt/cloudera/parcels/CDH-6.1.1-1.cdh6.1.1.p0.875250/lib/spark/python/pyspark/serializers.py\", line 284, in dump_stream\n    batch = _create_batch(series, self._timezone)\n  File \"/opt/cloudera/parcels/CDH-6.1.1-1.cdh6.1.1.p0.875250/lib/spark/python/pyspark/serializers.py\", line 253, in _create_batch\n    arrs = [create_array(s, t) for s, t in series]\n  File \"/opt/cloudera/parcels/CDH-6.1.1-1.cdh6.1.1.p0.875250/lib/spark/python/pyspark/serializers.py\", line 253, in <listcomp>\n    arrs = [create_array(s, t) for s, t in series]\n  File \"/opt/cloudera/parcels/CDH-6.1.1-1.cdh6.1.1.p0.875250/lib/spark/python/pyspark/serializers.py\", line 251, in create_array\n    return pa.Array.from_pandas(s, mask=mask, type=t)\n  File \"pyarrow/array.pxi\", line 661, in pyarrow.lib.Array.from_pandas\n  File \"pyarrow/array.pxi\", line 207, in pyarrow.lib.array\n  File \"pyarrow/array.pxi\", line 78, in pyarrow.lib._ndarray_to_array\n  File \"pyarrow/error.pxi\", line 88, in pyarrow.lib.check_status\npyarrow.lib.ArrowTypeError: Expected a string or bytes dtype, got float64\n\n\tat org.apache.spark.api.python.BasePythonRunner$ReaderIterator.handlePythonException(PythonRunner.scala:452)\n\tat org.apache.spark.sql.execution.python.ArrowPythonRunner$$anon$1.read(ArrowPythonRunner.scala:172)\n\tat org.apache.spark.sql.execution.python.ArrowPythonRunner$$anon$1.read(ArrowPythonRunner.scala:122)\n\tat org.apache.spark.api.python.BasePythonRunner$ReaderIterator.hasNext(PythonRunner.scala:406)\n\tat org.apache.spark.InterruptibleIterator.hasNext(InterruptibleIterator.scala:37)\n\tat scala.collection.Iterator$$anon$12.hasNext(Iterator.scala:440)\n\tat scala.collection.Iterator$$anon$11.hasNext(Iterator.scala:409)\n\tat org.apache.spark.sql.execution.columnar.CachedRDDBuilder$$anonfun$1$$anon$1.hasNext(InMemoryRelation.scala:131)\n\tat org.apache.spark.storage.memory.MemoryStore.putIterator(MemoryStore.scala:221)\n\tat org.apache.spark.storage.memory.MemoryStore.putIteratorAsValues(MemoryStore.scala:299)\n\tat org.apache.spark.storage.BlockManager$$anonfun$doPutIterator$1.apply(BlockManager.scala:1165)\n\tat org.apache.spark.storage.BlockManager$$anonfun$doPutIterator$1.apply(BlockManager.scala:1156)\n\tat org.apache.spark.storage.BlockManager.doPut(BlockManager.scala:1091)\n\tat org.apache.spark.storage.BlockManager.doPutIterator(BlockManager.scala:1156)\n\tat org.apache.spark.storage.BlockManager.getOrElseUpdate(BlockManager.scala:882)\n\tat org.apache.spark.rdd.RDD.getOrCompute(RDD.scala:335)\n\tat org.apache.spark.rdd.RDD.iterator(RDD.scala:286)\n\tat org.apache.spark.rdd.MapPartitionsRDD.compute(MapPartitionsRDD.scala:52)\n\tat org.apache.spark.rdd.RDD.computeOrReadCheckpoint(RDD.scala:324)\n\tat org.apache.spark.rdd.RDD.iterator(RDD.scala:288)\n\tat org.apache.spark.rdd.MapPartitionsRDD.compute(MapPartitionsRDD.scala:52)\n\tat org.apache.spark.rdd.RDD.computeOrReadCheckpoint(RDD.scala:324)\n\tat org.apache.spark.rdd.RDD.iterator(RDD.scala:288)\n\tat org.apache.spark.rdd.MapPartitionsRDD.compute(MapPartitionsRDD.scala:52)\n\tat org.apache.spark.rdd.RDD.computeOrReadCheckpoint(RDD.scala:324)\n\tat org.apache.spark.rdd.RDD.iterator(RDD.scala:288)\n\tat org.apache.spark.rdd.MapPartitionsRDD.compute(MapPartitionsRDD.scala:52)\n\tat org.apache.spark.rdd.RDD.computeOrReadCheckpoint(RDD.scala:324)\n\tat org.apache.spark.rdd.RDD.iterator(RDD.scala:288)\n\tat org.apache.spark.rdd.MapPartitionsRDD.compute(MapPartitionsRDD.scala:52)\n\tat org.apache.spark.rdd.RDD.computeOrReadCheckpoint(RDD.scala:324)\n\tat org.apache.spark.rdd.RDD.iterator(RDD.scala:288)\n\tat org.apache.spark.scheduler.ResultTask.runTask(ResultTask.scala:90)\n\tat org.apache.spark.scheduler.Task.run(Task.scala:121)\n\tat org.apache.spark.executor.Executor$TaskRunner$$anonfun$11.apply(Executor.scala:407)\n\tat org.apache.spark.util.Utils$.tryWithSafeFinally(Utils.scala:1360)\n\tat org.apache.spark.executor.Executor$TaskRunner.run(Executor.scala:413)\n\tat java.util.concurrent.ThreadPoolExecutor.runWorker(ThreadPoolExecutor.java:1149)\n\tat java.util.concurrent.ThreadPoolExecutor$Worker.run(ThreadPoolExecutor.java:624)\n\tat java.lang.Thread.run(Thread.java:748)\n\n\nBlacklisting behavior can be configured via spark.blacklist.*.\n\n\tat org.apache.spark.scheduler.DAGScheduler.org$apache$spark$scheduler$DAGScheduler$$failJobAndIndependentStages(DAGScheduler.scala:1890)\n\tat org.apache.spark.scheduler.DAGScheduler$$anonfun$abortStage$1.apply(DAGScheduler.scala:1878)\n\tat org.apache.spark.scheduler.DAGScheduler$$anonfun$abortStage$1.apply(DAGScheduler.scala:1877)\n\tat scala.collection.mutable.ResizableArray$class.foreach(ResizableArray.scala:59)\n\tat scala.collection.mutable.ArrayBuffer.foreach(ArrayBuffer.scala:48)\n\tat org.apache.spark.scheduler.DAGScheduler.abortStage(DAGScheduler.scala:1877)\n\tat org.apache.spark.scheduler.DAGScheduler$$anonfun$handleTaskSetFailed$1.apply(DAGScheduler.scala:929)\n\tat org.apache.spark.scheduler.DAGScheduler$$anonfun$handleTaskSetFailed$1.apply(DAGScheduler.scala:929)\n\tat scala.Option.foreach(Option.scala:257)\n\tat org.apache.spark.scheduler.DAGScheduler.handleTaskSetFailed(DAGScheduler.scala:929)\n\tat org.apache.spark.scheduler.DAGSchedulerEventProcessLoop.doOnReceive(DAGScheduler.scala:2111)\n\tat org.apache.spark.scheduler.DAGSchedulerEventProcessLoop.onReceive(DAGScheduler.scala:2060)\n\tat org.apache.spark.scheduler.DAGSchedulerEventProcessLoop.onReceive(DAGScheduler.scala:2049)\n\tat org.apache.spark.util.EventLoop$$anon$1.run(EventLoop.scala:49)\n\tat org.apache.spark.scheduler.DAGScheduler.runJob(DAGScheduler.scala:740)\n\tat org.apache.spark.SparkContext.runJob(SparkContext.scala:2073)\n\tat org.apache.spark.SparkContext.runJob(SparkContext.scala:2094)\n\tat org.apache.spark.SparkContext.runJob(SparkContext.scala:2113)\n\tat org.apache.spark.sql.execution.SparkPlan.executeTake(SparkPlan.scala:365)\n\tat org.apache.spark.sql.execution.CollectLimitExec.executeCollect(limit.scala:38)\n\tat org.apache.spark.sql.Dataset.org$apache$spark$sql$Dataset$$collectFromPlan(Dataset.scala:3383)\n\tat org.apache.spark.sql.Dataset$$anonfun$head$1.apply(Dataset.scala:2544)\n\tat org.apache.spark.sql.Dataset$$anonfun$head$1.apply(Dataset.scala:2544)\n\tat org.apache.spark.sql.Dataset$$anonfun$53.apply(Dataset.scala:3364)\n\tat org.apache.spark.sql.execution.SQLExecution$$anonfun$withNewExecutionId$1.apply(SQLExecution.scala:78)\n\tat org.apache.spark.sql.execution.SQLExecution$.withSQLConfPropagated(SQLExecution.scala:125)\n\tat org.apache.spark.sql.execution.SQLExecution$.withNewExecutionId(SQLExecution.scala:73)\n\tat org.apache.spark.sql.Dataset.withAction(Dataset.scala:3363)\n\tat org.apache.spark.sql.Dataset.head(Dataset.scala:2544)\n\tat org.apache.spark.sql.Dataset.take(Dataset.scala:2758)\n\tat org.apache.spark.sql.Dataset.getRows(Dataset.scala:254)\n\tat org.apache.spark.sql.Dataset.showString(Dataset.scala:291)\n\tat sun.reflect.GeneratedMethodAccessor91.invoke(Unknown Source)\n\tat sun.reflect.DelegatingMethodAccessorImpl.invoke(DelegatingMethodAccessorImpl.java:43)\n\tat java.lang.reflect.Method.invoke(Method.java:498)\n\tat py4j.reflection.MethodInvoker.invoke(MethodInvoker.java:244)\n\tat py4j.reflection.ReflectionEngine.invoke(ReflectionEngine.java:357)\n\tat py4j.Gateway.invoke(Gateway.java:282)\n\tat py4j.commands.AbstractCommand.invokeMethod(AbstractCommand.java:132)\n\tat py4j.commands.CallCommand.execute(CallCommand.java:79)\n\tat py4j.GatewayConnection.run(GatewayConnection.java:238)\n\tat java.lang.Thread.run(Thread.java:748)\n"
     ]
    }
   ],
   "source": [
    "from pyspark.sql.types import StringType, IntegerType\n",
    "from pyspark.sql.functions import pandas_udf, PandasUDFType\n",
    "from pyspark.sql.functions import current_date\n",
    "from pandas import to_datetime\n",
    "\n",
    "result_schema = StructType([\n",
    "    StructField('ds', StringType()),\n",
    "    StructField('store_id', IntegerType()),\n",
    "    StructField('y', StringType())    \n",
    "])\n",
    "\n",
    "\n",
    "@pandas_udf(result_schema, PandasUDFType.GROUPED_MAP)\n",
    "def forecast_sales(store_pd):\n",
    "    return store_pd[['store_id','ds','y']]\n",
    "    \n",
    "    \n",
    "    \n",
    "    #size=int(len(X)*0.66)\n",
    "    #train,test = X[0:size],X[size:len(X)]\n",
    "    #history = [x for x in train]\n",
    "    #prediction = []\n",
    "    #store_pd.ds = pd.to_datetime(store_pd.ds)\n",
    "    \n",
    "        \n",
    "results=(store_part.groupBy('store_id').apply(forecast_sales))\n",
    "results.cache()\n",
    "results.show()  \n",
    "    "
   ]
  },
  {
   "cell_type": "code",
   "execution_count": 192,
   "metadata": {},
   "outputs": [
    {
     "name": "stdout",
     "output_type": "stream",
     "text": [
      "+--------+----------+------------------+\n",
      "|store_id|        ds|                 y|\n",
      "+--------+----------+------------------+\n",
      "|      25| 1/13/2019|       696457.1717|\n",
      "|      25| 1/20/2019|        996876.875|\n",
      "|      25| 1/27/2019|        1029737.05|\n",
      "|      25|10/20/2019|         984872.55|\n",
      "|      25|10/27/2019|       866777.1362|\n",
      "|      25| 10/6/2019|          861162.1|\n",
      "|      25|12/15/2019|       307857.8817|\n",
      "|      25| 12/8/2019|       914292.7833|\n",
      "|      25|  2/3/2019|       1072873.705|\n",
      "|      25| 3/10/2019|       747920.9824|\n",
      "|      25| 3/31/2019|       1195574.314|\n",
      "|      25| 4/14/2019|       788777.4167|\n",
      "|      25| 5/12/2019|        587768.245|\n",
      "|      25| 5/19/2019|       806767.5946|\n",
      "|      25| 5/26/2019|       863148.7863|\n",
      "|      25|  5/5/2019|       1045632.688|\n",
      "|      25| 6/16/2019|       741174.1026|\n",
      "|      25| 7/21/2019|       722489.5417|\n",
      "|      25| 7/28/2019|          717929.3|\n",
      "|      25| 8/25/2019|       795299.7233|\n",
      "|      25|  8/4/2019|       889238.6712|\n",
      "|      25| 9/29/2019|1033151.6359999999|\n",
      "|      25|  9/8/2019|       896295.9583|\n",
      "|      26|  1/6/2019|          233711.0|\n",
      "|      26|10/13/2019|       238674.6833|\n",
      "|      26|11/10/2019|         258176.05|\n",
      "|      26|11/17/2019|       261514.6667|\n",
      "|      26|12/15/2019|         102190.65|\n",
      "|      26| 12/8/2019|       274552.1896|\n",
      "|      26|  2/3/2019|       287933.0517|\n",
      "|      26| 3/10/2019|         253251.22|\n",
      "|      26| 3/31/2019|       383455.9048|\n",
      "|      26| 4/14/2019|       314089.7545|\n",
      "|      26| 5/12/2019|          296930.0|\n",
      "|      26| 5/19/2019|       302923.5273|\n",
      "|      26|  6/2/2019|       334419.8667|\n",
      "|      26| 6/23/2019|          255842.0|\n",
      "|      26| 7/21/2019|          257322.0|\n",
      "|      26| 7/28/2019|         217459.95|\n",
      "|      26|  7/7/2019|       405034.9333|\n",
      "|      26| 8/11/2019|       364173.4133|\n",
      "|      26| 8/18/2019|        184596.805|\n",
      "|      26|  9/1/2019|       372433.0133|\n",
      "|      26| 9/15/2019|       328452.9021|\n",
      "|      26| 9/22/2019|       348495.0535|\n",
      "|      28| 1/13/2019|         787359.03|\n",
      "|      28| 1/20/2019|         683315.25|\n",
      "|      28| 1/27/2019|        712351.625|\n",
      "|      28|11/24/2019|          765937.5|\n",
      "|      28| 11/3/2019|         588876.95|\n",
      "|      28| 12/1/2019|       761651.8239|\n",
      "|      28| 2/10/2019|       647541.7864|\n",
      "|      28| 2/17/2019|       811403.0536|\n",
      "|      28| 2/24/2019|       889070.1149|\n",
      "|      28| 3/17/2019|       885890.2732|\n",
      "|      28| 3/24/2019|        753285.615|\n",
      "|      28|  3/3/2019|        921027.985|\n",
      "|      28| 4/21/2019|       645359.7333|\n",
      "|      28| 4/28/2019|          609849.9|\n",
      "|      28|  4/7/2019|       581429.0567|\n",
      "|      28| 5/26/2019|       570173.8611|\n",
      "|      28|  5/5/2019|       673495.4833|\n",
      "|      28| 6/16/2019|       688221.2884|\n",
      "|      28| 6/30/2019|       727957.6667|\n",
      "|      28|  6/9/2019|       772977.1767|\n",
      "|      28| 7/14/2019|       815753.8217|\n",
      "|      28|  7/7/2019|       866987.2383|\n",
      "|      28| 8/11/2019|        699937.099|\n",
      "|      28| 8/18/2019|        745746.995|\n",
      "|      28| 9/29/2019|       798188.2867|\n",
      "|      28|  9/8/2019|       859266.2242|\n",
      "|      29|  1/6/2019|          213706.8|\n",
      "|      29|10/13/2019|          286931.0|\n",
      "|      29|11/10/2019|        282032.325|\n",
      "|      29|11/17/2019|          295456.0|\n",
      "|      29|12/15/2019|       145077.1667|\n",
      "|      29| 12/8/2019|       326954.8833|\n",
      "|      29|  2/3/2019|       447619.0283|\n",
      "|      29| 3/10/2019|       294493.3429|\n",
      "|      29| 3/17/2019|         426828.25|\n",
      "|      29| 3/24/2019|          422544.5|\n",
      "|      29|  3/3/2019|          443653.5|\n",
      "|      29| 4/21/2019|          290497.0|\n",
      "|      29| 4/28/2019|          291575.0|\n",
      "|      29|  4/7/2019|          350261.0|\n",
      "|      29| 5/26/2019|         292661.25|\n",
      "|      29|  5/5/2019|         353071.15|\n",
      "|      29| 6/16/2019|       254284.0411|\n",
      "|      29| 6/30/2019|       298968.5714|\n",
      "|      29|  6/9/2019|         383333.75|\n",
      "|      29| 7/14/2019|        255889.505|\n",
      "|      29|  7/7/2019|        454225.535|\n",
      "|      29| 8/11/2019|       356469.7183|\n",
      "|      29| 8/18/2019|         187895.28|\n",
      "|      29|  9/1/2019|       292883.4917|\n",
      "|      29| 9/15/2019|       370551.7933|\n",
      "|      29| 9/22/2019|       398059.7589|\n",
      "|      30| 1/13/2019|         252519.59|\n",
      "|      30| 1/20/2019|          361491.5|\n",
      "|      30| 1/27/2019|       383478.5833|\n",
      "|      30|10/20/2019|       329837.5667|\n",
      "|      30|10/27/2019|       349834.1111|\n",
      "|      30| 10/6/2019|       337768.1833|\n",
      "|      30|11/24/2019|       244337.0058|\n",
      "|      30| 11/3/2019|       337339.4738|\n",
      "|      30| 12/1/2019|       350150.3943|\n",
      "|      30| 2/10/2019|       257609.5543|\n",
      "|      30| 2/17/2019|       366691.0833|\n",
      "|      30| 2/24/2019|       437245.0323|\n",
      "|      30| 3/17/2019|       371424.4195|\n",
      "|      30| 3/24/2019|          297920.0|\n",
      "|      30|  3/3/2019|       340821.8833|\n",
      "|      30| 4/21/2019|       238910.3333|\n",
      "|      30| 4/28/2019|          284213.0|\n",
      "|      30|  4/7/2019|         278018.18|\n",
      "|      30| 5/26/2019|         288467.25|\n",
      "|      30|  5/5/2019|342125.81899999996|\n",
      "|      30| 6/16/2019|       280420.0943|\n",
      "|      30| 6/30/2019|       307169.7333|\n",
      "|      30|  6/9/2019|       256750.4071|\n",
      "|      30| 7/14/2019|         235079.05|\n",
      "|      30|  7/7/2019|        359026.905|\n",
      "|      30| 8/11/2019|       311598.8317|\n",
      "|      30| 8/18/2019|          234386.5|\n",
      "|      30|  9/1/2019|       392363.0833|\n",
      "|      30| 9/15/2019|       287742.4017|\n",
      "|      30| 9/22/2019|       376185.4854|\n",
      "|      30| 9/29/2019|       378366.3333|\n",
      "|      30|  9/8/2019|       329770.9683|\n",
      "|      31|  1/6/2019|       837342.8156|\n",
      "|      31|10/13/2019|       698207.3067|\n",
      "|      25|  1/6/2019|       736657.2267|\n",
      "|      25|10/13/2019|        735723.327|\n",
      "|      31|11/10/2019|       1020079.038|\n",
      "|      31|11/17/2019|       135401.7636|\n",
      "|      25|11/10/2019|         895675.95|\n",
      "|      25|11/17/2019|       255034.3333|\n",
      "|      25|11/24/2019|          314210.5|\n",
      "|      25| 11/3/2019|1028016.8470000001|\n",
      "|      25| 12/1/2019|       376708.0633|\n",
      "|      31|12/15/2019|        401803.359|\n",
      "|      31| 12/8/2019|         945121.23|\n",
      "|      25| 2/10/2019|       880462.4681|\n",
      "|      25| 2/17/2019|        1088756.78|\n",
      "|      25| 2/24/2019|       1266928.313|\n",
      "|      31|  2/3/2019|       1279928.452|\n",
      "|      31| 3/10/2019|       918014.4185|\n",
      "|      31| 3/31/2019|       1136817.148|\n",
      "|      31| 4/14/2019|       785677.6748|\n",
      "|      31| 5/12/2019|       756359.7492|\n",
      "|      31| 5/19/2019| 846252.0059999999|\n",
      "|      31|  6/2/2019|       1092205.119|\n",
      "|      31| 6/23/2019|       893943.1583|\n",
      "|      31| 7/21/2019|1005041.0079999999|\n",
      "|      31| 7/28/2019|       839317.2133|\n",
      "|      31|  7/7/2019|1239011.4409999999|\n",
      "|      31| 8/11/2019|         958094.45|\n",
      "|      31| 8/18/2019|       815158.3717|\n",
      "|      25| 3/17/2019|       904750.3158|\n",
      "|      25| 3/24/2019|1069857.5890000002|\n",
      "|      25|  3/3/2019|       907510.1217|\n",
      "|      31|  9/1/2019|       1134725.922|\n",
      "|      31| 9/15/2019|       789867.6398|\n",
      "|      31| 9/22/2019|       1131337.697|\n",
      "|      25| 4/21/2019|       849603.4333|\n",
      "|      25| 4/28/2019|        965521.165|\n",
      "|      25|  4/7/2019|       834911.3333|\n",
      "|      35| 1/13/2019|        277550.185|\n",
      "|      35| 1/20/2019|       273090.5875|\n",
      "|      35| 1/27/2019|       261651.4667|\n",
      "|      35|10/20/2019|       364702.4506|\n",
      "|      35|10/27/2019|          288779.9|\n",
      "|      35| 10/6/2019|         285249.75|\n",
      "|      25|  6/2/2019|        896989.192|\n",
      "|      25| 6/23/2019|       902174.6417|\n",
      "|      35|11/24/2019|       397146.1006|\n",
      "|      35| 11/3/2019|       246135.5866|\n",
      "|      35| 12/1/2019|       358477.9048|\n",
      "|      35| 2/10/2019|       248740.2361|\n",
      "|      35| 2/17/2019|         392791.96|\n",
      "|      35| 2/24/2019|        412036.028|\n",
      "|      35| 3/17/2019|       402828.2808|\n",
      "|      35| 3/24/2019|         357338.15|\n",
      "|      35|  3/3/2019|        359607.235|\n",
      "|      25| 6/30/2019|       804871.6045|\n",
      "|      25|  6/9/2019|       1056230.855|\n",
      "|      25| 7/14/2019|       689890.8767|\n",
      "|      35| 4/21/2019|        265073.125|\n",
      "|      35| 4/28/2019|        253542.475|\n",
      "|      35|  4/7/2019|        193036.735|\n",
      "|      35| 5/26/2019|       246473.3083|\n",
      "|      35|  5/5/2019|        304763.925|\n",
      "|      35| 6/16/2019|       298266.2956|\n",
      "|      25|  7/7/2019|       1050468.773|\n",
      "|      25| 8/11/2019|       790476.9615|\n",
      "|      25| 8/18/2019|       720580.1407|\n",
      "|      35| 6/30/2019|       291713.6353|\n",
      "|      35|  6/9/2019|       257482.1083|\n",
      "|      35| 7/14/2019|       272327.2917|\n",
      "|      25|  9/1/2019|       967413.1067|\n",
      "|      25| 9/15/2019|       854582.4227|\n",
      "|      25| 9/22/2019|1038662.2640000001|\n",
      "|      35|  7/7/2019|         328670.59|\n",
      "|      35| 8/11/2019|       259821.0421|\n",
      "|      35| 8/18/2019|       271880.2167|\n",
      "|      35|  9/1/2019|       312731.3667|\n",
      "|      35| 9/15/2019|       313417.7952|\n",
      "|      35| 9/22/2019|       362312.4772|\n",
      "|      26| 1/13/2019|         261136.45|\n",
      "|      26| 1/20/2019|       335058.1583|\n",
      "|      26| 1/27/2019|          311922.0|\n",
      "|      38| 1/13/2019|        215895.275|\n",
      "|      38| 1/20/2019|         311186.15|\n",
      "|      38| 1/27/2019|       413084.9333|\n",
      "|      38|11/10/2019|          276575.0|\n",
      "|      38|11/17/2019|           22432.0|\n",
      "|      26|10/20/2019|          258178.0|\n",
      "|      26|10/27/2019|       285218.8167|\n",
      "|      26| 10/6/2019|         303386.25|\n",
      "|      38|12/15/2019|        115424.225|\n",
      "|      38| 12/8/2019|       253578.6202|\n",
      "|      38|  2/3/2019|       399851.8183|\n",
      "|      38| 3/10/2019|       258776.0681|\n",
      "|      38| 3/31/2019|       336700.7097|\n",
      "|      38| 4/14/2019|       236204.2381|\n",
      "|      26|11/24/2019|       307247.7399|\n",
      "|      26| 11/3/2019|          354272.0|\n",
      "|      26| 12/1/2019|337587.94299999997|\n",
      "|      38| 4/21/2019|          272206.0|\n",
      "|      38| 4/28/2019|       227814.5833|\n",
      "|      38|  4/7/2019|          264687.0|\n",
      "|      38| 5/26/2019|         267119.75|\n",
      "|      38|  5/5/2019|         274701.25|\n",
      "|      38| 6/16/2019|        196410.979|\n",
      "|      38| 6/30/2019|          248567.4|\n",
      "|      38|  6/9/2019|         293484.75|\n",
      "|      38| 7/14/2019|       178680.8833|\n",
      "|      26| 2/10/2019|         307030.44|\n",
      "|      26| 2/17/2019|          363273.7|\n",
      "|      26| 2/24/2019|       460097.7477|\n",
      "|      38|  7/7/2019|       315841.3275|\n",
      "|      38| 8/11/2019|          219882.5|\n",
      "|      38| 8/18/2019|       205729.8333|\n",
      "|      26| 3/17/2019|       399333.7917|\n",
      "|      26| 3/24/2019|       420993.4167|\n",
      "|      26|  3/3/2019|          374414.9|\n",
      "|      38|  9/1/2019|       324975.0921|\n",
      "|      38| 9/15/2019|          186805.5|\n",
      "|      38| 9/22/2019|       255171.7545|\n",
      "|      44| 1/13/2019|          134188.0|\n",
      "|      44| 1/20/2019|          216517.0|\n",
      "|      44| 1/27/2019|          176299.0|\n",
      "|      26| 4/21/2019|       314061.9167|\n",
      "|      26| 4/28/2019|        277844.175|\n",
      "|      26|  4/7/2019|       321264.3333|\n",
      "|      44|10/20/2019|          191856.0|\n",
      "|      44|10/27/2019|       187488.6667|\n",
      "|      44| 10/6/2019|          160736.0|\n",
      "|      44|11/24/2019|           35632.0|\n",
      "|      44| 11/3/2019|       197624.5455|\n",
      "|      44| 12/1/2019|           88216.0|\n",
      "|      26| 5/26/2019|       274804.4333|\n",
      "|      26|  5/5/2019|       297895.7228|\n",
      "|      26| 6/16/2019|       339670.4846|\n",
      "|      44| 2/10/2019|          142384.2|\n",
      "|      44| 2/17/2019|       174383.9167|\n",
      "|      44| 2/24/2019|         283813.25|\n",
      "|      26| 6/30/2019|       242941.0387|\n",
      "|      26|  6/9/2019|        286853.876|\n",
      "|      26| 7/14/2019|       258062.4217|\n",
      "|      44| 3/17/2019|       181835.8333|\n",
      "|      44| 3/24/2019|       219693.9833|\n",
      "|      44|  3/3/2019|          212970.5|\n",
      "|      44| 3/31/2019|         236853.75|\n",
      "|      44| 4/14/2019|       189677.3333|\n",
      "|      26| 8/25/2019|         316458.93|\n",
      "|      26|  8/4/2019|        292046.285|\n",
      "|      26| 9/29/2019|       366492.1667|\n",
      "|      26|  9/8/2019|       340317.7971|\n",
      "|      44| 5/12/2019|         123443.32|\n",
      "|      44| 5/19/2019|        140000.707|\n",
      "|      44|  6/2/2019|          153150.0|\n",
      "|      44| 6/23/2019|          154498.7|\n",
      "|      28|  1/6/2019|       692156.3794|\n",
      "|      28|10/13/2019|       703558.8567|\n",
      "|      44| 7/21/2019|          145309.0|\n",
      "|      44| 7/28/2019|         156207.35|\n",
      "|      44| 8/25/2019|         140707.95|\n",
      "|      44|  8/4/2019|          213111.0|\n",
      "|      28|10/20/2019|       796126.4833|\n",
      "|      28|10/27/2019|         709741.95|\n",
      "|      28| 10/6/2019|        751611.345|\n",
      "|      44| 9/29/2019|          241392.0|\n",
      "|      44|  9/8/2019|          191872.0|\n",
      "|      28|11/10/2019|       639571.5117|\n",
      "|      28|11/17/2019|          667407.0|\n",
      "|      28|12/15/2019|         297773.15|\n",
      "|      28| 12/8/2019|       595679.7167|\n",
      "|      28|  2/3/2019|       773482.9092|\n",
      "|      28| 3/10/2019|       647390.9641|\n",
      "|      28| 3/31/2019|         755034.25|\n",
      "|      28| 4/14/2019|       746589.0693|\n",
      "|      28| 5/12/2019|        675252.265|\n",
      "|      28| 5/19/2019|       479346.7389|\n",
      "|      28|  6/2/2019|       622507.1767|\n",
      "|      28| 6/23/2019|       809464.1304|\n",
      "|      28| 7/21/2019|         864215.75|\n",
      "|      28| 7/28/2019|         777714.15|\n",
      "|      28| 8/25/2019|       851738.4999|\n",
      "|      28|  8/4/2019|       791261.7406|\n",
      "|      28|  9/1/2019|       721396.0417|\n",
      "|      28| 9/15/2019|       761690.2738|\n",
      "|      28| 9/22/2019|       793286.1939|\n",
      "|      29| 1/13/2019|          279218.0|\n",
      "|      29| 1/20/2019|          395882.0|\n",
      "|      29| 1/27/2019|          390012.5|\n",
      "|      29|10/20/2019|          348871.0|\n",
      "|      29|10/27/2019|       297266.3333|\n",
      "|      29| 10/6/2019|          359267.0|\n",
      "|      29|11/24/2019|       377355.6667|\n",
      "|      29| 11/3/2019|         346190.75|\n",
      "|      29| 12/1/2019|       456406.4138|\n",
      "|      29| 2/10/2019|         302765.05|\n",
      "|      29| 2/17/2019|       415890.5833|\n",
      "|      29| 2/24/2019|       515780.3383|\n",
      "|      29| 3/31/2019|         411086.75|\n",
      "|      29| 4/14/2019|         351089.47|\n",
      "|      29| 5/12/2019|        269656.915|\n",
      "|      29| 5/19/2019|       259562.1824|\n",
      "|      29|  6/2/2019|       362545.0833|\n",
      "|      29| 6/23/2019|        314070.975|\n",
      "|      29| 7/21/2019|         234795.05|\n",
      "|      29| 7/28/2019|          241480.0|\n",
      "|      29| 8/25/2019|       333030.3633|\n",
      "|      29|  8/4/2019|         441777.52|\n",
      "|      29| 9/29/2019|       452382.0714|\n",
      "|      29|  9/8/2019|       348291.8133|\n",
      "|      30|  1/6/2019|          266455.0|\n",
      "|      30|10/13/2019|       234958.8571|\n",
      "|      30|11/10/2019|       292745.6857|\n",
      "|      30|11/17/2019|          137024.2|\n",
      "|      30|12/15/2019|         139613.65|\n",
      "|      30| 12/8/2019|       326794.8611|\n",
      "|      30|  2/3/2019|          459175.1|\n",
      "|      30| 3/10/2019|          254241.9|\n",
      "|      30| 3/31/2019|       336092.2056|\n",
      "|      30| 4/14/2019|        263249.515|\n",
      "|      30| 5/12/2019|       241149.8889|\n",
      "|      30| 5/19/2019|       236627.7083|\n",
      "|      30|  6/2/2019|         280702.25|\n",
      "|      30| 6/23/2019|       276450.7667|\n",
      "|      30| 7/21/2019|          247117.0|\n",
      "|      30| 7/28/2019|          289499.0|\n",
      "|      30| 8/25/2019|       302390.0147|\n",
      "|      30|  8/4/2019|       329648.9975|\n",
      "|      31| 1/13/2019|       836604.5717|\n",
      "|      31| 1/20/2019|       1276188.192|\n",
      "|      31| 1/27/2019|       1085120.889|\n",
      "|      31|10/20/2019|       1091709.633|\n",
      "|      31|10/27/2019|1039845.0229999999|\n",
      "|      31| 10/6/2019|       927620.6598|\n",
      "|      31|11/24/2019|       154678.1881|\n",
      "|      31| 11/3/2019|       991154.9352|\n",
      "|      31| 12/1/2019|       352156.9642|\n",
      "|      31| 2/10/2019|       971658.2701|\n",
      "|      31| 2/17/2019|       1035044.282|\n",
      "|      31| 2/24/2019|       1631584.985|\n",
      "|      31| 3/17/2019|       925116.8036|\n",
      "|      31| 3/24/2019|       1294185.135|\n",
      "|      31|  3/3/2019|       1170623.963|\n",
      "|      31| 4/21/2019|       960854.9167|\n",
      "|      31| 4/28/2019|         1108384.5|\n",
      "|      31|  4/7/2019|       1078283.193|\n",
      "|      31| 5/26/2019|       1098458.145|\n",
      "|      31|  5/5/2019|       1199501.976|\n",
      "|      31| 6/16/2019|       706652.4607|\n",
      "|      31| 6/30/2019|       1007523.945|\n",
      "|      31|  6/9/2019|       1184096.933|\n",
      "|      31| 7/14/2019| 821645.2640000001|\n",
      "|      31| 8/25/2019|       949198.3476|\n",
      "|      31|  8/4/2019|       1117028.231|\n",
      "|      31| 9/29/2019|       1110603.351|\n",
      "|      31|  9/8/2019|       1167821.726|\n",
      "|      35|  1/6/2019|          201013.6|\n",
      "|      35|10/13/2019|       336662.0583|\n",
      "|      35|11/10/2019|       262244.4338|\n",
      "|      35|11/17/2019|       317450.2722|\n",
      "|      35|12/15/2019|       135799.1429|\n",
      "|      35| 12/8/2019|       217882.9044|\n",
      "|      35|  2/3/2019|       350933.7167|\n",
      "|      35| 3/10/2019|       223781.2843|\n",
      "|      35| 3/31/2019|          325671.5|\n",
      "|      35| 4/14/2019|       265045.7858|\n",
      "|      35| 5/12/2019|       251322.8443|\n",
      "|      35| 5/19/2019|       213041.1745|\n",
      "|      35|  6/2/2019|       242969.4167|\n",
      "|      35| 6/23/2019|       277663.5667|\n",
      "|      35| 7/21/2019|         277099.55|\n",
      "|      35| 7/28/2019|       288892.2726|\n",
      "|      35| 8/25/2019|       291564.3317|\n",
      "|      35|  8/4/2019|       300217.2583|\n",
      "|      35| 9/29/2019|         341979.09|\n",
      "|      35|  9/8/2019|        313785.185|\n",
      "|      38|  1/6/2019|         242397.03|\n",
      "|      38|10/13/2019|          193797.6|\n",
      "|      38|10/20/2019|         300195.24|\n",
      "|      38|10/27/2019|       252379.7958|\n",
      "|      38| 10/6/2019|       289901.3967|\n",
      "|      38|11/24/2019|       38003.04762|\n",
      "|      38| 11/3/2019|       216102.6111|\n",
      "|      38| 12/1/2019|          73414.75|\n",
      "|      38| 2/10/2019|          264357.4|\n",
      "|      38| 2/17/2019|         288352.45|\n",
      "|      38| 2/24/2019|       428116.9958|\n",
      "|      38| 3/17/2019|       243356.8275|\n",
      "|      38| 3/24/2019|        439236.695|\n",
      "|      38|  3/3/2019|          334788.5|\n",
      "|      38| 5/12/2019|       231738.7381|\n",
      "|      38| 5/19/2019|          223710.5|\n",
      "|      38|  6/2/2019|         243671.75|\n",
      "|      38| 6/23/2019|        253606.775|\n",
      "|      38| 7/21/2019|         278116.65|\n",
      "|      38| 7/28/2019|          207489.9|\n",
      "|      38| 8/25/2019|         239327.53|\n",
      "|      38|  8/4/2019|          249253.7|\n",
      "|      38| 9/29/2019|       345289.4006|\n",
      "|      38|  9/8/2019|       295151.7333|\n",
      "|      44|  1/6/2019|          164553.5|\n",
      "|      44|10/13/2019|         130548.15|\n",
      "|      44|11/10/2019|          183471.0|\n",
      "|      44|11/17/2019|           12788.0|\n",
      "|      44|12/15/2019|           51210.0|\n",
      "|      44| 12/8/2019|          166063.0|\n",
      "|      44|  2/3/2019|       208559.5833|\n",
      "|      44| 3/10/2019|       153290.5667|\n",
      "|      44| 4/21/2019|       156782.6667|\n",
      "|      44| 4/28/2019|         229344.25|\n",
      "|      44|  4/7/2019|         137392.15|\n",
      "|      44| 5/26/2019|          179271.0|\n",
      "|      44|  5/5/2019|          161922.0|\n",
      "|      44| 6/16/2019|       153228.0609|\n",
      "|      44| 6/30/2019|       184538.8226|\n",
      "|      44|  6/9/2019|          166842.0|\n",
      "|      44| 7/14/2019|          110587.5|\n",
      "|      44|  7/7/2019|       175082.3333|\n",
      "|      44| 8/11/2019|          170649.0|\n",
      "|      44| 8/18/2019|          114688.0|\n",
      "|      44|  9/1/2019|        162250.545|\n",
      "|      44| 9/15/2019|          133127.5|\n",
      "|      44| 9/22/2019|       274273.8396|\n",
      "|      41| 1/13/2019|          231992.5|\n",
      "|      41| 1/20/2019|          359984.5|\n",
      "|      41| 1/27/2019|         335767.75|\n",
      "|      41|10/20/2019|        333037.925|\n",
      "|      41|10/27/2019|       233685.3333|\n",
      "|      41| 10/6/2019|          246892.3|\n",
      "|      41|11/24/2019|       334539.6667|\n",
      "|      41| 11/3/2019|       248628.7778|\n",
      "|      41| 12/1/2019|       342903.0392|\n",
      "|      41| 2/10/2019|        259945.265|\n",
      "|      41| 2/17/2019|         359697.45|\n",
      "|      41| 2/24/2019|       451240.7033|\n",
      "|      41|  2/3/2019|        429035.485|\n",
      "|      41| 3/10/2019|        226627.125|\n",
      "|      41| 3/17/2019|       291131.1667|\n",
      "|      41| 3/24/2019|        252701.115|\n",
      "|      41|  3/3/2019|         465810.81|\n",
      "|      41| 3/31/2019|       217197.6667|\n",
      "|      41| 4/14/2019|         256576.25|\n",
      "|      41| 4/21/2019|        216172.875|\n",
      "|      41| 4/28/2019|          198262.0|\n",
      "|      41|  4/7/2019|         310645.25|\n",
      "|      41| 5/26/2019|          195771.0|\n",
      "|      41|  5/5/2019|         266854.75|\n",
      "|      41| 6/16/2019|       311026.9286|\n",
      "|      41| 6/30/2019|         275008.25|\n",
      "|      41|  6/9/2019|        256318.325|\n",
      "|      41| 7/14/2019|          227412.4|\n",
      "|      41|  7/7/2019|       375714.0833|\n",
      "|      41| 8/11/2019|       298555.8508|\n",
      "|      41| 8/18/2019|        233443.125|\n",
      "|      41|  9/1/2019|       284882.3483|\n",
      "|      41| 9/15/2019|       289294.3333|\n",
      "|      41| 9/22/2019|       338689.2808|\n",
      "|      41|  1/6/2019|          244189.4|\n",
      "|      41|10/13/2019|         251746.35|\n",
      "|      41|11/10/2019|       271522.0433|\n",
      "|      41|11/17/2019|          290377.0|\n",
      "|      41|12/15/2019|          103375.0|\n",
      "|      41| 12/8/2019|          263538.0|\n",
      "|      41| 5/12/2019|        260843.265|\n",
      "|      41| 5/19/2019|          175715.0|\n",
      "|      41|  6/2/2019|          277045.0|\n",
      "|      41| 6/23/2019|       246177.0667|\n",
      "|      41| 7/21/2019|         242658.55|\n",
      "|      41| 7/28/2019|          213262.0|\n",
      "|      41| 8/25/2019|       260312.9517|\n",
      "|      41|  8/4/2019|         314061.85|\n",
      "|      41| 9/29/2019|          335432.0|\n",
      "|      41|  9/8/2019|       325839.0667|\n",
      "+--------+----------+------------------+\n",
      "\n"
     ]
    }
   ],
   "source": [
    "store_part.show(1002)"
   ]
  },
  {
   "cell_type": "code",
   "execution_count": 179,
   "metadata": {},
   "outputs": [
    {
     "ename": "AttributeError",
     "evalue": "'GroupedData' object has no attribute 'show'",
     "output_type": "error",
     "traceback": [
      "\u001b[0;31m---------------------------------------------------------------------------\u001b[0m",
      "\u001b[0;31mAttributeError\u001b[0m                            Traceback (most recent call last)",
      "\u001b[0;32m<ipython-input-179-0e56a0f9057b>\u001b[0m in \u001b[0;36m<module>\u001b[0;34m\u001b[0m\n\u001b[1;32m      1\u001b[0m \u001b[0mresults\u001b[0m\u001b[0;34m=\u001b[0m\u001b[0mstore_part\u001b[0m\u001b[0;34m.\u001b[0m\u001b[0mgroupBy\u001b[0m\u001b[0;34m(\u001b[0m\u001b[0;34m'store_id'\u001b[0m\u001b[0;34m)\u001b[0m\u001b[0;34m\u001b[0m\u001b[0;34m\u001b[0m\u001b[0m\n\u001b[0;32m----> 2\u001b[0;31m \u001b[0mresults\u001b[0m\u001b[0;34m.\u001b[0m\u001b[0mshow\u001b[0m\u001b[0;34m(\u001b[0m\u001b[0;34m)\u001b[0m\u001b[0;34m\u001b[0m\u001b[0;34m\u001b[0m\u001b[0m\n\u001b[0m",
      "\u001b[0;31mAttributeError\u001b[0m: 'GroupedData' object has no attribute 'show'"
     ]
    }
   ],
   "source": [
    "results=store_part.groupBy('store_id')\n",
    "results.show()"
   ]
  },
  {
   "cell_type": "code",
   "execution_count": 81,
   "metadata": {},
   "outputs": [
    {
     "name": "stdout",
     "output_type": "stream",
     "text": [
      "+--------+---------+-----------+\n",
      "|store_id|       ds|          y|\n",
      "+--------+---------+-----------+\n",
      "|      25|1/13/2019|696457.1717|\n",
      "+--------+---------+-----------+\n",
      "only showing top 1 row\n",
      "\n"
     ]
    }
   ],
   "source": [
    "store_part.show(1)"
   ]
  },
  {
   "cell_type": "code",
   "execution_count": 76,
   "metadata": {},
   "outputs": [],
   "source": [
    "from pyspark.sql.functions import current_date\n",
    "results=(store_part.groupBy('store_id').apply(forecast_sales).withColumn('training_date', current_date()))"
   ]
  },
  {
   "cell_type": "code",
   "execution_count": 87,
   "metadata": {},
   "outputs": [
    {
     "data": {
      "text/html": [
       "<div>\n",
       "<style scoped>\n",
       "    .dataframe tbody tr th:only-of-type {\n",
       "        vertical-align: middle;\n",
       "    }\n",
       "\n",
       "    .dataframe tbody tr th {\n",
       "        vertical-align: top;\n",
       "    }\n",
       "\n",
       "    .dataframe thead th {\n",
       "        text-align: right;\n",
       "    }\n",
       "</style>\n",
       "<table border=\"1\" class=\"dataframe\">\n",
       "  <thead>\n",
       "    <tr style=\"text-align: right;\">\n",
       "      <th></th>\n",
       "      <th>date</th>\n",
       "      <th>store_id</th>\n",
       "      <th>sales</th>\n",
       "    </tr>\n",
       "  </thead>\n",
       "  <tbody>\n",
       "    <tr>\n",
       "      <th>0</th>\n",
       "      <td>1/6/2019</td>\n",
       "      <td>25</td>\n",
       "      <td>736657.2267</td>\n",
       "    </tr>\n",
       "    <tr>\n",
       "      <th>1</th>\n",
       "      <td>1/6/2019</td>\n",
       "      <td>26</td>\n",
       "      <td>233711.0000</td>\n",
       "    </tr>\n",
       "    <tr>\n",
       "      <th>2</th>\n",
       "      <td>1/6/2019</td>\n",
       "      <td>28</td>\n",
       "      <td>692156.3794</td>\n",
       "    </tr>\n",
       "    <tr>\n",
       "      <th>3</th>\n",
       "      <td>1/6/2019</td>\n",
       "      <td>29</td>\n",
       "      <td>213706.8000</td>\n",
       "    </tr>\n",
       "    <tr>\n",
       "      <th>4</th>\n",
       "      <td>1/6/2019</td>\n",
       "      <td>30</td>\n",
       "      <td>266455.0000</td>\n",
       "    </tr>\n",
       "  </tbody>\n",
       "</table>\n",
       "</div>"
      ],
      "text/plain": [
       "       date  store_id        sales\n",
       "0  1/6/2019        25  736657.2267\n",
       "1  1/6/2019        26  233711.0000\n",
       "2  1/6/2019        28  692156.3794\n",
       "3  1/6/2019        29  213706.8000\n",
       "4  1/6/2019        30  266455.0000"
      ]
     },
     "execution_count": 87,
     "metadata": {},
     "output_type": "execute_result"
    }
   ],
   "source": [
    "df.head()"
   ]
  },
  {
   "cell_type": "code",
   "execution_count": 88,
   "metadata": {},
   "outputs": [
    {
     "data": {
      "text/plain": [
       "0     2019-01-06\n",
       "1     2019-01-06\n",
       "2     2019-01-06\n",
       "3     2019-01-06\n",
       "4     2019-01-06\n",
       "         ...    \n",
       "495   2019-12-15\n",
       "496   2019-12-15\n",
       "497   2019-12-15\n",
       "498   2019-12-15\n",
       "499   2019-12-15\n",
       "Name: date, Length: 500, dtype: datetime64[ns]"
      ]
     },
     "execution_count": 88,
     "metadata": {},
     "output_type": "execute_result"
    }
   ],
   "source": [
    "pd.to_datetime(df.date)"
   ]
  },
  {
   "cell_type": "code",
   "execution_count": 71,
   "metadata": {},
   "outputs": [
    {
     "name": "stdout",
     "output_type": "stream",
     "text": [
      "+--------+----------+-----------+\n",
      "|store_id|        ds|          y|\n",
      "+--------+----------+-----------+\n",
      "|      25| 1/13/2019|696457.1717|\n",
      "|      25| 1/20/2019| 996876.875|\n",
      "|      25| 1/27/2019| 1029737.05|\n",
      "|      25|10/20/2019|  984872.55|\n",
      "|      25|10/27/2019|866777.1362|\n",
      "|      25| 10/6/2019|   861162.1|\n",
      "|      25|12/15/2019|307857.8817|\n",
      "|      25| 12/8/2019|914292.7833|\n",
      "|      25|  2/3/2019|1072873.705|\n",
      "|      25| 3/10/2019|747920.9824|\n",
      "|      25| 3/31/2019|1195574.314|\n",
      "|      25| 4/14/2019|788777.4167|\n",
      "|      25| 5/12/2019| 587768.245|\n",
      "|      25| 5/19/2019|806767.5946|\n",
      "|      25| 5/26/2019|863148.7863|\n",
      "|      25|  5/5/2019|1045632.688|\n",
      "|      25| 6/16/2019|741174.1026|\n",
      "|      25| 7/21/2019|722489.5417|\n",
      "|      25| 7/28/2019|   717929.3|\n",
      "|      25| 8/25/2019|795299.7233|\n",
      "+--------+----------+-----------+\n",
      "only showing top 20 rows\n",
      "\n"
     ]
    }
   ],
   "source": [
    "store_part.show()"
   ]
  },
  {
   "cell_type": "code",
   "execution_count": 69,
   "metadata": {},
   "outputs": [
    {
     "data": {
      "text/html": [
       "<div>\n",
       "<style scoped>\n",
       "    .dataframe tbody tr th:only-of-type {\n",
       "        vertical-align: middle;\n",
       "    }\n",
       "\n",
       "    .dataframe tbody tr th {\n",
       "        vertical-align: top;\n",
       "    }\n",
       "\n",
       "    .dataframe thead th {\n",
       "        text-align: right;\n",
       "    }\n",
       "</style>\n",
       "<table border=\"1\" class=\"dataframe\">\n",
       "  <thead>\n",
       "    <tr style=\"text-align: right;\">\n",
       "      <th></th>\n",
       "      <th>sales</th>\n",
       "      <th>new_column</th>\n",
       "    </tr>\n",
       "    <tr>\n",
       "      <th>date</th>\n",
       "      <th></th>\n",
       "      <th></th>\n",
       "    </tr>\n",
       "  </thead>\n",
       "  <tbody>\n",
       "    <tr>\n",
       "      <th>1/6/2019</th>\n",
       "      <td>7.366572e+05</td>\n",
       "      <td>23</td>\n",
       "    </tr>\n",
       "    <tr>\n",
       "      <th>1/13/2019</th>\n",
       "      <td>6.964572e+05</td>\n",
       "      <td>23</td>\n",
       "    </tr>\n",
       "    <tr>\n",
       "      <th>1/20/2019</th>\n",
       "      <td>9.968769e+05</td>\n",
       "      <td>23</td>\n",
       "    </tr>\n",
       "    <tr>\n",
       "      <th>1/27/2019</th>\n",
       "      <td>1.029737e+06</td>\n",
       "      <td>23</td>\n",
       "    </tr>\n",
       "    <tr>\n",
       "      <th>2/3/2019</th>\n",
       "      <td>1.072874e+06</td>\n",
       "      <td>23</td>\n",
       "    </tr>\n",
       "    <tr>\n",
       "      <th>2/10/2019</th>\n",
       "      <td>8.804625e+05</td>\n",
       "      <td>23</td>\n",
       "    </tr>\n",
       "    <tr>\n",
       "      <th>2/17/2019</th>\n",
       "      <td>1.088757e+06</td>\n",
       "      <td>23</td>\n",
       "    </tr>\n",
       "    <tr>\n",
       "      <th>2/24/2019</th>\n",
       "      <td>1.266928e+06</td>\n",
       "      <td>23</td>\n",
       "    </tr>\n",
       "    <tr>\n",
       "      <th>3/3/2019</th>\n",
       "      <td>9.075101e+05</td>\n",
       "      <td>23</td>\n",
       "    </tr>\n",
       "    <tr>\n",
       "      <th>3/10/2019</th>\n",
       "      <td>7.479210e+05</td>\n",
       "      <td>23</td>\n",
       "    </tr>\n",
       "    <tr>\n",
       "      <th>3/17/2019</th>\n",
       "      <td>9.047503e+05</td>\n",
       "      <td>23</td>\n",
       "    </tr>\n",
       "    <tr>\n",
       "      <th>3/24/2019</th>\n",
       "      <td>1.069858e+06</td>\n",
       "      <td>23</td>\n",
       "    </tr>\n",
       "    <tr>\n",
       "      <th>3/31/2019</th>\n",
       "      <td>1.195574e+06</td>\n",
       "      <td>23</td>\n",
       "    </tr>\n",
       "    <tr>\n",
       "      <th>4/7/2019</th>\n",
       "      <td>8.349113e+05</td>\n",
       "      <td>23</td>\n",
       "    </tr>\n",
       "    <tr>\n",
       "      <th>4/14/2019</th>\n",
       "      <td>7.887774e+05</td>\n",
       "      <td>23</td>\n",
       "    </tr>\n",
       "    <tr>\n",
       "      <th>4/21/2019</th>\n",
       "      <td>8.496034e+05</td>\n",
       "      <td>23</td>\n",
       "    </tr>\n",
       "    <tr>\n",
       "      <th>4/28/2019</th>\n",
       "      <td>9.655212e+05</td>\n",
       "      <td>23</td>\n",
       "    </tr>\n",
       "    <tr>\n",
       "      <th>5/5/2019</th>\n",
       "      <td>1.045633e+06</td>\n",
       "      <td>23</td>\n",
       "    </tr>\n",
       "    <tr>\n",
       "      <th>5/12/2019</th>\n",
       "      <td>5.877682e+05</td>\n",
       "      <td>23</td>\n",
       "    </tr>\n",
       "    <tr>\n",
       "      <th>5/19/2019</th>\n",
       "      <td>8.067676e+05</td>\n",
       "      <td>23</td>\n",
       "    </tr>\n",
       "    <tr>\n",
       "      <th>5/26/2019</th>\n",
       "      <td>8.631488e+05</td>\n",
       "      <td>23</td>\n",
       "    </tr>\n",
       "    <tr>\n",
       "      <th>6/2/2019</th>\n",
       "      <td>8.969892e+05</td>\n",
       "      <td>23</td>\n",
       "    </tr>\n",
       "    <tr>\n",
       "      <th>6/9/2019</th>\n",
       "      <td>1.056231e+06</td>\n",
       "      <td>23</td>\n",
       "    </tr>\n",
       "    <tr>\n",
       "      <th>6/16/2019</th>\n",
       "      <td>7.411741e+05</td>\n",
       "      <td>23</td>\n",
       "    </tr>\n",
       "    <tr>\n",
       "      <th>6/23/2019</th>\n",
       "      <td>9.021746e+05</td>\n",
       "      <td>23</td>\n",
       "    </tr>\n",
       "    <tr>\n",
       "      <th>6/30/2019</th>\n",
       "      <td>8.048716e+05</td>\n",
       "      <td>23</td>\n",
       "    </tr>\n",
       "    <tr>\n",
       "      <th>7/7/2019</th>\n",
       "      <td>1.050469e+06</td>\n",
       "      <td>23</td>\n",
       "    </tr>\n",
       "    <tr>\n",
       "      <th>7/14/2019</th>\n",
       "      <td>6.898909e+05</td>\n",
       "      <td>23</td>\n",
       "    </tr>\n",
       "    <tr>\n",
       "      <th>7/21/2019</th>\n",
       "      <td>7.224895e+05</td>\n",
       "      <td>23</td>\n",
       "    </tr>\n",
       "    <tr>\n",
       "      <th>7/28/2019</th>\n",
       "      <td>7.179293e+05</td>\n",
       "      <td>23</td>\n",
       "    </tr>\n",
       "    <tr>\n",
       "      <th>8/4/2019</th>\n",
       "      <td>8.892387e+05</td>\n",
       "      <td>23</td>\n",
       "    </tr>\n",
       "    <tr>\n",
       "      <th>8/11/2019</th>\n",
       "      <td>7.904770e+05</td>\n",
       "      <td>23</td>\n",
       "    </tr>\n",
       "    <tr>\n",
       "      <th>8/18/2019</th>\n",
       "      <td>7.205801e+05</td>\n",
       "      <td>23</td>\n",
       "    </tr>\n",
       "    <tr>\n",
       "      <th>8/25/2019</th>\n",
       "      <td>7.952997e+05</td>\n",
       "      <td>23</td>\n",
       "    </tr>\n",
       "    <tr>\n",
       "      <th>9/1/2019</th>\n",
       "      <td>9.674131e+05</td>\n",
       "      <td>23</td>\n",
       "    </tr>\n",
       "    <tr>\n",
       "      <th>9/8/2019</th>\n",
       "      <td>8.962960e+05</td>\n",
       "      <td>23</td>\n",
       "    </tr>\n",
       "    <tr>\n",
       "      <th>9/15/2019</th>\n",
       "      <td>8.545824e+05</td>\n",
       "      <td>23</td>\n",
       "    </tr>\n",
       "    <tr>\n",
       "      <th>9/22/2019</th>\n",
       "      <td>1.038662e+06</td>\n",
       "      <td>23</td>\n",
       "    </tr>\n",
       "    <tr>\n",
       "      <th>9/29/2019</th>\n",
       "      <td>1.033152e+06</td>\n",
       "      <td>23</td>\n",
       "    </tr>\n",
       "    <tr>\n",
       "      <th>10/6/2019</th>\n",
       "      <td>8.611621e+05</td>\n",
       "      <td>23</td>\n",
       "    </tr>\n",
       "    <tr>\n",
       "      <th>10/13/2019</th>\n",
       "      <td>7.357233e+05</td>\n",
       "      <td>23</td>\n",
       "    </tr>\n",
       "    <tr>\n",
       "      <th>10/20/2019</th>\n",
       "      <td>9.848726e+05</td>\n",
       "      <td>23</td>\n",
       "    </tr>\n",
       "    <tr>\n",
       "      <th>10/27/2019</th>\n",
       "      <td>8.667771e+05</td>\n",
       "      <td>23</td>\n",
       "    </tr>\n",
       "    <tr>\n",
       "      <th>11/3/2019</th>\n",
       "      <td>1.028017e+06</td>\n",
       "      <td>23</td>\n",
       "    </tr>\n",
       "    <tr>\n",
       "      <th>11/10/2019</th>\n",
       "      <td>8.956759e+05</td>\n",
       "      <td>23</td>\n",
       "    </tr>\n",
       "    <tr>\n",
       "      <th>11/17/2019</th>\n",
       "      <td>2.550343e+05</td>\n",
       "      <td>23</td>\n",
       "    </tr>\n",
       "    <tr>\n",
       "      <th>11/24/2019</th>\n",
       "      <td>3.142105e+05</td>\n",
       "      <td>23</td>\n",
       "    </tr>\n",
       "    <tr>\n",
       "      <th>12/1/2019</th>\n",
       "      <td>3.767081e+05</td>\n",
       "      <td>23</td>\n",
       "    </tr>\n",
       "    <tr>\n",
       "      <th>12/8/2019</th>\n",
       "      <td>9.142928e+05</td>\n",
       "      <td>23</td>\n",
       "    </tr>\n",
       "    <tr>\n",
       "      <th>12/15/2019</th>\n",
       "      <td>3.078579e+05</td>\n",
       "      <td>23</td>\n",
       "    </tr>\n",
       "  </tbody>\n",
       "</table>\n",
       "</div>"
      ],
      "text/plain": [
       "                   sales  new_column\n",
       "date                                \n",
       "1/6/2019    7.366572e+05          23\n",
       "1/13/2019   6.964572e+05          23\n",
       "1/20/2019   9.968769e+05          23\n",
       "1/27/2019   1.029737e+06          23\n",
       "2/3/2019    1.072874e+06          23\n",
       "2/10/2019   8.804625e+05          23\n",
       "2/17/2019   1.088757e+06          23\n",
       "2/24/2019   1.266928e+06          23\n",
       "3/3/2019    9.075101e+05          23\n",
       "3/10/2019   7.479210e+05          23\n",
       "3/17/2019   9.047503e+05          23\n",
       "3/24/2019   1.069858e+06          23\n",
       "3/31/2019   1.195574e+06          23\n",
       "4/7/2019    8.349113e+05          23\n",
       "4/14/2019   7.887774e+05          23\n",
       "4/21/2019   8.496034e+05          23\n",
       "4/28/2019   9.655212e+05          23\n",
       "5/5/2019    1.045633e+06          23\n",
       "5/12/2019   5.877682e+05          23\n",
       "5/19/2019   8.067676e+05          23\n",
       "5/26/2019   8.631488e+05          23\n",
       "6/2/2019    8.969892e+05          23\n",
       "6/9/2019    1.056231e+06          23\n",
       "6/16/2019   7.411741e+05          23\n",
       "6/23/2019   9.021746e+05          23\n",
       "6/30/2019   8.048716e+05          23\n",
       "7/7/2019    1.050469e+06          23\n",
       "7/14/2019   6.898909e+05          23\n",
       "7/21/2019   7.224895e+05          23\n",
       "7/28/2019   7.179293e+05          23\n",
       "8/4/2019    8.892387e+05          23\n",
       "8/11/2019   7.904770e+05          23\n",
       "8/18/2019   7.205801e+05          23\n",
       "8/25/2019   7.952997e+05          23\n",
       "9/1/2019    9.674131e+05          23\n",
       "9/8/2019    8.962960e+05          23\n",
       "9/15/2019   8.545824e+05          23\n",
       "9/22/2019   1.038662e+06          23\n",
       "9/29/2019   1.033152e+06          23\n",
       "10/6/2019   8.611621e+05          23\n",
       "10/13/2019  7.357233e+05          23\n",
       "10/20/2019  9.848726e+05          23\n",
       "10/27/2019  8.667771e+05          23\n",
       "11/3/2019   1.028017e+06          23\n",
       "11/10/2019  8.956759e+05          23\n",
       "11/17/2019  2.550343e+05          23\n",
       "11/24/2019  3.142105e+05          23\n",
       "12/1/2019   3.767081e+05          23\n",
       "12/8/2019   9.142928e+05          23\n",
       "12/15/2019  3.078579e+05          23"
      ]
     },
     "execution_count": 69,
     "metadata": {},
     "output_type": "execute_result"
    }
   ],
   "source": [
    "dummy=df_25.copy()\n",
    "dummy['new_column'] = 23\n",
    "dummy"
   ]
  },
  {
   "cell_type": "code",
   "execution_count": 53,
   "metadata": {},
   "outputs": [
    {
     "data": {
      "text/plain": [
       "Column<b'current_date()[show]'>"
      ]
     },
     "execution_count": 53,
     "metadata": {},
     "output_type": "execute_result"
    }
   ],
   "source": [
    "from pyspark.sql.functions import current_date\n",
    "current_date().show"
   ]
  }
 ],
 "metadata": {
  "kernelspec": {
   "display_name": "Python 3",
   "language": "python",
   "name": "python3"
  },
  "language_info": {
   "codemirror_mode": {
    "name": "ipython",
    "version": 3
   },
   "file_extension": ".py",
   "mimetype": "text/x-python",
   "name": "python",
   "nbconvert_exporter": "python",
   "pygments_lexer": "ipython3",
   "version": "3.7.6"
  }
 },
 "nbformat": 4,
 "nbformat_minor": 4
}

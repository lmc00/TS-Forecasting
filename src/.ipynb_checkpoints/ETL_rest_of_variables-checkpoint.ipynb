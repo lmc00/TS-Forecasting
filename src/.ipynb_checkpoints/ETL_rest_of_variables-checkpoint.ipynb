{
 "cells": [
  {
   "cell_type": "markdown",
   "metadata": {},
   "source": [
    "# ETL Rest of the time series"
   ]
  },
  {
   "cell_type": "markdown",
   "metadata": {},
   "source": [
    "Suma del consumo de laas dos enfriadoras (kW). Sabemos que el consumo se encuentra en la fila \"basement\" del dataframe original y que la columna Power13 es el consumo de la enfriadora 1 (serie temporal guardada en Hash table) y Power 14 lo mismo para enfriadora 2. Mediciones en kW."
   ]
  },
  {
   "cell_type": "code",
   "execution_count": 2,
   "metadata": {},
   "outputs": [],
   "source": [
    "## Imports\n",
    "from pyspark.sql import SparkSession\n",
    "from pyspark import SparkContext\n",
    "import os\n",
    "import copy\n",
    "import time\n",
    "import statsmodels\n",
    "import pandas as pd\n",
    "import numpy as np\n",
    "import matplotlib.pyplot as plt\n",
    "import seaborn as sns\n",
    "\n",
    "# Spark dependencies\n",
    "from pyspark.sql.functions import *\n",
    "from pyspark.sql.types import *\n",
    "from pyspark import StorageLevel, SparkConf\n",
    "from pyspark.ml.feature import StandardScaler, VectorAssembler, PCA\n",
    "from pyspark.mllib.linalg import SparseVector, DenseVector, VectorUDT\n",
    "from pyspark.ml.classification import LogisticRegression\n",
    "\n",
    "from pyspark.sql import functions as F\n",
    "from pyspark.sql.window import Window\n",
    "from datetime import datetime, timedelta\n",
    "from pyspark.sql.types import TimestampType\n",
    "from pyspark.sql.functions import col, expr, udf, sequence\n",
    "\n",
    "# Other configs\n",
    "pd.options.display.float_format = \"{:.2f}\".format\n",
    "\n",
    "# Useful directory variables\n",
    "src_path = os.getcwd()\n",
    "root_path = os.path.dirname(src_path)\n",
    "data_path = root_path + \"/datasets\"\n",
    "visualization_path = root_path + \"/data_visualization\"\n",
    "\n",
    "# Start counting time\n",
    "start_t = time.time()\n",
    "# Reading the original file\n",
    "df = spark.read.parquet(\n",
    "    \"output_final.parquet\"\n",
    ")  # Functional programming. Reading the raw data file with the Structured API\n",
    "# df.printSchema()\n",
    "df.createOrReplaceTempView(\"df\")\n",
    "\n",
    "# Generating a dataFrame with the times (every 30 minutes from start_timestamp to end_timestamp)\n",
    "dates = pd.date_range(\n",
    "    start=datetime(2018, 1, 1, 0, 0, 0),\n",
    "    end=datetime(2021, 6, 30, 0, 0, 0),\n",
    "    freq=\"30min\",\n",
    ")\n",
    "datetimes = [date.to_pydatetime() for date in dates]\n",
    "time_df = (\n",
    "    spark.createDataFrame(datetimes, TimestampType())\n",
    "    .withColumnRenamed(\"value\", \"time\")\n",
    "    .sort(F.asc(\"time\"))\n",
    ")\n",
    "\n",
    "# Obtaning each consumption node in a list\n",
    "node_list = (\n",
    "    spark.sql(\"SELECT node from df\").rdd.flatMap(lambda x: x).collect()\n",
    ")  # Getting the list with all the node names\n"
   ]
  },
  {
   "cell_type": "code",
   "execution_count": 2,
   "metadata": {},
   "outputs": [
    {
     "name": "stdout",
     "output_type": "stream",
     "text": [
      "root\n",
      " |-- node: string (nullable = true)\n",
      " |-- start_time: timestamp (nullable = true)\n",
      " |-- end_time: timestamp (nullable = true)\n",
      " |-- power: map (nullable = true)\n",
      " |    |-- key: timestamp\n",
      " |    |-- value: float (valueContainsNull = true)\n",
      " |-- Power13: map (nullable = true)\n",
      " |    |-- key: timestamp\n",
      " |    |-- value: float (valueContainsNull = true)\n",
      " |-- Power14: map (nullable = true)\n",
      " |    |-- key: timestamp\n",
      " |    |-- value: float (valueContainsNull = true)\n",
      " |-- in: map (nullable = true)\n",
      " |    |-- key: timestamp\n",
      " |    |-- value: float (valueContainsNull = true)\n",
      " |-- out: map (nullable = true)\n",
      " |    |-- key: timestamp\n",
      " |    |-- value: float (valueContainsNull = true)\n",
      " |-- evaporator: map (nullable = true)\n",
      " |    |-- key: timestamp\n",
      " |    |-- value: float (valueContainsNull = true)\n",
      " |-- ambient: map (nullable = true)\n",
      " |    |-- key: timestamp\n",
      " |    |-- value: float (valueContainsNull = true)\n",
      " |-- Compressor1: map (nullable = true)\n",
      " |    |-- key: timestamp\n",
      " |    |-- value: float (valueContainsNull = true)\n",
      " |-- Compressor2: map (nullable = true)\n",
      " |    |-- key: timestamp\n",
      " |    |-- value: float (valueContainsNull = true)\n",
      "\n"
     ]
    }
   ],
   "source": [
    "df.printSchema()"
   ]
  },
  {
   "cell_type": "code",
   "execution_count": 4,
   "metadata": {},
   "outputs": [
    {
     "data": {
      "text/plain": [
       "['1', '2', 'basement']"
      ]
     },
     "execution_count": 4,
     "metadata": {},
     "output_type": "execute_result"
    }
   ],
   "source": [
    "node_list[-3:]"
   ]
  },
  {
   "cell_type": "markdown",
   "metadata": {},
   "source": [
    "## Cosumo en kW de las enfriadoras 1 y 3.\n",
    "\n",
    "Se calcula la media en ventanas temporales de 30 minutos tal y como se ha realizado con los nodos del cluster. "
   ]
  },
  {
   "cell_type": "code",
   "execution_count": 19,
   "metadata": {},
   "outputs": [
    {
     "name": "stdout",
     "output_type": "stream",
     "text": [
      "+-------------------+-----------------------------------+\n",
      "|               time|chiller_1_average_power_consumption|\n",
      "+-------------------+-----------------------------------+\n",
      "|2018-01-01 00:00:00|                                0.0|\n",
      "|2018-01-01 00:30:00|                 37.522221671210396|\n",
      "|2018-01-01 01:00:00|                  24.84444448682997|\n",
      "|2018-01-01 01:30:00|                   37.6555553012424|\n",
      "|2018-01-01 02:00:00|                  45.44999933242798|\n",
      "+-------------------+-----------------------------------+\n",
      "only showing top 5 rows\n",
      "\n"
     ]
    }
   ],
   "source": [
    "sql_query_chiller_1_consumption = \"\"\"\n",
    "                SELECT \n",
    "                    EXPLODE(Power13) as (time, chiller_1_power_consumption) \n",
    "                FROM df\n",
    "                WHERE \n",
    "                    node LIKE \"basement\"\n",
    "            \"\"\"\n",
    "chiller_1_consumption = spark.sql(sql_query_chiller_1_consumption)\n",
    "chiller_1_consumption = chiller_1_consumption.withColumn(\n",
    "    \"time\", F.to_timestamp(chiller_1_consumption.time, \"yyyy-MM-dd HH:MM:SS\")\n",
    ")\n",
    "chiller_1_consumption = chiller_1_consumption.groupBy(\n",
    "    \"time\", F.window(\"time\", \"30 minutes\")\n",
    ").agg(\n",
    "    avg(\n",
    "        \"chiller_1_power_consumption\").alias(\"chiller_1_power_consumption\"),\n",
    "    )\n",
    "chiller_1_consumption = chiller_1_consumption.select(\n",
    "    \"time\", \"window.*\", \"chiller_1_power_consumption\"\n",
    ").sort(F.asc(\"time\"))\n",
    "\n",
    "chiller_1_consumption = chiller_1_consumption.select(\n",
    "    col(\"end\").alias(\"time\"), col(\"chiller_1_power_consumption\")\n",
    ")\n",
    "chiller_1_consumption = chiller_1_consumption.groupBy(\"time\").agg(\n",
    "    avg(\"chiller_1_power_consumption\").alias(\"chiller_1_average_power_consumption\"))\n",
    "\n",
    "chiller_1_consumption = chiller_1_consumption.select(\n",
    "    \"time\", \"chiller_1_average_power_consumption\"\n",
    ").sort(F.asc(\"time\"))\n",
    "chiller_1_consumption = time_df.join(chiller_1_consumption, [\"time\"], how=\"left\").sort(\n",
    "    F.asc(\"time\")\n",
    ")\n",
    "chiller_1_consumption = chiller_1_consumption.fillna(\n",
    "    0, subset=[\"chiller_1_average_power_consumption\"]\n",
    ")\n",
    "chiller_1_consumption.cache()\n",
    "chiller_1_consumption.show(5)\n",
    "chiller_1_consumption.write.parquet(\"chiller_1_consumption_total_average_30min_kW\")"
   ]
  },
  {
   "cell_type": "code",
   "execution_count": 3,
   "metadata": {},
   "outputs": [
    {
     "name": "stdout",
     "output_type": "stream",
     "text": [
      "+-------------------+-----------------------------------+\n",
      "|               time|chiller_2_average_power_consumption|\n",
      "+-------------------+-----------------------------------+\n",
      "|2018-01-01 00:00:00|                                0.0|\n",
      "|2018-01-01 00:30:00|                                0.0|\n",
      "|2018-01-01 01:00:00|                                0.0|\n",
      "|2018-01-01 01:30:00|                                0.0|\n",
      "|2018-01-01 02:00:00|                                0.0|\n",
      "+-------------------+-----------------------------------+\n",
      "only showing top 5 rows\n",
      "\n"
     ]
    }
   ],
   "source": [
    "#De modo similar para la segunda enfriadora\n",
    "sql_query_chiller_2_consumption = \"\"\"\n",
    "                SELECT \n",
    "                    EXPLODE(Power14) as (time, chiller_2_power_consumption) \n",
    "                FROM df\n",
    "                WHERE \n",
    "                    node LIKE \"basement\"\n",
    "            \"\"\"\n",
    "chiller_2_consumption = spark.sql(sql_query_chiller_2_consumption)\n",
    "chiller_2_consumption = chiller_2_consumption.withColumn(\n",
    "    \"time\", F.to_timestamp(chiller_2_consumption.time, \"yyyy-MM-dd HH:MM:SS\")\n",
    ")\n",
    "chiller_2_consumption = chiller_2_consumption.groupBy(\n",
    "    \"time\", F.window(\"time\", \"30 minutes\")\n",
    ").agg(\n",
    "    avg(\n",
    "        \"chiller_2_power_consumption\").alias(\"chiller_2_power_consumption\"),\n",
    "    )\n",
    "chiller_2_consumption = chiller_2_consumption.select(\n",
    "    \"time\", \"window.*\", \"chiller_2_power_consumption\"\n",
    ").sort(F.asc(\"time\"))\n",
    "\n",
    "chiller_2_consumption = chiller_2_consumption.select(\n",
    "    col(\"end\").alias(\"time\"), col(\"chiller_2_power_consumption\")\n",
    ")\n",
    "chiller_2_consumption = chiller_2_consumption.groupBy(\"time\").agg(\n",
    "    avg(\"chiller_2_power_consumption\").alias(\"chiller_2_average_power_consumption\"))\n",
    "\n",
    "chiller_2_consumption = chiller_2_consumption.select(\n",
    "    \"time\", \"chiller_2_average_power_consumption\"\n",
    ").sort(F.asc(\"time\"))\n",
    "chiller_2_consumption = time_df.join(chiller_2_consumption, [\"time\"], how=\"left\").sort(\n",
    "    F.asc(\"time\")\n",
    ")\n",
    "chiller_2_consumption = chiller_2_consumption.fillna(\n",
    "    0, subset=[\"chiller_2_average_power_consumption\"]\n",
    ")\n",
    "chiller_2_consumption.cache()\n",
    "chiller_2_consumption.show(5)\n",
    "chiller_2_consumption.write.parquet(\"chiller_2_consumption_total_average_30min_kW\")"
   ]
  },
  {
   "cell_type": "markdown",
   "metadata": {},
   "source": [
    "Al terminar, realizamos desde terminal hdfs dfs -get para pasar los .parquet generados del almacenamiento en el sistema de ficheros HDFS distribuido del cluster al sistema local del nodo de entrada (ext4). Lo realizaremos en /datasets/02_intermediate de acuerdo a la data engineering convention de Quantum Black (https://towardsdatascience.com/the-importance-of-layered-thinking-in-data-engineering-a09f685edc71   y    https://docs.kedro.org/en/stable/faq/faq.html)"
   ]
  },
  {
   "cell_type": "code",
   "execution_count": 8,
   "metadata": {},
   "outputs": [],
   "source": [
    "chiller_1_pandas = pd.read_parquet(\n",
    "    data_path + \"/02_intermediate/\" + \"chiller_1_consumption_total_average_30min_kW\"\n",
    ")\n",
    "chiller_2_pandas = pd.read_parquet(\n",
    "    data_path + \"/02_intermediate/\" + \"chiller_2_consumption_total_average_30min_kW\"\n",
    ")\n",
    "chiller_1and2_consumption_pandas = pd.merge(\n",
    "    chiller_1_pandas,\n",
    "    chiller_2_pandas,\n",
    "    on=\"time\",\n",
    ")\n",
    "chiller_1and2_consumption_pandas[\"total_average_power_consumption_kW\"] = (\n",
    "    chiller_1and2_consumption_pandas.chiller_1_average_power_consumption\n",
    "    + chiller_1and2_consumption_pandas.chiller_2_average_power_consumption\n",
    ")\n",
    "chiller_1and2_consumption_pandas.drop(\n",
    "    [\"chiller_1_average_power_consumption\", \"chiller_2_average_power_consumption\"],\n",
    "    axis=1,\n",
    "    inplace=True,\n",
    ")\n",
    "chiller_1and2_consumption_pandas.to_parquet(\n",
    "    data_path + \"/03_primary/\" + \"chiller_1and2_consumption_total_average_30_min_kW\"\n",
    ")  # Snappy by default. Optimal for write once read many\n"
   ]
  },
  {
   "cell_type": "code",
   "execution_count": 9,
   "metadata": {},
   "outputs": [
    {
     "data": {
      "image/png": "[encoded data removed]",
      "text/plain": [
       "<Figure size 1080x432 with 1 Axes>"
      ]
     },
     "metadata": {
      "needs_background": "light"
     },
     "output_type": "display_data"
    }
   ],
   "source": [
    "fig, ax = plt.subplots(figsize=(15, 6))\n",
    "sns.lineplot(chiller_1and2_consumption_pandas['time'], chiller_1and2_consumption_pandas['total_average_power_consumption_kW'] )\n",
    "\n",
    "ax.set_title('Total average Chiller Electric Power Consumption/ kW against time for the chiller 1 and 2 added', fontsize = 20, loc='center', fontdict=dict(weight='bold'))\n",
    "ax.set_xlabel('Time', fontsize = 16, fontdict=dict(weight='bold'))\n",
    "ax.set_ylabel('Electric Consumption/ W', fontsize = 16, fontdict=dict(weight='bold'))\n",
    "plt.tick_params(axis='y', which='major', labelsize=16)\n",
    "plt.tick_params(axis='x', which='major', labelsize=16)"
   ]
  },
  {
   "cell_type": "markdown",
   "metadata": {},
   "source": [
    "# Presion maxima 4 compresores (2 por enfriadora) en Pascales\n",
    "Nuevamente agrupacion en ventanas de 30 minutos, pero en este caso en lugar del valor medio tomamos como metrica de agrupacion la lectura maxima en esa ventana. Sacamos cada una de las 4 series temporales y luego las juntamos en pandas."
   ]
  }
 ],
 "metadata": {
  "kernelspec": {
   "display_name": "Python 3",
   "language": "python",
   "name": "python3"
  },
  "language_info": {
   "codemirror_mode": {
    "name": "ipython",
    "version": 3
   },
   "file_extension": ".py",
   "mimetype": "text/x-python",
   "name": "python",
   "nbconvert_exporter": "python",
   "pygments_lexer": "ipython3",
   "version": "3.7.6"
  }
 },
 "nbformat": 4,
 "nbformat_minor": 4
}

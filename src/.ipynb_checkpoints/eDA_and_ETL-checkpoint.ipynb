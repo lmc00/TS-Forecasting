{
 "cells": [
  {
   "cell_type": "markdown",
   "metadata": {},
   "source": [
    "# EXPLORATORY DATA ANALYSIS AND ETL\n",
    "\n"
   ]
  },
  {
   "cell_type": "markdown",
   "metadata": {},
   "source": [
    "La primera columna \"node\" contiene el nombre del nodo en el que se toman los datos (eg c7102). Para los datos de las enfriadoras, aparecen en esta columna como \"1\" y \"2\" (enfriadora 1, enfriadora 2 respectivamente) para los datos de temperatura y presión y como \"basement\" para los datos de consumo (la enfriadora 1 se corresponde con la columna \"Power13\" y la 2 con \"Power14\").\n",
    "\n",
    "La segunda y tercera columna incluyen los rangos de fecha para las series temporales de esa fila. Como se indicó antes, de 2018/01/01 hasta 2021/01/06.\n",
    "\n",
    "La columna 4 \"power\": incluye los consumos de los nodos (ie node=\"cxxxx\"). En cada celda se encuentra una serie temporal en formato diccionario en el que la key se corresponde con el timestamp del dato.\n",
    "\n",
    "Las columnas 5 y 6 'Power13', 'Power14' se corresponden con el consumo de las enfriadoras (medido en los cuadros PM13 PM14) como se indicó en la explicación de la columna nodo. Solo debería tener datos para node=\"basement\". En cada celda se encuentra una serie temporal en formato diccionario en el que la key se corresponde con el timestamp del dato.\n",
    "\n",
    "Las columnas de la 7 a 10 :'in' -(free cooling)-> 'evaporator' -(compresores)-> 'out'. Y  'ambient' sería la temperatura externa. Estas incluyen las medidas de las temperaturas en las enfriadoras (respectivamente de entrada, salida, en el evaporador y ambiente). Solo debería tener datos para node=\"1\" o \"2\" dependiendo de que enfriadora se trate. En cada celda se encuentra una serie temporal en formato diccionario en el que la key se corresponde con el timestamp del dato.\n",
    "\n",
    "Las columnas 11, 12: 'Compressor1', 'Compressor2' son equivalentes al punto \n",
    "anterior pero con los datos de presión en cada uno de los dos compresores de cada enfriadora. Solo debería tener datos para node=\"1\" o \"2\" dependiendo de que enfriadora se trate. En cada celda se encuentra una serie temporal en formato diccionario en el que la key se corresponde con el timestamp del dato.\n"
   ]
  },
  {
   "cell_type": "code",
   "execution_count": 1,
   "metadata": {},
   "outputs": [],
   "source": [
    "## Imports\n",
    "import os\n",
    "import copy\n",
    "import statsmodels\n",
    "import pandas as pd\n",
    "import numpy as np\n",
    "import matplotlib.pyplot as plt\n",
    "#Spark dependencies\n",
    "from pyspark.sql.functions import *\n",
    "from pyspark.sql.types import *\n",
    "from pyspark import StorageLevel, SparkConf\n",
    "from pyspark.ml.feature import StandardScaler, VectorAssembler, PCA\n",
    "from pyspark.mllib.linalg import SparseVector, DenseVector, VectorUDT\n",
    "from pyspark.ml.classification import LogisticRegression\n",
    "#Other configs\n",
    "pd.options.display.float_format = '{:.2f}'.format"
   ]
  },
  {
   "cell_type": "code",
   "execution_count": 2,
   "metadata": {},
   "outputs": [],
   "source": [
    "#Useful directory variables\n",
    "src_path = os.getcwd()\n",
    "root_path = os.path.dirname(src_path)"
   ]
  },
  {
   "cell_type": "code",
   "execution_count": 3,
   "metadata": {},
   "outputs": [
    {
     "name": "stdout",
     "output_type": "stream",
     "text": [
      "root\n",
      " |-- node: string (nullable = true)\n",
      " |-- start_time: timestamp (nullable = true)\n",
      " |-- end_time: timestamp (nullable = true)\n",
      " |-- power: map (nullable = true)\n",
      " |    |-- key: timestamp\n",
      " |    |-- value: float (valueContainsNull = true)\n",
      " |-- Power13: map (nullable = true)\n",
      " |    |-- key: timestamp\n",
      " |    |-- value: float (valueContainsNull = true)\n",
      " |-- Power14: map (nullable = true)\n",
      " |    |-- key: timestamp\n",
      " |    |-- value: float (valueContainsNull = true)\n",
      " |-- in: map (nullable = true)\n",
      " |    |-- key: timestamp\n",
      " |    |-- value: float (valueContainsNull = true)\n",
      " |-- out: map (nullable = true)\n",
      " |    |-- key: timestamp\n",
      " |    |-- value: float (valueContainsNull = true)\n",
      " |-- evaporator: map (nullable = true)\n",
      " |    |-- key: timestamp\n",
      " |    |-- value: float (valueContainsNull = true)\n",
      " |-- ambient: map (nullable = true)\n",
      " |    |-- key: timestamp\n",
      " |    |-- value: float (valueContainsNull = true)\n",
      " |-- Compressor1: map (nullable = true)\n",
      " |    |-- key: timestamp\n",
      " |    |-- value: float (valueContainsNull = true)\n",
      " |-- Compressor2: map (nullable = true)\n",
      " |    |-- key: timestamp\n",
      " |    |-- value: float (valueContainsNull = true)\n",
      "\n"
     ]
    }
   ],
   "source": [
    "df = spark.read.parquet(\"output_final.parquet\") #Functional programming. Reading the raw data file with the Structured API\n",
    "df.printSchema()"
   ]
  },
  {
   "cell_type": "code",
   "execution_count": 4,
   "metadata": {},
   "outputs": [],
   "source": [
    "df.createOrReplaceTempView(\"df\")"
   ]
  },
  {
   "cell_type": "code",
   "execution_count": 22,
   "metadata": {},
   "outputs": [
    {
     "name": "stdout",
     "output_type": "stream",
     "text": [
      "+-----------+\n",
      "|count(node)|\n",
      "+-----------+\n",
      "|        291|\n",
      "+-----------+\n",
      "\n"
     ]
    }
   ],
   "source": [
    "spark.sql(\"SELECT COUNT(node) from df\").show()"
   ]
  },
  {
   "cell_type": "code",
   "execution_count": 23,
   "metadata": {},
   "outputs": [
    {
     "name": "stdout",
     "output_type": "stream",
     "text": [
      "+--------------------+\n",
      "|count(DISTINCT node)|\n",
      "+--------------------+\n",
      "|                 291|\n",
      "+--------------------+\n",
      "\n"
     ]
    }
   ],
   "source": [
    "spark.sql(\"SELECT COUNT(DISTINCT(node)) from df\").show()"
   ]
  },
  {
   "cell_type": "code",
   "execution_count": 24,
   "metadata": {},
   "outputs": [
    {
     "name": "stdout",
     "output_type": "stream",
     "text": [
      "+--------+\n",
      "|    node|\n",
      "+--------+\n",
      "|   c6601|\n",
      "|   c6602|\n",
      "|   c6603|\n",
      "|   c6604|\n",
      "|   c6605|\n",
      "|   c6606|\n",
      "|   c6607|\n",
      "|   c6608|\n",
      "|   c6609|\n",
      "|   c6610|\n",
      "|   c6611|\n",
      "|   c6612|\n",
      "|   c6613|\n",
      "|   c6614|\n",
      "|   c6615|\n",
      "|   c6616|\n",
      "|   c6617|\n",
      "|   c6618|\n",
      "|   c6619|\n",
      "|   c6620|\n",
      "|   c6621|\n",
      "|   c6622|\n",
      "|   c6623|\n",
      "|   c6624|\n",
      "|   c6625|\n",
      "|   c6626|\n",
      "|   c6627|\n",
      "|   c6628|\n",
      "|   c6629|\n",
      "|   c6630|\n",
      "|   c6631|\n",
      "|   c6632|\n",
      "|   c6633|\n",
      "|   c6634|\n",
      "|   c6635|\n",
      "|   c6636|\n",
      "|   c6637|\n",
      "|   c6638|\n",
      "|   c6639|\n",
      "|   c6640|\n",
      "|   c6641|\n",
      "|   c6642|\n",
      "|   c6643|\n",
      "|   c6644|\n",
      "|   c6645|\n",
      "|   c6646|\n",
      "|   c6647|\n",
      "|   c6648|\n",
      "|   c6901|\n",
      "|   c6902|\n",
      "|   c6903|\n",
      "|   c6904|\n",
      "|   c6905|\n",
      "|   c6906|\n",
      "|   c6907|\n",
      "|   c6908|\n",
      "|   c6909|\n",
      "|   c6910|\n",
      "|   c6911|\n",
      "|   c6912|\n",
      "|   c6913|\n",
      "|   c6914|\n",
      "|   c6915|\n",
      "|   c6916|\n",
      "|   c6917|\n",
      "|   c6918|\n",
      "|   c6919|\n",
      "|   c6920|\n",
      "|   c6921|\n",
      "|   c6922|\n",
      "|   c6923|\n",
      "|   c6924|\n",
      "|   c6925|\n",
      "|   c6926|\n",
      "|   c6927|\n",
      "|   c6928|\n",
      "|   c6929|\n",
      "|   c6930|\n",
      "|   c6931|\n",
      "|   c6932|\n",
      "|   c6933|\n",
      "|   c6934|\n",
      "|   c6935|\n",
      "|   c6936|\n",
      "|   c6937|\n",
      "|   c6938|\n",
      "|   c6939|\n",
      "|   c6940|\n",
      "|   c6941|\n",
      "|   c6942|\n",
      "|   c6943|\n",
      "|   c6944|\n",
      "|   c6945|\n",
      "|   c6946|\n",
      "|   c6947|\n",
      "|   c6948|\n",
      "|   c7001|\n",
      "|   c7002|\n",
      "|   c7003|\n",
      "|   c7004|\n",
      "|   c7005|\n",
      "|   c7006|\n",
      "|   c7007|\n",
      "|   c7008|\n",
      "|   c7009|\n",
      "|   c7010|\n",
      "|   c7011|\n",
      "|   c7012|\n",
      "|   c7013|\n",
      "|   c7014|\n",
      "|   c7015|\n",
      "|   c7016|\n",
      "|   c7017|\n",
      "|   c7018|\n",
      "|   c7019|\n",
      "|   c7020|\n",
      "|   c7021|\n",
      "|   c7022|\n",
      "|   c7023|\n",
      "|   c7024|\n",
      "|   c7025|\n",
      "|   c7026|\n",
      "|   c7027|\n",
      "|   c7028|\n",
      "|   c7029|\n",
      "|   c7030|\n",
      "|   c7031|\n",
      "|   c7032|\n",
      "|   c7033|\n",
      "|   c7034|\n",
      "|   c7035|\n",
      "|   c7036|\n",
      "|   c7037|\n",
      "|   c7038|\n",
      "|   c7039|\n",
      "|   c7040|\n",
      "|   c7041|\n",
      "|   c7042|\n",
      "|   c7043|\n",
      "|   c7044|\n",
      "|   c7045|\n",
      "|   c7046|\n",
      "|   c7047|\n",
      "|   c7048|\n",
      "|   c7101|\n",
      "|   c7102|\n",
      "|   c7103|\n",
      "|   c7104|\n",
      "|   c7105|\n",
      "|   c7106|\n",
      "|   c7107|\n",
      "|   c7108|\n",
      "|   c7109|\n",
      "|   c7110|\n",
      "|   c7111|\n",
      "|   c7112|\n",
      "|   c7113|\n",
      "|   c7114|\n",
      "|   c7115|\n",
      "|   c7116|\n",
      "|   c7117|\n",
      "|   c7118|\n",
      "|   c7119|\n",
      "|   c7120|\n",
      "|   c7121|\n",
      "|   c7122|\n",
      "|   c7123|\n",
      "|   c7124|\n",
      "|   c7125|\n",
      "|   c7126|\n",
      "|   c7127|\n",
      "|   c7128|\n",
      "|   c7129|\n",
      "|   c7130|\n",
      "|   c7131|\n",
      "|   c7132|\n",
      "|   c7133|\n",
      "|   c7134|\n",
      "|   c7135|\n",
      "|   c7136|\n",
      "|   c7137|\n",
      "|   c7138|\n",
      "|   c7139|\n",
      "|   c7140|\n",
      "|   c7141|\n",
      "|   c7142|\n",
      "|   c7143|\n",
      "|   c7144|\n",
      "|   c7145|\n",
      "|   c7146|\n",
      "|   c7147|\n",
      "|   c7148|\n",
      "|   c7201|\n",
      "|   c7202|\n",
      "|   c7203|\n",
      "|   c7204|\n",
      "|   c7205|\n",
      "|   c7206|\n",
      "|   c7207|\n",
      "|   c7208|\n",
      "|   c7209|\n",
      "|   c7210|\n",
      "|   c7211|\n",
      "|   c7212|\n",
      "|   c7213|\n",
      "|   c7214|\n",
      "|   c7215|\n",
      "|   c7216|\n",
      "|   c7217|\n",
      "|   c7218|\n",
      "|   c7219|\n",
      "|   c7220|\n",
      "|   c7221|\n",
      "|   c7222|\n",
      "|   c7223|\n",
      "|   c7224|\n",
      "|   c7225|\n",
      "|   c7226|\n",
      "|   c7227|\n",
      "|   c7228|\n",
      "|   c7229|\n",
      "|   c7230|\n",
      "|   c7231|\n",
      "|   c7232|\n",
      "|   c7233|\n",
      "|   c7234|\n",
      "|   c7235|\n",
      "|   c7236|\n",
      "|   c7237|\n",
      "|   c7238|\n",
      "|   c7239|\n",
      "|   c7240|\n",
      "|   c7241|\n",
      "|   c7242|\n",
      "|   c7243|\n",
      "|   c7244|\n",
      "|   c7245|\n",
      "|   c7246|\n",
      "|   c7247|\n",
      "|   c7248|\n",
      "|   c7301|\n",
      "|   c7302|\n",
      "|   c7303|\n",
      "|   c7304|\n",
      "|   c7305|\n",
      "|   c7306|\n",
      "|   c7307|\n",
      "|   c7308|\n",
      "|   c7309|\n",
      "|   c7310|\n",
      "|   c7311|\n",
      "|   c7312|\n",
      "|   c7313|\n",
      "|   c7314|\n",
      "|   c7315|\n",
      "|   c7316|\n",
      "|   c7317|\n",
      "|   c7318|\n",
      "|   c7319|\n",
      "|   c7320|\n",
      "|   c7321|\n",
      "|   c7322|\n",
      "|   c7323|\n",
      "|   c7324|\n",
      "|   c7325|\n",
      "|   c7326|\n",
      "|   c7327|\n",
      "|   c7328|\n",
      "|   c7329|\n",
      "|   c7330|\n",
      "|   c7331|\n",
      "|   c7332|\n",
      "|   c7333|\n",
      "|   c7334|\n",
      "|   c7335|\n",
      "|   c7336|\n",
      "|   c7337|\n",
      "|   c7338|\n",
      "|   c7339|\n",
      "|   c7340|\n",
      "|   c7341|\n",
      "|   c7342|\n",
      "|   c7343|\n",
      "|   c7344|\n",
      "|   c7345|\n",
      "|   c7346|\n",
      "|   c7347|\n",
      "|   c7348|\n",
      "|       1|\n",
      "|       2|\n",
      "|basement|\n",
      "+--------+\n",
      "\n"
     ]
    }
   ],
   "source": [
    "spark.sql(\"SELECT node from df\").show(291)"
   ]
  },
  {
   "cell_type": "code",
   "execution_count": 25,
   "metadata": {},
   "outputs": [
    {
     "name": "stdout",
     "output_type": "stream",
     "text": [
      "+-------------------+\n",
      "|         start_time|\n",
      "+-------------------+\n",
      "|2018-01-01 01:00:00|\n",
      "|2018-01-01 01:00:00|\n",
      "|2018-01-01 01:00:00|\n",
      "|2018-01-01 01:00:00|\n",
      "|2018-01-01 01:00:00|\n",
      "|2018-01-01 01:00:00|\n",
      "|2018-01-01 01:00:00|\n",
      "|2018-01-01 01:00:00|\n",
      "|2018-01-01 01:00:00|\n",
      "|2018-01-01 01:00:00|\n",
      "|2018-01-01 01:00:00|\n",
      "|2018-01-01 01:00:00|\n",
      "|2018-01-01 01:00:00|\n",
      "|2018-01-01 01:00:00|\n",
      "|2018-01-01 01:00:00|\n",
      "|2018-01-01 01:00:00|\n",
      "|2018-01-01 01:00:00|\n",
      "|2018-01-01 01:00:00|\n",
      "|2018-01-01 01:00:00|\n",
      "|2018-01-01 01:00:00|\n",
      "|2018-01-01 01:00:00|\n",
      "|2018-01-01 01:00:00|\n",
      "|2018-01-01 01:00:00|\n",
      "|2018-01-01 01:00:00|\n",
      "|2018-01-01 01:00:00|\n",
      "|2018-01-01 01:00:00|\n",
      "|2018-01-01 01:00:00|\n",
      "|2018-01-01 01:00:00|\n",
      "|2018-01-01 01:00:00|\n",
      "|2018-01-01 01:00:00|\n",
      "|2018-01-01 01:00:00|\n",
      "|2018-01-01 01:00:00|\n",
      "|2018-01-01 01:00:00|\n",
      "|2018-01-01 01:00:00|\n",
      "|2018-01-01 01:00:00|\n",
      "|2018-01-01 01:00:00|\n",
      "|2018-01-01 01:00:00|\n",
      "|2018-01-01 01:00:00|\n",
      "|2018-01-01 01:00:00|\n",
      "|2018-01-01 01:00:00|\n",
      "|2018-01-01 01:00:00|\n",
      "|2018-01-01 01:00:00|\n",
      "|2018-01-01 01:00:00|\n",
      "|2018-01-01 01:00:00|\n",
      "|2018-01-01 01:00:00|\n",
      "|2018-01-01 01:00:00|\n",
      "|2018-01-01 01:00:00|\n",
      "|2018-01-01 01:00:00|\n",
      "|2018-01-01 01:00:00|\n",
      "|2018-01-01 01:00:00|\n",
      "|2018-01-01 01:00:00|\n",
      "|2018-01-01 01:00:00|\n",
      "|2018-01-01 01:00:00|\n",
      "|2018-01-01 01:00:00|\n",
      "|2018-01-01 01:00:00|\n",
      "|2018-01-01 01:00:00|\n",
      "|2018-01-01 01:00:00|\n",
      "|2018-01-01 01:00:00|\n",
      "|2018-01-01 01:00:00|\n",
      "|2018-01-01 01:00:00|\n",
      "|2018-01-01 01:00:00|\n",
      "|2018-01-01 01:00:00|\n",
      "|2018-01-01 01:00:00|\n",
      "|2018-01-01 01:00:00|\n",
      "|2018-01-01 01:00:00|\n",
      "|2018-01-01 01:00:00|\n",
      "|2018-01-01 01:00:00|\n",
      "|2018-01-01 01:00:00|\n",
      "|2018-01-01 01:00:00|\n",
      "|2018-01-01 01:00:00|\n",
      "|2018-01-01 01:00:00|\n",
      "|2018-01-01 01:00:00|\n",
      "|2018-01-01 01:00:00|\n",
      "|2018-01-01 01:00:00|\n",
      "|2018-01-01 01:00:00|\n",
      "|2018-01-01 01:00:00|\n",
      "|2018-01-01 01:00:00|\n",
      "|2018-01-01 01:00:00|\n",
      "|2018-01-01 01:00:00|\n",
      "|2018-01-01 01:00:00|\n",
      "|2018-01-01 01:00:00|\n",
      "|2018-01-01 01:00:00|\n",
      "|2018-01-01 01:00:00|\n",
      "|2018-01-01 01:00:00|\n",
      "|2018-01-01 01:00:00|\n",
      "|2018-01-01 01:00:00|\n",
      "|2018-01-01 01:00:00|\n",
      "|2018-01-01 01:00:00|\n",
      "|2018-01-01 01:00:00|\n",
      "|2018-01-01 01:00:00|\n",
      "|2018-01-01 01:00:00|\n",
      "|2018-01-01 01:00:00|\n",
      "|2018-01-01 01:00:00|\n",
      "|2018-01-01 01:00:00|\n",
      "|2018-01-01 01:00:00|\n",
      "|2018-01-01 01:00:00|\n",
      "|2018-01-01 01:00:00|\n",
      "|2018-01-01 01:00:00|\n",
      "|2018-01-01 01:00:00|\n",
      "|2018-01-01 01:00:00|\n",
      "|2018-01-01 01:00:00|\n",
      "|2018-01-01 01:00:00|\n",
      "|2018-01-01 01:00:00|\n",
      "|2018-01-01 01:00:00|\n",
      "|2018-01-01 01:00:00|\n",
      "|2018-01-01 01:00:00|\n",
      "|2018-01-01 01:00:00|\n",
      "|2018-01-01 01:00:00|\n",
      "|2018-01-01 01:00:00|\n",
      "|2018-01-01 01:00:00|\n",
      "|2018-01-01 01:00:00|\n",
      "|2018-01-01 01:00:00|\n",
      "|2018-01-01 01:00:00|\n",
      "|2018-01-01 01:00:00|\n",
      "|2018-01-01 01:00:00|\n",
      "|2018-01-01 01:00:00|\n",
      "|2018-01-01 01:00:00|\n",
      "|2018-01-01 01:00:00|\n",
      "|2018-01-01 01:00:00|\n",
      "|2018-01-01 01:00:00|\n",
      "|2018-01-01 01:00:00|\n",
      "|2018-01-01 01:00:00|\n",
      "|2018-01-01 01:00:00|\n",
      "|2018-01-01 01:00:00|\n",
      "|2018-01-01 01:00:00|\n",
      "|2018-01-01 01:00:00|\n",
      "|2018-01-01 01:00:00|\n",
      "|2018-01-01 01:00:00|\n",
      "|2018-01-01 01:00:00|\n",
      "|2018-01-01 01:00:00|\n",
      "|2018-01-01 01:00:00|\n",
      "|2018-01-01 01:00:00|\n",
      "|2018-01-01 01:00:00|\n",
      "|2018-01-01 01:00:00|\n",
      "|2018-01-01 01:00:00|\n",
      "|2018-01-01 01:00:00|\n",
      "|2018-01-01 01:00:00|\n",
      "|2018-01-01 01:00:00|\n",
      "|2018-01-01 01:00:00|\n",
      "|2018-01-01 01:00:00|\n",
      "|2018-01-01 01:00:00|\n",
      "|2018-01-01 01:00:00|\n",
      "|2018-01-01 01:00:00|\n",
      "|2018-01-01 01:00:00|\n",
      "|2018-01-01 01:00:00|\n",
      "|2018-01-01 01:00:00|\n",
      "|2018-01-01 01:00:00|\n",
      "|2018-01-01 01:00:00|\n",
      "|2018-01-01 01:00:00|\n",
      "|2018-01-01 01:00:00|\n",
      "|2018-01-01 01:00:00|\n",
      "|2018-01-01 01:00:00|\n",
      "|2018-01-01 01:00:00|\n",
      "|2018-01-01 01:00:00|\n",
      "|2018-01-01 01:00:00|\n",
      "|2018-01-01 01:00:00|\n",
      "|2018-01-01 01:00:00|\n",
      "|2018-01-01 01:00:00|\n",
      "|2018-01-01 01:00:00|\n",
      "|2018-01-01 01:00:00|\n",
      "|2018-01-01 01:00:00|\n",
      "|2018-01-01 01:00:00|\n",
      "|2018-01-01 01:00:00|\n",
      "|2018-01-01 01:00:00|\n",
      "|2018-01-01 01:00:00|\n",
      "|2018-01-01 01:00:00|\n",
      "|2018-01-01 01:00:00|\n",
      "|2018-01-01 01:00:00|\n",
      "|2018-01-01 01:00:00|\n",
      "|2018-01-01 01:00:00|\n",
      "|2018-01-01 01:00:00|\n",
      "|2018-01-01 01:00:00|\n",
      "|2018-01-01 01:00:00|\n",
      "|2018-01-01 01:00:00|\n",
      "|2018-01-01 01:00:00|\n",
      "|2018-01-01 01:00:00|\n",
      "|2018-01-01 01:00:00|\n",
      "|2018-01-01 01:00:00|\n",
      "|2018-01-01 01:00:00|\n",
      "|2018-01-01 01:00:00|\n",
      "|2018-01-01 01:00:00|\n",
      "|2018-01-01 01:00:00|\n",
      "|2018-01-01 01:00:00|\n",
      "|2018-01-01 01:00:00|\n",
      "|2018-01-01 01:00:00|\n",
      "|2018-01-01 01:00:00|\n",
      "|2018-01-01 01:00:00|\n",
      "|2018-01-01 01:00:00|\n",
      "|2018-01-01 01:00:00|\n",
      "|2018-01-01 01:00:00|\n",
      "|2018-01-01 01:00:00|\n",
      "|2018-01-01 01:00:00|\n",
      "|2018-01-01 01:00:00|\n",
      "|2018-01-01 01:00:00|\n",
      "|2018-01-01 01:00:00|\n",
      "|2018-01-01 01:00:00|\n",
      "|2018-01-01 01:00:00|\n",
      "|2018-01-01 01:00:00|\n",
      "|2018-01-01 01:00:00|\n",
      "|2018-01-01 01:00:00|\n",
      "|2018-01-01 01:00:00|\n",
      "|2018-01-01 01:00:00|\n",
      "|2018-01-01 01:00:00|\n",
      "|2018-01-01 01:00:00|\n",
      "|2018-01-01 01:00:00|\n",
      "|2018-01-01 01:00:00|\n",
      "|2018-01-01 01:00:00|\n",
      "|2018-01-01 01:00:00|\n",
      "|2018-01-01 01:00:00|\n",
      "|2018-01-01 01:00:00|\n",
      "|2018-01-01 01:00:00|\n",
      "|2018-01-01 01:00:00|\n",
      "|2018-01-01 01:00:00|\n",
      "|2018-01-01 01:00:00|\n",
      "|2018-01-01 01:00:00|\n",
      "|2018-01-01 01:00:00|\n",
      "|2018-01-01 01:00:00|\n",
      "|2018-01-01 01:00:00|\n",
      "|2018-01-01 01:00:00|\n",
      "|2018-01-01 01:00:00|\n",
      "|2018-01-01 01:00:00|\n",
      "|2018-01-01 01:00:00|\n",
      "|2018-01-01 01:00:00|\n",
      "|2018-01-01 01:00:00|\n",
      "|2018-01-01 01:00:00|\n",
      "|2018-01-01 01:00:00|\n",
      "|2018-01-01 01:00:00|\n",
      "|2018-01-01 01:00:00|\n",
      "|2018-01-01 01:00:00|\n",
      "|2018-01-01 01:00:00|\n",
      "|2018-01-01 01:00:00|\n",
      "|2018-01-01 01:00:00|\n",
      "|2018-01-01 01:00:00|\n",
      "|2018-01-01 01:00:00|\n",
      "|2018-01-01 01:00:00|\n",
      "|2018-01-01 01:00:00|\n",
      "|2018-01-01 01:00:00|\n",
      "|2018-01-01 01:00:00|\n",
      "|2018-01-01 01:00:00|\n",
      "|2018-01-01 01:00:00|\n",
      "|2018-01-01 01:00:00|\n",
      "|2018-01-01 01:00:00|\n",
      "|2018-01-01 01:00:00|\n",
      "|2018-01-01 01:00:00|\n",
      "|2018-01-01 01:00:00|\n",
      "|2018-01-01 01:00:00|\n",
      "|2018-01-01 01:00:00|\n",
      "|2018-01-01 01:00:00|\n",
      "|2018-01-01 01:00:00|\n",
      "|2018-01-01 01:00:00|\n",
      "|2018-01-01 01:00:00|\n",
      "|2018-01-01 01:00:00|\n",
      "|2018-01-01 01:00:00|\n",
      "|2018-01-01 01:00:00|\n",
      "|2018-01-01 01:00:00|\n",
      "|2018-01-01 01:00:00|\n",
      "|2018-01-01 01:00:00|\n",
      "|2018-01-01 01:00:00|\n",
      "|2018-01-01 01:00:00|\n",
      "|2018-01-01 01:00:00|\n",
      "|2018-01-01 01:00:00|\n",
      "|2018-01-01 01:00:00|\n",
      "|2018-01-01 01:00:00|\n",
      "|2018-01-01 01:00:00|\n",
      "|2018-01-01 01:00:00|\n",
      "|2018-01-01 01:00:00|\n",
      "|2018-01-01 01:00:00|\n",
      "|2018-01-01 01:00:00|\n",
      "|2018-01-01 01:00:00|\n",
      "|2018-01-01 01:00:00|\n",
      "|2018-01-01 01:00:00|\n",
      "|2018-01-01 01:00:00|\n",
      "|2018-01-01 01:00:00|\n",
      "|2018-01-01 01:00:00|\n",
      "|2018-01-01 01:00:00|\n",
      "|2018-01-01 01:00:00|\n",
      "|2018-01-01 01:00:00|\n",
      "|2018-01-01 01:00:00|\n",
      "|2018-01-01 01:00:00|\n",
      "|2018-01-01 01:00:00|\n",
      "|2018-01-01 01:00:00|\n",
      "|2018-01-01 01:00:00|\n",
      "|2018-01-01 01:00:00|\n",
      "|2018-01-01 01:00:00|\n",
      "|2018-01-01 01:00:00|\n",
      "|2018-01-01 01:00:00|\n",
      "|2018-01-01 01:00:00|\n",
      "|2018-01-01 01:00:00|\n",
      "|2018-01-01 01:00:00|\n",
      "|2018-01-01 01:00:00|\n",
      "|2018-01-01 01:00:00|\n",
      "+-------------------+\n",
      "\n"
     ]
    }
   ],
   "source": [
    "spark.sql(\"SELECT start_time from df\").show()"
   ]
  },
  {
   "cell_type": "code",
   "execution_count": 26,
   "metadata": {},
   "outputs": [
    {
     "name": "stdout",
     "output_type": "stream",
     "text": [
      "+-----------------+\n",
      "|count(start_time)|\n",
      "+-----------------+\n",
      "|              291|\n",
      "+-----------------+\n",
      "\n"
     ]
    }
   ],
   "source": [
    "spark.sql(\"SELECT COUNT(start_time) from df\").show()"
   ]
  },
  {
   "cell_type": "markdown",
   "metadata": {},
   "source": [
    "## Ejemplo para una serie temporal concreta (consumo del nodo c6601 en KW)"
   ]
  },
  {
   "cell_type": "code",
   "execution_count": 30,
   "metadata": {},
   "outputs": [],
   "source": [
    "power_c6601 = spark.sql('''SELECT power FROM df WHERE node LIKE \"c6601\"''').collect()"
   ]
  },
  {
   "cell_type": "code",
   "execution_count": 32,
   "metadata": {},
   "outputs": [
    {
     "data": {
      "text/plain": [
       "list"
      ]
     },
     "execution_count": 32,
     "metadata": {},
     "output_type": "execute_result"
    }
   ],
   "source": [
    "type(power_c6601)"
   ]
  },
  {
   "cell_type": "code",
   "execution_count": 5,
   "metadata": {},
   "outputs": [],
   "source": [
    "power_c6601 = spark.sql('''SELECT power FROM df WHERE node LIKE \"c6601\"''').toPandas()"
   ]
  },
  {
   "cell_type": "code",
   "execution_count": 6,
   "metadata": {},
   "outputs": [
    {
     "data": {
      "text/html": [
       "<div>\n",
       "<style scoped>\n",
       "    .dataframe tbody tr th:only-of-type {\n",
       "        vertical-align: middle;\n",
       "    }\n",
       "\n",
       "    .dataframe tbody tr th {\n",
       "        vertical-align: top;\n",
       "    }\n",
       "\n",
       "    .dataframe thead th {\n",
       "        text-align: right;\n",
       "    }\n",
       "</style>\n",
       "<table border=\"1\" class=\"dataframe\">\n",
       "  <thead>\n",
       "    <tr style=\"text-align: right;\">\n",
       "      <th></th>\n",
       "      <th>power</th>\n",
       "    </tr>\n",
       "  </thead>\n",
       "  <tbody>\n",
       "    <tr>\n",
       "      <th>0</th>\n",
       "      <td>{2018-07-05 16:38:35: 72.0, 2021-03-14 16:53:0...</td>\n",
       "    </tr>\n",
       "  </tbody>\n",
       "</table>\n",
       "</div>"
      ],
      "text/plain": [
       "                                               power\n",
       "0  {2018-07-05 16:38:35: 72.0, 2021-03-14 16:53:0..."
      ]
     },
     "execution_count": 6,
     "metadata": {},
     "output_type": "execute_result"
    }
   ],
   "source": [
    "power_c6601.head(1)"
   ]
  },
  {
   "cell_type": "code",
   "execution_count": 8,
   "metadata": {},
   "outputs": [
    {
     "data": {
      "text/plain": [
       "41943288"
      ]
     },
     "execution_count": 8,
     "metadata": {},
     "output_type": "execute_result"
    }
   ],
   "source": [
    "import sys\n",
    "sys.getsizeof(power_c6601)"
   ]
  },
  {
   "cell_type": "code",
   "execution_count": 6,
   "metadata": {},
   "outputs": [],
   "source": [
    "power_c6601_dict=power_c6601.iloc[0,0]"
   ]
  },
  {
   "cell_type": "code",
   "execution_count": 7,
   "metadata": {},
   "outputs": [
    {
     "data": {
      "text/plain": [
       "1350950"
      ]
     },
     "execution_count": 7,
     "metadata": {},
     "output_type": "execute_result"
    }
   ],
   "source": [
    "len(power_c6601_dict.keys())"
   ]
  },
  {
   "cell_type": "code",
   "execution_count": 16,
   "metadata": {},
   "outputs": [],
   "source": [
    "power_c6601_df = pd.DataFrame([[time, power_c6601_dict[time]] for time in power_c6601_dict.keys()], columns =[\"date\", \"value\"])"
   ]
  },
  {
   "cell_type": "code",
   "execution_count": 19,
   "metadata": {},
   "outputs": [],
   "source": [
    "power_c6601_df.date = pd.to_datetime(power_c6601_df.date)"
   ]
  },
  {
   "cell_type": "code",
   "execution_count": 21,
   "metadata": {},
   "outputs": [
    {
     "data": {
      "text/html": [
       "<div>\n",
       "<style scoped>\n",
       "    .dataframe tbody tr th:only-of-type {\n",
       "        vertical-align: middle;\n",
       "    }\n",
       "\n",
       "    .dataframe tbody tr th {\n",
       "        vertical-align: top;\n",
       "    }\n",
       "\n",
       "    .dataframe thead th {\n",
       "        text-align: right;\n",
       "    }\n",
       "</style>\n",
       "<table border=\"1\" class=\"dataframe\">\n",
       "  <thead>\n",
       "    <tr style=\"text-align: right;\">\n",
       "      <th></th>\n",
       "      <th>date</th>\n",
       "      <th>value</th>\n",
       "    </tr>\n",
       "  </thead>\n",
       "  <tbody>\n",
       "    <tr>\n",
       "      <th>0</th>\n",
       "      <td>2018-07-05 16:38:35</td>\n",
       "      <td>72.0</td>\n",
       "    </tr>\n",
       "    <tr>\n",
       "      <th>1</th>\n",
       "      <td>2021-03-14 16:53:06</td>\n",
       "      <td>72.0</td>\n",
       "    </tr>\n",
       "    <tr>\n",
       "      <th>2</th>\n",
       "      <td>2020-08-13 15:30:12</td>\n",
       "      <td>72.0</td>\n",
       "    </tr>\n",
       "    <tr>\n",
       "      <th>3</th>\n",
       "      <td>2018-06-26 07:36:00</td>\n",
       "      <td>108.0</td>\n",
       "    </tr>\n",
       "    <tr>\n",
       "      <th>4</th>\n",
       "      <td>2018-05-15 23:11:17</td>\n",
       "      <td>72.0</td>\n",
       "    </tr>\n",
       "  </tbody>\n",
       "</table>\n",
       "</div>"
      ],
      "text/plain": [
       "                 date  value\n",
       "0 2018-07-05 16:38:35   72.0\n",
       "1 2021-03-14 16:53:06   72.0\n",
       "2 2020-08-13 15:30:12   72.0\n",
       "3 2018-06-26 07:36:00  108.0\n",
       "4 2018-05-15 23:11:17   72.0"
      ]
     },
     "execution_count": 21,
     "metadata": {},
     "output_type": "execute_result"
    }
   ],
   "source": [
    "power_c6601_df.head(5)"
   ]
  },
  {
   "cell_type": "code",
   "execution_count": 28,
   "metadata": {},
   "outputs": [
    {
     "data": {
      "text/plain": [
       "count   1350950.00\n",
       "mean         94.27\n",
       "std          38.42\n",
       "min          54.00\n",
       "25%          72.00\n",
       "50%          72.00\n",
       "75%         108.00\n",
       "max         378.00\n",
       "Name: value, dtype: float64"
      ]
     },
     "execution_count": 28,
     "metadata": {},
     "output_type": "execute_result"
    }
   ],
   "source": [
    "power_c6601_df.value.describe()"
   ]
  },
  {
   "cell_type": "markdown",
   "metadata": {},
   "source": [
    "Podemos notar que las fechas estan desordenadas en el .parquet original. Sera conveniente ordenarlo para manipularlo apropiadamente"
   ]
  },
  {
   "cell_type": "code",
   "execution_count": 22,
   "metadata": {
    "scrolled": true
   },
   "outputs": [
    {
     "data": {
      "text/plain": [
       "date     datetime64[ns]\n",
       "value           float64\n",
       "dtype: object"
      ]
     },
     "execution_count": 22,
     "metadata": {},
     "output_type": "execute_result"
    }
   ],
   "source": [
    "power_c6601_df.dtypes"
   ]
  },
  {
   "cell_type": "code",
   "execution_count": 24,
   "metadata": {},
   "outputs": [],
   "source": [
    "import seaborn as sns"
   ]
  },
  {
   "cell_type": "code",
   "execution_count": 26,
   "metadata": {},
   "outputs": [
    {
     "data": {
      "image/png": "[encoded data removed]",
      "text/plain": [
       "<Figure size 1080x432 with 1 Axes>"
      ]
     },
     "metadata": {
      "needs_background": "light"
     },
     "output_type": "display_data"
    }
   ],
   "source": [
    "fig, ax = plt.subplots(figsize=(15, 6))\n",
    "sns.lineplot(power_c6601_df['date'], power_c6601_df['value'] )\n",
    "\n",
    "ax.set_title('Electric Power Consumption (KW) against time', fontsize = 20, loc='center', fontdict=dict(weight='bold'))\n",
    "ax.set_xlabel('Time', fontsize = 16, fontdict=dict(weight='bold'))\n",
    "ax.set_ylabel('Electric Consumption/ KW', fontsize = 16, fontdict=dict(weight='bold'))\n",
    "plt.tick_params(axis='y', which='major', labelsize=16)\n",
    "plt.tick_params(axis='x', which='major', labelsize=16)"
   ]
  },
  {
   "cell_type": "code",
   "execution_count": 51,
   "metadata": {},
   "outputs": [
    {
     "data": {
      "image/png": "[encoded data removed]",
      "text/plain": [
       "<Figure size 1080x432 with 1 Axes>"
      ]
     },
     "metadata": {
      "needs_background": "light"
     },
     "output_type": "display_data"
    }
   ],
   "source": [
    "power_c6601_df_subset = power_c6601_df[(power_c6601_df.date>\"2018-05-01\") & (power_c6601_df.date<\"2018-06-15\")]\n",
    "fig, ax = plt.subplots(figsize=(15, 6))\n",
    "sns.lineplot(power_c6601_df_subset['date'], power_c6601_df_subset['value'] )\n",
    "\n",
    "ax.set_title('Electric Power Consumption (KW) against time', fontsize = 20, loc='center', fontdict=dict(weight='bold'))\n",
    "ax.set_xlabel('Time', fontsize = 16, fontdict=dict(weight='bold'))\n",
    "ax.set_ylabel('Electric Consumption/ KW', fontsize = 16, fontdict=dict(weight='bold'))\n",
    "plt.tick_params(axis='y', which='major', labelsize=16)\n",
    "plt.tick_params(axis='x', which='major', labelsize=16)"
   ]
  },
  {
   "cell_type": "code",
   "execution_count": 57,
   "metadata": {},
   "outputs": [],
   "source": [
    "power_c6601_df_subset = power_c6601_df[(power_c6601_df.date>\"2018-06-15\")].reset_index(drop=True)"
   ]
  },
  {
   "cell_type": "code",
   "execution_count": 58,
   "metadata": {},
   "outputs": [
    {
     "data": {
      "text/html": [
       "<div>\n",
       "<style scoped>\n",
       "    .dataframe tbody tr th:only-of-type {\n",
       "        vertical-align: middle;\n",
       "    }\n",
       "\n",
       "    .dataframe tbody tr th {\n",
       "        vertical-align: top;\n",
       "    }\n",
       "\n",
       "    .dataframe thead th {\n",
       "        text-align: right;\n",
       "    }\n",
       "</style>\n",
       "<table border=\"1\" class=\"dataframe\">\n",
       "  <thead>\n",
       "    <tr style=\"text-align: right;\">\n",
       "      <th></th>\n",
       "      <th>date</th>\n",
       "      <th>value</th>\n",
       "    </tr>\n",
       "  </thead>\n",
       "  <tbody>\n",
       "    <tr>\n",
       "      <th>0</th>\n",
       "      <td>2018-06-15 00:01:07</td>\n",
       "      <td>72.00</td>\n",
       "    </tr>\n",
       "    <tr>\n",
       "      <th>1</th>\n",
       "      <td>2018-06-15 00:02:19</td>\n",
       "      <td>72.00</td>\n",
       "    </tr>\n",
       "    <tr>\n",
       "      <th>2</th>\n",
       "      <td>2018-06-15 00:03:31</td>\n",
       "      <td>72.00</td>\n",
       "    </tr>\n",
       "    <tr>\n",
       "      <th>3</th>\n",
       "      <td>2018-06-15 00:04:43</td>\n",
       "      <td>72.00</td>\n",
       "    </tr>\n",
       "    <tr>\n",
       "      <th>4</th>\n",
       "      <td>2018-06-15 00:05:55</td>\n",
       "      <td>72.00</td>\n",
       "    </tr>\n",
       "    <tr>\n",
       "      <th>...</th>\n",
       "      <td>...</td>\n",
       "      <td>...</td>\n",
       "    </tr>\n",
       "    <tr>\n",
       "      <th>1185734</th>\n",
       "      <td>2021-05-31 23:54:21</td>\n",
       "      <td>72.00</td>\n",
       "    </tr>\n",
       "    <tr>\n",
       "      <th>1185735</th>\n",
       "      <td>2021-05-31 23:55:41</td>\n",
       "      <td>72.00</td>\n",
       "    </tr>\n",
       "    <tr>\n",
       "      <th>1185736</th>\n",
       "      <td>2021-05-31 23:57:02</td>\n",
       "      <td>72.00</td>\n",
       "    </tr>\n",
       "    <tr>\n",
       "      <th>1185737</th>\n",
       "      <td>2021-05-31 23:58:23</td>\n",
       "      <td>72.00</td>\n",
       "    </tr>\n",
       "    <tr>\n",
       "      <th>1185738</th>\n",
       "      <td>2021-05-31 23:59:44</td>\n",
       "      <td>72.00</td>\n",
       "    </tr>\n",
       "  </tbody>\n",
       "</table>\n",
       "<p>1185739 rows × 2 columns</p>\n",
       "</div>"
      ],
      "text/plain": [
       "                       date  value\n",
       "0       2018-06-15 00:01:07  72.00\n",
       "1       2018-06-15 00:02:19  72.00\n",
       "2       2018-06-15 00:03:31  72.00\n",
       "3       2018-06-15 00:04:43  72.00\n",
       "4       2018-06-15 00:05:55  72.00\n",
       "...                     ...    ...\n",
       "1185734 2021-05-31 23:54:21  72.00\n",
       "1185735 2021-05-31 23:55:41  72.00\n",
       "1185736 2021-05-31 23:57:02  72.00\n",
       "1185737 2021-05-31 23:58:23  72.00\n",
       "1185738 2021-05-31 23:59:44  72.00\n",
       "\n",
       "[1185739 rows x 2 columns]"
      ]
     },
     "execution_count": 58,
     "metadata": {},
     "output_type": "execute_result"
    }
   ],
   "source": [
    "power_c6601_df_subset"
   ]
  },
  {
   "cell_type": "code",
   "execution_count": 59,
   "metadata": {},
   "outputs": [
    {
     "data": {
      "text/plain": [
       "0"
      ]
     },
     "execution_count": 59,
     "metadata": {},
     "output_type": "execute_result"
    }
   ],
   "source": [
    "power_c6601_df_subset.value.isna().sum()"
   ]
  },
  {
   "cell_type": "code",
   "execution_count": 60,
   "metadata": {},
   "outputs": [],
   "source": [
    "#Fuera de esa region donde aparece un outlayer extrano, parece que no tenemos mas problema"
   ]
  },
  {
   "cell_type": "markdown",
   "metadata": {},
   "source": [
    "Parece haber un mes sin medidas (entre mitad de mayo y mitad de junio de 2018). Vamos a restringir por tanto "
   ]
  },
  {
   "cell_type": "code",
   "execution_count": 61,
   "metadata": {},
   "outputs": [],
   "source": [
    "power_c6601_df_subset.to_parquet(\"c6601.parquet\")"
   ]
  },
  {
   "cell_type": "markdown",
   "metadata": {},
   "source": [
    "El Dataset tiene mucha granularidad, vamos a agrupar semanalmente para obtener un plot que sea interpretable. Despues, representaremos otro plot de una sola semana con la granularidad original, que junto a los diagramas de cajas y otros indicadores estadisticos, nos permitira entender si existe algun patron con la granularidad original (aproximadamente medidas cada 81 segundos)"
   ]
  },
  {
   "cell_type": "code",
   "execution_count": null,
   "metadata": {},
   "outputs": [],
   "source": []
  },
  {
   "cell_type": "markdown",
   "metadata": {},
   "source": [
    "## Conclusiones rapidas\n",
    "\n",
    "Tenemos 288 nodos, 2 consumos de enfriadoras y basement(?)\n",
    "\n",
    "Las columnas start y end time contienen todo el rato mismo valor\n"
   ]
  },
  {
   "cell_type": "markdown",
   "metadata": {},
   "source": [
    "## Funciones rapidas a sucio\n"
   ]
  },
  {
   "cell_type": "code",
   "execution_count": 23,
   "metadata": {},
   "outputs": [
    {
     "data": {
      "text/html": [
       "<div>\n",
       "<style scoped>\n",
       "    .dataframe tbody tr th:only-of-type {\n",
       "        vertical-align: middle;\n",
       "    }\n",
       "\n",
       "    .dataframe tbody tr th {\n",
       "        vertical-align: top;\n",
       "    }\n",
       "\n",
       "    .dataframe thead th {\n",
       "        text-align: right;\n",
       "    }\n",
       "</style>\n",
       "<table border=\"1\" class=\"dataframe\">\n",
       "  <thead>\n",
       "    <tr style=\"text-align: right;\">\n",
       "      <th></th>\n",
       "      <th>date</th>\n",
       "      <th>value</th>\n",
       "    </tr>\n",
       "  </thead>\n",
       "  <tbody>\n",
       "    <tr>\n",
       "      <th>0</th>\n",
       "      <td>a</td>\n",
       "      <td>1</td>\n",
       "    </tr>\n",
       "    <tr>\n",
       "      <th>1</th>\n",
       "      <td>b</td>\n",
       "      <td>2</td>\n",
       "    </tr>\n",
       "  </tbody>\n",
       "</table>\n",
       "</div>"
      ],
      "text/plain": [
       "  date  value\n",
       "0    a      1\n",
       "1    b      2"
      ]
     },
     "execution_count": 23,
     "metadata": {},
     "output_type": "execute_result"
    }
   ],
   "source": [
    "dummy_dict={\"a\":1, \"b\": 2}\n",
    "pd.DataFrame([[key, dummy_dict[key]] for key in dummy_dict.keys()], columns =[\"date\", \"value\"])"
   ]
  }
 ],
 "metadata": {
  "kernelspec": {
   "display_name": "Python 3",
   "language": "python",
   "name": "python3"
  },
  "language_info": {
   "codemirror_mode": {
    "name": "ipython",
    "version": 3
   },
   "file_extension": ".py",
   "mimetype": "text/x-python",
   "name": "python",
   "nbconvert_exporter": "python",
   "pygments_lexer": "ipython3",
   "version": "3.7.6"
  }
 },
 "nbformat": 4,
 "nbformat_minor": 4
}
